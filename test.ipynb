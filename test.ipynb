{
 "cells": [
  {
   "cell_type": "code",
   "execution_count": 1,
   "metadata": {},
   "outputs": [],
   "source": [
    "from mistral.model import Transformer , ModelArgs\n",
    "import torch\n",
    "from torch import nn\n",
    "import torch.nn.functional as F\n",
    "import torch.optim as optim\n",
    "from torch.utils.data import DataLoader\n",
    "# import pytorch_lightning as pl\n",
    "# from typing import Tuple\n",
    "# from lightning.pytorch.callbacks import TQDMProgressBar\n",
    "import math\n",
    "# import torchmetrics\n",
    "# from torchmetrics.regression import MeanSquaredError"
   ]
  },
  {
   "cell_type": "code",
   "execution_count": 4,
   "metadata": {},
   "outputs": [],
   "source": [
    "from torchsummary import summary"
   ]
  },
  {
   "cell_type": "code",
   "execution_count": 2,
   "metadata": {},
   "outputs": [],
   "source": [
    "import mmap\n",
    "import random"
   ]
  },
  {
   "cell_type": "code",
   "execution_count": 3,
   "metadata": {},
   "outputs": [],
   "source": [
    "from tokenizers import models, processors, trainers, Tokenizer,normalizers,pre_tokenizers,decoders\n",
    "import numpy\n",
    "from transformers import PreTrainedTokenizerFast, LlamaTokenizerFast\n",
    "import pathlib\n",
    "import os\n",
    "from tokenizers import SentencePieceBPETokenizer\n",
    "import sentencepiece as spm\n",
    "from itertools import islice ,cycle"
   ]
  },
  {
   "cell_type": "code",
   "execution_count": 4,
   "metadata": {},
   "outputs": [],
   "source": [
    "path = \"../../mar-tokenizer\""
   ]
  },
  {
   "cell_type": "code",
   "execution_count": 6,
   "metadata": {},
   "outputs": [],
   "source": [
    "import json"
   ]
  },
  {
   "cell_type": "code",
   "execution_count": 100,
   "metadata": {},
   "outputs": [
    {
     "name": "stdout",
     "output_type": "stream",
     "text": [
      "Vocabulary Array:\n",
      "[['<unk>', 0.0], ['<s>', 0.0], ['</s>', 0.0], ['े', -3.198136806488037], ['ी', -3.234046697616577], ['▁', -3.6190669536590576], ['व', -3.791450023651123], ['ा', -3.8097009658813477], ['ल', -3.8552277088165283], ['र', -4.030426979064941], ['▁क', -4.096604347229004], ['.', -4.098381519317627], ['▁आहे', -4.098432540893555], ['न', -4.101080417633057], ['ो', -4.182425022125244], ['श', -4.188457012176514], ['च', -4.234373092651367], ['▁स', -4.389428615570068], [',', -4.434492588043213], ['्या', -4.54027795791626], ['त', -4.6261701583862305], ['ड', -4.655073642730713], ['ही', -4.68520975112915], ['▁केल', -4.7505269050598145], ['ू', -4.913422107696533], ['▁प', -4.955512046813965], ['ाठ', -4.957014083862305], ['म', -5.010734558105469], ['स', -5.011702537536621], ['्य', -5.055701732635498], ['ण', -5.057131290435791], ['ाल', -5.062128067016602], ['क', -5.07785177230835], ['ग', -5.083362102508545], ['▁म', -5.091159343719482], ['▁न', -5.118353843688965], ['▁अ', -5.156129837036133], ['▁मीडिया', -5.194016456604004], ['▁पोलिस', -5.194025039672852], ['▁प्र', -5.19560432434082], ['ण्यास', -5.1956562995910645], ['त्या', -5.203145980834961], ['ि', -5.2032952308654785], ['▁वि', -5.22069787979126], ['▁अस', -5.25075626373291], ['▁ल', -5.257070541381836], ['वा', -5.331004619598389], ['▁व', -5.332678318023682], ['ात', -5.338829517364502], ['द', -5.357605457305908], ['ं', -5.371214389801025], ['ु', -5.396023750305176], ['ला', -5.41054105758667], ['ब', -5.423957824707031], ['ज', -5.480068206787109], ['ोण', -5.48902702331543], ['-', -5.527349948883057], ['णाऱ्या', -5.527349948883057], ['ळ', -5.527349948883057], ['▁संघटनांनी', -5.527349948883057], ['▁उ', -5.527351379394531], ['्याच', -5.530144691467285], ['क्', -5.535965919494629], ['ांनी', -5.5379133224487305], ['▁प्रकारच', -5.5380449295043945], ['▁कार', -5.556464195251465], ['टर', -5.569016933441162], ['▁मा', -5.577760219573975], ['र्', -5.59059476852417], ['ोर', -5.591390132904053], ['▁ग', -5.593201160430908], ['ंत', -5.612587928771973], ['▁आ', -5.651533603668213], ['िं', -5.659958839416504], ['▁च', -5.682860851287842], ['ासन', -5.695425510406494], ['▁की', -5.698838710784912], ['्ह', -5.711410045623779], ['ह', -5.771453857421875], ['ती', -5.7780327796936035], ['हि', -5.8039422035217285], ['ट', -5.837793350219727], ['मध', -5.859158515930176], ['ठ', -5.877134323120117], ['ध', -5.888587951660156], ['णा', -5.897660255432129], ['ील', -5.973944187164307], ['प', -5.977757453918457], ['अ', -5.990391254425049], ['▁ह', -5.994476318359375], ['▁शे', -6.027280330657959], ['ख', -6.027349948883057], ['घ', -6.027349948883057], ['झ', -6.027349948883057], ['४', -6.027349948883057], ['▁एटीएम', -6.027349948883057], ['▁१', -6.027349948883057], ['ाई', -6.027351379394531], ['ॅ', -6.027352333068848], ['▁आवाहन', -6.027352333068848], ['दर्शन', -6.027353763580322], ['ट्रॉली', -6.027354717254639], ['▁पसरव', -6.027462005615234], ['▁दिल', -6.027617931365967], ['भाग', -6.028197765350342], ['▁राज्यात', -6.02960729598999], ['द्', -6.029763221740723], ['▁धा', -6.031162738800049], ['▁करू', -6.033496856689453], ['▁बं', -6.03418493270874], ['क्षण', -6.035065174102783], ['वि', -6.038300514221191], ['▁शेत', -6.0409746170043945], ['ुक', -6.049130439758301], ['ट्र', -6.057026386260986], ['्थ', -6.0699238777160645], ['▁मो', -6.087465763092041], ['▁या', -6.088471412658691], ['टी', -6.092829704284668], ['िल', -6.092902183532715], ['▁ब', -6.103559494018555], ['▁ज', -6.1095662117004395], ['ली', -6.110528945922852], ['कां', -6.129710674285889], ['बर', -6.129773139953613], ['▁हो', -6.151933670043945], ['▁आर', -6.177620887756348], ['गत', -6.246683597564697], ['▁आंदोलना', -6.251964569091797], ['दी', -6.256585121154785], ['मु', -6.258923530578613], ['शा', -6.26564359664917], ['कू', -6.268863201141357], ['▁ठ', -6.274503231048584], ['▁आल', -6.3119378089904785], ['ाग', -6.330749034881592], ['नि', -6.356349468231201], ['ाय', -6.3879780769348145], ['ंनी', -6.399325847625732], ['▁त्यां', -6.416606426239014], ['ध्य', -6.420991897583008], ['िक', -6.465760707855225], ['ेश', -6.469394683837891], ['या', -6.553012847900391], ['ते', -6.574105262756348], ['चा', -6.596765041351318], ['▁आंदोलन', -6.6046600341796875], ['्यात', -6.617892742156982], ['रि', -6.644131183624268], ['ाच', -6.677464962005615], ['ूर', -6.73527193069458], ['▁का', -6.744552135467529], ['तच', -6.784526348114014], ['्यम', -6.786521911621094], ['ठे', -6.806637763977051], ['गि', -6.81339693069458], ['▁त्या', -6.8422040939331055], ['रा', -6.868304252624512], ['ंव', -6.873676300048828], ['नी', -6.898252487182617], ['था', -6.925732135772705], ['का', -6.9539947509765625], ['तह', -6.962111473083496], ['ार', -6.965326309204102], ['▁प्रकार', -6.984320163726807], ['क्ष', -7.0079121589660645], ['▁राज्य', -7.021665573120117], ['भ', -7.02518892288208], ['ट्', -7.025625228881836], ['रकारच', -7.027314186096191], ['ॉ', -7.027339458465576], [':', -7.027349948883057], ['इ', -7.027349948883057], ['ओ', -7.027349948883057], ['औ', -7.027349948883057], ['ढ', -7.027349948883057], ['फ', -7.027349948883057], ['५', -7.027349948883057], ['ै', -7.027353286743164], ['प्रद', -7.0275044441223145], ['त्', -7.031057357788086], ['प्', -7.04274320602417], ['▁पोल', -7.04673433303833], ['▁करण', -7.052454948425293], ['सा', -7.072572231292725], ['्यान', -7.072592258453369], ['से', -7.076502323150635], ['्र', -7.089873790740967], ['डि', -7.123448371887207], ['्यां', -7.135494709014893], ['्', -7.29254674911499], ['य', -7.817433834075928], ['१', -8.385090827941895], ['ई', -8.385190963745117], ['ष', -8.38529109954834], ['ऱ', -8.385391235351562], ['थ', -8.385490417480469], ['उ', -8.385590553283691], ['ए', -8.385690689086914], ['आ', -8.385790824890137]]\n",
      "\n",
      "Count of Items in Vocabulary Array: 200\n"
     ]
    }
   ],
   "source": [
    "with open('../../mar-tokenizer/tokenizer.json', 'r') as file:\n",
    "    data = json.load(file)\n",
    "\n",
    "# Access the 'model' key and its 'vocab' array\n",
    "vocab_array = data['model']['vocab']\n",
    "\n",
    "# Count the items inside the 'vocab' array\n",
    "vocab_count = len(vocab_array)\n",
    "\n",
    "# Print the 'vocab' array and its count\n",
    "print(\"Vocabulary Array:\")\n",
    "print(vocab_array)\n",
    "\n",
    "print(\"\\nCount of Items in Vocabulary Array:\", vocab_count)"
   ]
  },
  {
   "cell_type": "code",
   "execution_count": 5,
   "metadata": {},
   "outputs": [],
   "source": [
    "device = \"cuda\""
   ]
  },
  {
   "cell_type": "code",
   "execution_count": 6,
   "metadata": {},
   "outputs": [],
   "source": [
    "tokenizer_loaded = LlamaTokenizerFast.from_pretrained(path)"
   ]
  },
  {
   "cell_type": "code",
   "execution_count": 7,
   "metadata": {},
   "outputs": [],
   "source": [
    "tokens = tokenizer_loaded(\"डिसेंबर ह्या दिवशी श्रीकृष्णाने अर्जुनाला गीता सांगितली.\")\n",
    "# tokens"
   ]
  },
  {
   "cell_type": "code",
   "execution_count": 8,
   "metadata": {},
   "outputs": [],
   "source": [
    "arg = ModelArgs(dim=1024,\n",
    "                n_layers=6,\n",
    "                head_dim=4,\n",
    "                hidden_dim=4096,\n",
    "                n_heads=6,\n",
    "                n_kv_heads=2,\n",
    "                norm_eps=1e-6,\n",
    "                max_batch_size=8,\n",
    "                vocab_size=200,\n",
    "                sliding_window=4,\n",
    "                )\n",
    "\n",
    "# arg = ModelArgs(dim=1024,\n",
    "#                 n_layers=6,\n",
    "#                 head_dim=4,\n",
    "#                 hidden_dim=4096,\n",
    "#                 n_heads=6,\n",
    "#                 n_kv_heads=2,\n",
    "#                 norm_eps=1e-6,\n",
    "#                 max_batch_size=3,\n",
    "#                 vocab_size=20000,\n",
    "#                 sliding_window=4,\n",
    "#                 )"
   ]
  },
  {
   "cell_type": "code",
   "execution_count": 35,
   "metadata": {},
   "outputs": [],
   "source": [
    "dim= 1024\n",
    "n_layers= 6\n",
    "head_dim= 4\n",
    "hidden_dim= 512\n",
    "n_heads= 4\n",
    "n_kv_heads= 2\n",
    "norm_eps= 1e-6\n",
    "vocab_size= 30000\n",
    "\n",
    "max_batch_size= 2\n",
    "\n",
    "# For rotary embeddings. If not set, will be infered from sliding window.\n",
    "rope_theta=  None\n",
    "# If this is set, use sliding window attention rotating cache.\n",
    "sliding_window=  None\n",
    "# If this is set, we will use MoE layers instead of dense layers.\n",
    "moe=  None"
   ]
  },
  {
   "cell_type": "code",
   "execution_count": 9,
   "metadata": {},
   "outputs": [],
   "source": [
    "model = Transformer(args=arg).to(device)"
   ]
  },
  {
   "cell_type": "code",
   "execution_count": 9,
   "metadata": {},
   "outputs": [
    {
     "name": "stdout",
     "output_type": "stream",
     "text": [
      "tok_embeddings.weight: torch.Size([200, 1024])\n",
      "norm.weight: torch.Size([1024])\n",
      "output.weight: torch.Size([200, 1024])\n",
      "layers.0.attention.wq.weight: torch.Size([24, 1024])\n",
      "layers.0.attention.wk.weight: torch.Size([8, 1024])\n",
      "layers.0.attention.wv.weight: torch.Size([8, 1024])\n",
      "layers.0.attention.wo.weight: torch.Size([1024, 24])\n",
      "layers.0.attention_norm.weight: torch.Size([1024])\n",
      "layers.0.ffn_norm.weight: torch.Size([1024])\n",
      "layers.0.feed_forward.w1.weight: torch.Size([4096, 1024])\n",
      "layers.0.feed_forward.w2.weight: torch.Size([1024, 4096])\n",
      "layers.0.feed_forward.w3.weight: torch.Size([4096, 1024])\n",
      "layers.1.attention.wq.weight: torch.Size([24, 1024])\n",
      "layers.1.attention.wk.weight: torch.Size([8, 1024])\n",
      "layers.1.attention.wv.weight: torch.Size([8, 1024])\n",
      "layers.1.attention.wo.weight: torch.Size([1024, 24])\n",
      "layers.1.attention_norm.weight: torch.Size([1024])\n",
      "layers.1.ffn_norm.weight: torch.Size([1024])\n",
      "layers.1.feed_forward.w1.weight: torch.Size([4096, 1024])\n",
      "layers.1.feed_forward.w2.weight: torch.Size([1024, 4096])\n",
      "layers.1.feed_forward.w3.weight: torch.Size([4096, 1024])\n",
      "layers.2.attention.wq.weight: torch.Size([24, 1024])\n",
      "layers.2.attention.wk.weight: torch.Size([8, 1024])\n",
      "layers.2.attention.wv.weight: torch.Size([8, 1024])\n",
      "layers.2.attention.wo.weight: torch.Size([1024, 24])\n",
      "layers.2.attention_norm.weight: torch.Size([1024])\n",
      "layers.2.ffn_norm.weight: torch.Size([1024])\n",
      "layers.2.feed_forward.w1.weight: torch.Size([4096, 1024])\n",
      "layers.2.feed_forward.w2.weight: torch.Size([1024, 4096])\n",
      "layers.2.feed_forward.w3.weight: torch.Size([4096, 1024])\n",
      "layers.3.attention.wq.weight: torch.Size([24, 1024])\n",
      "layers.3.attention.wk.weight: torch.Size([8, 1024])\n",
      "layers.3.attention.wv.weight: torch.Size([8, 1024])\n",
      "layers.3.attention.wo.weight: torch.Size([1024, 24])\n",
      "layers.3.attention_norm.weight: torch.Size([1024])\n",
      "layers.3.ffn_norm.weight: torch.Size([1024])\n",
      "layers.3.feed_forward.w1.weight: torch.Size([4096, 1024])\n",
      "layers.3.feed_forward.w2.weight: torch.Size([1024, 4096])\n",
      "layers.3.feed_forward.w3.weight: torch.Size([4096, 1024])\n",
      "layers.4.attention.wq.weight: torch.Size([24, 1024])\n",
      "layers.4.attention.wk.weight: torch.Size([8, 1024])\n",
      "layers.4.attention.wv.weight: torch.Size([8, 1024])\n",
      "layers.4.attention.wo.weight: torch.Size([1024, 24])\n",
      "layers.4.attention_norm.weight: torch.Size([1024])\n",
      "layers.4.ffn_norm.weight: torch.Size([1024])\n",
      "layers.4.feed_forward.w1.weight: torch.Size([4096, 1024])\n",
      "layers.4.feed_forward.w2.weight: torch.Size([1024, 4096])\n",
      "layers.4.feed_forward.w3.weight: torch.Size([4096, 1024])\n",
      "layers.5.attention.wq.weight: torch.Size([24, 1024])\n",
      "layers.5.attention.wk.weight: torch.Size([8, 1024])\n",
      "layers.5.attention.wv.weight: torch.Size([8, 1024])\n",
      "layers.5.attention.wo.weight: torch.Size([1024, 24])\n",
      "layers.5.attention_norm.weight: torch.Size([1024])\n",
      "layers.5.ffn_norm.weight: torch.Size([1024])\n",
      "layers.5.feed_forward.w1.weight: torch.Size([4096, 1024])\n",
      "layers.5.feed_forward.w2.weight: torch.Size([1024, 4096])\n",
      "layers.5.feed_forward.w3.weight: torch.Size([4096, 1024])\n"
     ]
    }
   ],
   "source": [
    "for name, param in model.named_parameters():\n",
    "    print(f\"{name}: {param.size()}\")"
   ]
  },
  {
   "cell_type": "code",
   "execution_count": 10,
   "metadata": {},
   "outputs": [
    {
     "name": "stdout",
     "output_type": "stream",
     "text": [
      "Model size: 291.11 MB\n"
     ]
    }
   ],
   "source": [
    "model_size_bytes = sum(p.numel() * p.element_size() for p in model.parameters())\n",
    "print(f\"Model size: {model_size_bytes / (1024**2):.2f} MB\")"
   ]
  },
  {
   "cell_type": "code",
   "execution_count": 11,
   "metadata": {},
   "outputs": [
    {
     "data": {
      "text/plain": [
       "'cuda'"
      ]
     },
     "execution_count": 11,
     "metadata": {},
     "output_type": "execute_result"
    }
   ],
   "source": [
    "device"
   ]
  },
  {
   "cell_type": "code",
   "execution_count": 53,
   "metadata": {},
   "outputs": [],
   "source": [
    "torch.cuda.empty_cache()"
   ]
  },
  {
   "cell_type": "code",
   "execution_count": 93,
   "metadata": {},
   "outputs": [],
   "source": [
    "import gc\n"
   ]
  },
  {
   "cell_type": "code",
   "execution_count": 94,
   "metadata": {},
   "outputs": [
    {
     "data": {
      "text/plain": [
       "747"
      ]
     },
     "execution_count": 94,
     "metadata": {},
     "output_type": "execute_result"
    }
   ],
   "source": [
    "gc.collect()"
   ]
  },
  {
   "cell_type": "code",
   "execution_count": 114,
   "metadata": {},
   "outputs": [],
   "source": [
    "# x = torch.rand(3, 128).unsqueeze(0)\n",
    "x = torch.rand(2, 2, 128).to(device)"
   ]
  },
  {
   "cell_type": "code",
   "execution_count": 116,
   "metadata": {},
   "outputs": [
    {
     "data": {
      "text/plain": [
       "torch.Size([2, 2, 128])"
      ]
     },
     "execution_count": 116,
     "metadata": {},
     "output_type": "execute_result"
    }
   ],
   "source": [
    "x.shape"
   ]
  },
  {
   "cell_type": "code",
   "execution_count": 190,
   "metadata": {},
   "outputs": [],
   "source": [
    "tokens = tokenizer_loaded.encode(\"डिसेंबर ह्या दिवशी श्रीकृष्णाने अर्जुनाला.\")"
   ]
  },
  {
   "cell_type": "code",
   "execution_count": null,
   "metadata": {},
   "outputs": [],
   "source": [
    "tokens"
   ]
  },
  {
   "cell_type": "code",
   "execution_count": 50,
   "metadata": {},
   "outputs": [],
   "source": [
    "# Convert tokens to a tensor\n",
    "text_tensor = torch.tensor(tokens).to(device)"
   ]
  },
  {
   "cell_type": "code",
   "execution_count": 53,
   "metadata": {},
   "outputs": [
    {
     "data": {
      "text/plain": [
       "torch.Size([2, 43])"
      ]
     },
     "execution_count": 53,
     "metadata": {},
     "output_type": "execute_result"
    }
   ],
   "source": [
    "text_tensor.shape"
   ]
  },
  {
   "cell_type": "code",
   "execution_count": 52,
   "metadata": {},
   "outputs": [],
   "source": [
    "text_tensor = torch.stack([text_tensor,text_tensor],dim=0)"
   ]
  },
  {
   "cell_type": "code",
   "execution_count": 89,
   "metadata": {},
   "outputs": [],
   "source": [
    "text_tensor = torch.permute(text_tensor,(1,0) )"
   ]
  },
  {
   "cell_type": "code",
   "execution_count": null,
   "metadata": {},
   "outputs": [],
   "source": [
    " input_ids, seq_lengths, output_lengths = [], [], []\n",
    "        for label in labels:\n",
    "            prefix = f\"Symptoms: {symptom}\\nDisease:\"\n",
    "            tokens = tokenizer.encode(f\"{prefix} {label}\", bos=True)\n",
    "            input_ids.extend(tokens)\n",
    "            seq_lengths.append(len(tokens))\n",
    "            output_lengths.append(len(tokens) - len(tokenizer.encode(prefix, bos=True)))\n",
    "        tensor = torch.tensor(input_ids).to(model.device)\n",
    "        logprobs = torch.log_softmax(model.forward(tensor, seq_lengths), dim=-1)  # sum_slens * vocab_size"
   ]
  },
  {
   "cell_type": "code",
   "execution_count": 16,
   "metadata": {},
   "outputs": [
    {
     "data": {
      "text/plain": [
       "torch.Size([2, 43])"
      ]
     },
     "execution_count": 16,
     "metadata": {},
     "output_type": "execute_result"
    }
   ],
   "source": [
    "text_tensor.shape"
   ]
  },
  {
   "cell_type": "code",
   "execution_count": 188,
   "metadata": {},
   "outputs": [],
   "source": [
    "input_ids, seq_lengths, output_lengths = [], [], []"
   ]
  },
  {
   "cell_type": "code",
   "execution_count": 191,
   "metadata": {},
   "outputs": [],
   "source": [
    "input_ids.extend(tokens)\n",
    "seq_lengths.append(len(tokens))"
   ]
  },
  {
   "cell_type": "code",
   "execution_count": 192,
   "metadata": {},
   "outputs": [
    {
     "data": {
      "text/plain": [
       "[43, 33]"
      ]
     },
     "execution_count": 192,
     "metadata": {},
     "output_type": "execute_result"
    }
   ],
   "source": [
    "seq_lengths"
   ]
  },
  {
   "cell_type": "code",
   "execution_count": 193,
   "metadata": {},
   "outputs": [],
   "source": [
    "tensor = torch.tensor(input_ids, dtype=torch.long).to(device)"
   ]
  },
  {
   "cell_type": "code",
   "execution_count": 194,
   "metadata": {},
   "outputs": [
    {
     "data": {
      "text/plain": [
       "torch.Size([76])"
      ]
     },
     "execution_count": 194,
     "metadata": {},
     "output_type": "execute_result"
    }
   ],
   "source": [
    "tensor.shape"
   ]
  },
  {
   "cell_type": "code",
   "execution_count": 145,
   "metadata": {},
   "outputs": [
    {
     "ename": "NameError",
     "evalue": "name 'text_tensor' is not defined",
     "output_type": "error",
     "traceback": [
      "\u001b[1;31m---------------------------------------------------------------------------\u001b[0m",
      "\u001b[1;31mNameError\u001b[0m                                 Traceback (most recent call last)",
      "Cell \u001b[1;32mIn[145], line 1\u001b[0m\n\u001b[1;32m----> 1\u001b[0m (num_toks,) \u001b[38;5;241m=\u001b[39m \u001b[43mtext_tensor\u001b[49m\u001b[38;5;241m.\u001b[39mshape\n",
      "\u001b[1;31mNameError\u001b[0m: name 'text_tensor' is not defined"
     ]
    }
   ],
   "source": [
    "(num_toks,) = text_tensor.shape"
   ]
  },
  {
   "cell_type": "code",
   "execution_count": 62,
   "metadata": {},
   "outputs": [
    {
     "data": {
      "text/plain": [
       "2"
      ]
     },
     "execution_count": 62,
     "metadata": {},
     "output_type": "execute_result"
    }
   ],
   "source": [
    "num_toks"
   ]
  },
  {
   "cell_type": "code",
   "execution_count": 195,
   "metadata": {},
   "outputs": [],
   "source": [
    "model.eval()\n",
    "\n",
    "logit = model.forward(input_ids=tensor, seqlens=seq_lengths)"
   ]
  },
  {
   "cell_type": "code",
   "execution_count": 121,
   "metadata": {},
   "outputs": [],
   "source": [
    "loss = F.cross_entropy(logit.view(-1, logit.size(-1)), tensor.view(-1), ignore_index=-1)"
   ]
  },
  {
   "cell_type": "code",
   "execution_count": 122,
   "metadata": {},
   "outputs": [
    {
     "data": {
      "text/plain": [
       "tensor(5.6331, device='cuda:0', grad_fn=<NllLossBackward0>)"
      ]
     },
     "execution_count": 122,
     "metadata": {},
     "output_type": "execute_result"
    }
   ],
   "source": [
    "loss"
   ]
  },
  {
   "cell_type": "code",
   "execution_count": 120,
   "metadata": {},
   "outputs": [
    {
     "data": {
      "text/plain": [
       "torch.Size([86, 200])"
      ]
     },
     "execution_count": 120,
     "metadata": {},
     "output_type": "execute_result"
    }
   ],
   "source": [
    "logit.shape"
   ]
  },
  {
   "cell_type": "code",
   "execution_count": 116,
   "metadata": {},
   "outputs": [
    {
     "data": {
      "text/plain": [
       "tensor([[ 1.0389e+00,  2.3724e-04,  3.0089e-01,  ..., -1.8550e-02,\n",
       "          9.4721e-01, -1.9433e+00],\n",
       "        [ 2.7117e-01, -5.8892e-01, -7.4425e-02,  ..., -5.8432e-01,\n",
       "          1.7085e-02, -7.2686e-02],\n",
       "        [-9.9749e-02,  7.0405e-01,  1.1654e-01,  ..., -1.3002e+00,\n",
       "         -1.7605e+00, -6.0589e-01],\n",
       "        ...,\n",
       "        [-1.4768e-01,  4.3750e-01,  5.2466e-01,  ...,  3.8173e-01,\n",
       "         -1.5919e-01, -7.7899e-01],\n",
       "        [-7.5604e-01, -7.6008e-01,  6.5404e-01,  ...,  3.9160e-02,\n",
       "         -5.8079e-01, -8.1597e-02],\n",
       "        [ 4.1231e-01, -6.0959e-01,  5.8402e-01,  ...,  4.3537e-01,\n",
       "         -2.5136e-02,  4.9881e-01]], device='cuda:0', grad_fn=<ViewBackward0>)"
      ]
     },
     "execution_count": 116,
     "metadata": {},
     "output_type": "execute_result"
    }
   ],
   "source": [
    "logit.view(-1, logit.size(-1))"
   ]
  },
  {
   "cell_type": "code",
   "execution_count": 38,
   "metadata": {},
   "outputs": [],
   "source": [
    "prob = torch.softmax(logit, dim=-1)"
   ]
  },
  {
   "cell_type": "code",
   "execution_count": 40,
   "metadata": {},
   "outputs": [
    {
     "data": {
      "text/plain": [
       "tensor(43., device='cuda:0', grad_fn=<SumBackward0>)"
      ]
     },
     "execution_count": 40,
     "metadata": {},
     "output_type": "execute_result"
    }
   ],
   "source": [
    "prob.sum()"
   ]
  },
  {
   "cell_type": "code",
   "execution_count": 41,
   "metadata": {},
   "outputs": [
    {
     "data": {
      "text/plain": [
       "tensor([[0.0120, 0.0042, 0.0057,  ..., 0.0042, 0.0110, 0.0006],\n",
       "        [0.0054, 0.0023, 0.0038,  ..., 0.0023, 0.0042, 0.0038],\n",
       "        [0.0040, 0.0090, 0.0050,  ..., 0.0012, 0.0008, 0.0024],\n",
       "        ...,\n",
       "        [0.0033, 0.0060, 0.0065,  ..., 0.0057, 0.0033, 0.0018],\n",
       "        [0.0022, 0.0022, 0.0090,  ..., 0.0049, 0.0026, 0.0043],\n",
       "        [0.0065, 0.0023, 0.0077,  ..., 0.0067, 0.0042, 0.0071]],\n",
       "       device='cuda:0', grad_fn=<SoftmaxBackward0>)"
      ]
     },
     "execution_count": 41,
     "metadata": {},
     "output_type": "execute_result"
    }
   ],
   "source": [
    "prob"
   ]
  },
  {
   "cell_type": "code",
   "execution_count": 39,
   "metadata": {},
   "outputs": [
    {
     "data": {
      "text/plain": [
       "torch.Size([43, 200])"
      ]
     },
     "execution_count": 39,
     "metadata": {},
     "output_type": "execute_result"
    }
   ],
   "source": [
    "prob.shape"
   ]
  },
  {
   "cell_type": "code",
   "execution_count": 55,
   "metadata": {},
   "outputs": [],
   "source": [
    "\n",
    "def read_text_from_file(file_path):\n",
    "        with open(file_path, 'r', encoding='utf-8') as file:\n",
    "            return file.read()\n",
    "text = read_text_from_file('D:\\mr_dataset\\mr.txt')"
   ]
  },
  {
   "cell_type": "code",
   "execution_count": 56,
   "metadata": {},
   "outputs": [
    {
     "name": "stdout",
     "output_type": "stream",
     "text": [
      "174960962\n"
     ]
    }
   ],
   "source": [
    "print(len(text.split()))"
   ]
  },
  {
   "cell_type": "code",
   "execution_count": 52,
   "metadata": {},
   "outputs": [
    {
     "data": {
      "text/plain": [
       "['तव्यावर अर्धवट भाजून मग तळल्याने नेमके काय होते? दाल पक्वान मधले पक्वान तळतानाही हीच टीप मिळालेली आहे पण नेमके प्रयोजन कळले नाही.\\n',\n",
       " '@friend१६ कृपया पाककृती लिहताना , पाककृती या लेखनप्रकाराचा वापर करावा.\\n',\n",
       " '\\n',\n",
       " 'सगळे खूप सुंदर आहेत.\\n',\n",
       " 'फारच छान आहेत सगळे कुर्ते\\n',\n",
       " 'मस्त. ३,७,१२,१४ खूप आवडले.\\n',\n",
       " '३,७,१२,१४ खूप आवडले.\\n',\n",
       " 'सुंदर . १ , ३ , ४ , १४ जास्त\\n',\n",
       " 'सुंदर . १ , ३ , ४ , १४ जास्त आवडले.\\n',\n",
       " 'काय सुंदर आहेत ग सगळे कुर्ते ……!\\n',\n",
       " 'खूप सुंदर आहेत सगळेच. ५, ७\\n',\n",
       " 'खूप सुंदर आहेत सगळेच. ५, ७ आणि १० तर खूपच आवडले.\\n',\n",
       " 'मस्तच.. ए याच्या किंमती कळतील का ग? मेल केल्यास तरी चालेल..\\n',\n",
       " 'एका पेक्शा एक सुंदर\\n',\n",
       " 'खुप सुरेख! सगळे हटके आहेत.\\n',\n",
       " 'सगळेच छान आहेत. हे कुठे\\n',\n",
       " 'सगळेच छान आहेत. हे कुठे मिळतील? आणि किमतीही कळतिल का?\\n',\n",
       " '\\n',\n",
       " 'राफेल कराराच्या मुद्यांवर पंतप्रधान नरेंद्र मोदींनी उत्तर द्यावं :...\\n',\n",
       " 'मुंबई : राफेल करारावरून आता शिवसेनाही आक्रमक झाल्याचे चित्र दिेसत आहे. शिवसेनेचे...\\n',\n",
       " \"''मोदींनी अनिल अंबानींना 30 हजार कोटींच गिफ्ट दिलं''- राहुल गांधी\\n\",\n",
       " 'फ्रान्सचे माजी अध्यक्ष फ्रान्स्वा ओलाँद यांनीच भारताचे पंतप्रधान नरेंद्र मोदी यांना...\\n',\n",
       " 'राहुल गांधींचे मोदींवर गंभीर आरोप.. काय म्हणतायत राहुल गांधी पाहा..\\n',\n",
       " 'Video of राहुल गांधींचे मोदींवर गंभीर आरोप.. काय म्हणतायत राहुल गांधी पाहा..\\n',\n",
       " \"राफेल करार, होलाँद आणि 'या' अभिनेत्रीची आहे लिंक\\n\",\n",
       " 'नवी दिल्ली- भारत आणि फ्रान्स यांच्यात राफेल कराराची प्रक्रिया चालू होती, त्याचवेळी...\\n',\n",
       " 'भारतीय राजकारण जातीपातीच्\\u200dया पलिकडं कधी जाणारच नाही, असा प्रश्\\u200dन वारंवार विचारला...\\n',\n",
       " 'विद्यापीठे आणि उच्च शिक्षण संस्थांना २९ सप्टेंबर हा दिवस ‘सर्जिकल...\\n',\n",
       " 'UGC म्हणजेच विद्यापीठ अनुदान आयोगानं देशभरातील विद्यापीठे आणि उच्च शिक्षण संस्थांना...\\n',\n",
       " '\\n',\n",
       " 'You are here: मुख्यपृष्ठ /गुलमोहर /रंगीबेरंगी /माणूस यांचे रंगीबेरंगी पान\\n',\n",
       " 'माझे १० वी चे वेळेचे नियोजन\\n',\n",
       " 'आभ्यासापेक्षा मोकळीकच जास्त आहे.\\n',\n",
       " 'किती शब्द टाकावे लागतात आता. ईथे नंबर येत नाही.\\n',\n",
       " 'Read more about माझे १० वी चे वेळेचे नियोजन\\n',\n",
       " '\\n',\n",
       " 'सुंदर.. त्यंची चित्रे बघितली होती.\\n',\n",
       " '\\n',\n",
       " 'चला , वजन कमी करूया आरोग्यम् धनसंपदा\\n',\n",
       " 'चित्रपट कसा वाटला - ३ चित्रपट\\n',\n",
       " 'खेळ (शतशब्द कथा) गुलमोहर - कथा/कादंबरी\\n',\n",
       " 'रंगपेटी उपक्रम - तन्वी शिंदे - १०वर्षे मायबोली गणेशोत्सव २०१८\\n',\n",
       " '\\n',\n",
       " 'स्टॉक मार्केट - काही उपयुक्त पुस्तकं\\n',\n",
       " 'मला बरेचदा हा प्रश्न विचारला जातो की मी कुठले पुस्तक वापरले आहे. मी मला आवडलेली काही पुस्तकं इथे देतो. ही लिस्ट मी अपडेट करत राहीन.\\n',\n",
       " 'Read more about स्टॉक मार्केट - काही उपयुक्त पुस्तकं\\n',\n",
       " 'Read more about टेक्नीकल अ\\u200dॅनॅलिसिस ओळख - २\\n',\n",
       " 'हा देश कृषीप्रधान कसा?\\n',\n",
       " '- सोनिया गांधी या जागतिक राजकारणाच्या केंद्रबिंदू आहेत.\\n',\n",
       " '- अमिताभ बच्चन शतकातील सर्वोत्कृष्ट गायक आहेत.\\n',\n",
       " '- रवि शास्त्री क्रिकेटचा प्राण आहे.\\n',\n",
       " '- लातुर हे जागतिक दर्जाचे शहर आहे.\\n',\n",
       " 'शेती आणि नेते\\n',\n",
       " 'Read more about हा देश कृषीप्रधान कसा?\\n',\n",
       " '\\n',\n",
       " 'You are here: मुख्यपृष्ठ /सम्राट अशोक\\n',\n",
       " '\\n',\n",
       " 'You are here: मुख्यपृष्ठ /स्नॅक्स\\n',\n",
       " 'साहित्य: गव्हाचे पीठ (कणिक), तिखट, मीठ, हळद, बारीक किसलेला लसूण, जिरेपूड, बारीक चिरलेली कोथिंबीर\\n',\n",
       " '१) एका मोठ्या बाउलमध्ये गव्हाचे पीठ (कणिक) घेऊन त्यात थोडी हळद, तिखट, मीठ, कोथिंबीर, लसूण घाला. मग त्यात पाणी घालून दोस्याच्या पिठाइतके दाट मिश्रण बनवा.\\n',\n",
       " '२) तयार मिश्रणाची छान पातळ धिरडी तेल लावलेल्या निर्लेप तव्यावर खोल डावाने घाला. झाकण ठेवा.\\n',\n",
       " '३) धिरडी दोन्ही बाजूनी चांगली भाजून घ्या आणि तूप/बटर घालून आवडेल त्या चटणी बरोबर वाढा.\\n',\n",
       " '(चटणी शिवायही तितकीच छान लागतात. म्हणून चटणी नसली तर नुसत्या तूपाबरोबरही छान लागतात.)\\n',\n",
       " 'पावभाजी करताना उत्तम जमण्याकरताा टिप्स, कोणते मसाले वापरावेत ह्याबद्दल चर्चा करा.\\n',\n",
       " '१००% होम मेड पिझा.\\n',\n",
       " '\\n',\n",
       " 'प्लास्टीकवर बंदी आणण्यात आली, पण हे प्लास्टीक काही आपली पाठ सोडायला तयार नाही. दरदिवशी तुम्ही प्लास्टीक खाताय, हे ऐकलं तर तुम्हाला विश्वास बसणार नाही, पण हे खरंय... मिठामध्ये ‘मायक्रोप्लॅस्टिक’ म्हणजे प्लॅस्टिकचे सूक्ष्म कण असल्याचं आढळलेत. आयआयटी मुंबईच्या शास्त्रज्ञांनी यासंदर्भात संशोधन केलं.\\n',\n",
       " 'संशोधनात विविध कंपन्यांच्या मिठाच्या नमुन्यात प्लास्टिकचे 626 सूक्ष्म कण आढळले. त्यात 63 टक्के प्लास्टिकचे कण होते, तर 37 टक्के प्लॅस्टिकचे तंतू होते.\\n',\n",
       " 'मीठातल्या प्लास्टीकबाबतचं संशोधन केवळ भारतातच नाही, तर इतर देशातही झालंय. गेल्या चार वर्षांत झालेल्या चीन, अमेरिका, इंग्लंडमध्येही मिठाच्या नमुन्यांमध्ये प्लॅस्टिकचे सूक्ष्म कण आणि तंतू आढळलेत.\\n',\n",
       " 'दरदिवशी काही ना काही धक्कादायक गोष्टी समोर येत असल्यानं खायचं तरी काय असा प्रश्न सामान्य नागरिकांना पडलाय.\\n',\n",
       " '\\n',\n",
       " \"दै. 'केसरी'चे संपादक, अरविंद गोखले यांनी पाकिस्तानला तीन वेळा भेट देऊन लिहिलेल्या थरारक आठवणींचा लेखसंग्रह. बेनझीर भुट्टोंची परखड मुलाखत. मुझफ्फर हुसेन यांची खास प्रस्तावना.\\n\",\n",
       " '\\n',\n",
       " 'चित्रपट नाही बघितला, पाहीन असं वाटतंही नाहीये, पण अल्बमबाबत सहमत!\\n',\n",
       " '\\n',\n",
       " '♪♫ गाणीमराठी.com ♫♪: जीव पिसाटला - परतू\\n',\n",
       " '\\n',\n",
       " 'आमचे घड्याळ पुढे आहे...\\n',\n",
       " \"परवा हॉस्पिटलमध्ये गेले होते. निघायच्या वेळेला घड्याळ पाहिले आणि लक्षात आले ते एकदम 'राईट टाईम' होते. तसे घर सोडले की बाकी ठिकाणी घड्याळे योग्य वेळच दाखवतात. पण घरात प्रत्येक घड्याळ ५-१० मिनिटे पुढे करून ठेवायची सवय लागली आहे. त्यामुळे कुठेही घड्याळ पाहिले की ते योग्य वेळ सांगतच असेल अशी सवयच राहिली नाहीये. तरी त्यातल्या त्यात आजकाल मोबाईल वर कॅर्रीएर कडून येणारी वेळ जी दिसते तीच योग्य आहे असे समजून चालते. निदान आपण चुकलो तर आपल्यासोबत बाकी फोन वापरणाऱ्या लोकांचेही घड्याळ चुकीचे असेल.\\n\",\n",
       " 'Read more about आमचे घड्याळ पुढे आहे...\\n',\n",
       " '\\n',\n",
       " 'फक्त मी त्यांच्यासाठी\\n',\n",
       " 'आता कुणी जपते आहे\\n',\n",
       " 'एक अश्रु माझ्यासाठी.\\n',\n",
       " '\\n',\n",
       " '~ बालभारती - मराठी कविता ~: ह्या नभाने ह्या भुईला दान द्यावे\\n',\n",
       " '\\n',\n",
       " 'You are here: मुख्यपृष्ठ /६B पेन्सिल आणि कापडाचा बोळा वापरुन\\n',\n",
       " '६B पेन्सिल आणि कापडाचा बोळा वापरुन\\n',\n",
       " '\\n',\n",
       " 'फिनिक्स मेट्रो महाराष्ट्र मंडळ\\n',\n",
       " 'Read more about फिनिक्स मेट्रो महाराष्ट्र मंडळ\\n',\n",
       " '\\n',\n",
       " 'क्रीडा Chanda Mandavkar Nov 28, 2018 12:34 PM IST\\n',\n",
       " 'Hockey World Cup 2018 : भुवनेश्वर येथील कलिंगा येथील स्टेडियममध्ये आजपासून हॉकी वर्ल्ड कपच्या सामन्यांना सुरुवात होणार आहे. तसेच भारतीय हॉकी संघ उद्या दक्षिण अफ्रिकेविरुद्ध हॉकी सामना खेळण्यास सज्ज झाला आहे. 28 नोव्हेंबर ते 16 डिसेंबर पर्यंत हॉकीचे सामने चालू राहणार असून एकूण 16 देशांनी या स्पर्धेत भाग घेतला आहे. या स्पर्धेसाठी संघांची चार गटांत विभागणी करण्यात आली आहे.\\n',\n",
       " 'तसेच भारतीय हॉकी संघाचा सामना दक्षिण अफ्रिकेविरुद्ध नंतर 2 डिसेंबरला बेल्जियम आणि 8 डिसेंबरला कॅनडाविरुद्ध रंगणार आहे. तर भारतीय संघाचे सर्व सामने संध्याकाळी 7 वाजता खेळविण्यात येणार आहेत.\\n',\n",
       " 'हॉकी वर्ल्ड कप संघ गट\\n',\n",
       " '‘अ’ गट – अर्जेंटिना, न्यूझीलंड, स्पेन, फ्रान्स.\\n',\n",
       " '‘ब’ गट – ऑस्ट्रेलिया, इंग्लंड, आयर्लंड, चीन\\n',\n",
       " '‘क’ गट – हिंदुस्थान, बेल्जियम, कॅनडा, द. आफ्रिका\\n',\n",
       " '‘ड’ गट – नेदरलॅण्ड, जर्मनी, मलेशिया, पाकिस्तान\\n',\n",
       " 'Tags: Hockey Match 2018 Hockey World Cup 2018 India Hockey Team South Africa Hockey Team दक्षिण आफ्रिका हॉकी संघ भारतीय हॉकी संघ हॉकी वर्ल्ड कप 2018\\n',\n",
       " 'Hockey World Cup 2018 : भारत उपांत्यपूर्व फेरीत बाद, नेदरलॅंडची भारतावर 2-1 ने मात !\\n',\n",
       " '\\n',\n",
       " 'नोटबंदीनंतरच एकूणच वाढलेल्या डिजिटल व्यवहारांमध्ये UPI द्वारे होणाऱ्या व्यवहारांनी ऑगस्ट महिन्यात ३०० मिलियनचा पल्ला पार केला आहे. भारत सरकारच्या National Payment Corporation of India (NPCI) ने प्रसिद्ध केलेल्या माहितीत हे म्हटले आहे. ऑगस्ट महिन्यात UPI द्वारे ३१२.०२ मिलियन व्यवहार झाले. जुलै महिन्यातील २७३.७५ मिलियन व्यवहारांच्या तुलनेत ही १४ टक्क्यांनी वाढ झाली आहे.\\n',\n",
       " 'सर्व प्रमुख सरकारी तसेच खाजगी बँका, payment बँका तसेच निवडक सहकारी व ग्रामीण बँका UPI मध्ये नोंदणीकृत आहेत. UPI द्वारे केवळ एका VPA द्वारे एका क्षणात व्यवहार करता येतो. शिवाय सरकार UPI व्यवहारांना चालना देण्यासाठी आकर्षक कॅशबॅकही देत आहे.\\n',\n",
       " 'तुमच्या बँकेचे UPI app किंवा सरकारी भीम app किंवा फोनपे, गुगल पे (या आधीचे नाव तेझ) इत्यादींमध्ये तुमचा इंटरनेट बँकिंगला नोंदणीकृत असलेला मोबाईल नंबर नोंदवून तुमची बँक निवडून तुम्ही तुमचे VPA म्हणजे तुमचे नाव किंवा नंबर आणि पुढे @upi किंवा @sbi असे तयार करा. हा व्यवहार अतिशय सोपा, जलद व सुरक्षित आहे.\\n',\n",
       " 'Next Post ‘फ्लिपकार्ट’मधून बाहेर पडून तीन तरुणांनी उभे केले १ बिलियनचे स्टार्टअप\\n',\n",
       " '\\n',\n",
       " 'लेखक N. K. Jain यांची पुस्तके मिळवा आकर्षक दरात _ Cart91\\n',\n",
       " 'एन. के. जैन ची सर्व पुस्तके\\n',\n",
       " '\\n',\n",
       " 'लेखक नेहा शुक्ला यांची पुस्तके मिळवा आकर्षक दरात _ Cart91\\n',\n",
       " '\\n',\n",
       " \"उपवास करण्याचे '5' आरोग्यदायी फायदे ! _ LatestLY\\n\",\n",
       " \"उपवास करण्याचे '5' आरोग्यदायी फायदे !\\n\",\n",
       " '# उपवास केल्याने शरीराचे आतून शुद्धीकरण होते. यामुळे शरीरातील विषद्रव्ये बाहेर पडण्यास मदत होते आणि शरीर स्वस्थ राहते.\\n',\n",
       " '# अपचन, गॅस, बद्धकोष्ठता, डायरिया, अॅसिडीटी, जळजळ यांसारख्या समस्या दूर होण्यास मदत होते. उपवासात फळांचे सेवन केल्याने आरोग्यास अधिक फायदा होतो.\\n',\n",
       " '# उपवास केल्याने रक्तदाब नियंत्रित राहण्यास मदत होते. त्याचबरोबर कोलेस्ट्रोल कमी होते. परिणामी आरोग्याच्या अनेक समस्यांना आळा बसतो.\\n',\n",
       " '# कोलेस्ट्रॉल कमी झाल्यास हृदयाचे आरोग्य सुधारण्यास नक्कीच मदत होईल.\\n',\n",
       " '# पचनक्रियेचे कार्य सुधारण्यासाठी उपवासाचा फायदा होतो. आठवड्यातून कमीत कमी एक दिवस उपवास केल्याने पचनक्रियेचे कार्य सुरळीत होण्यास मदत होते.\\n',\n",
       " '\\n',\n",
       " 'लेखक यशोदा भागवत यांची पुस्तके मिळवा आकर्षक दरात _ Cart91\\n',\n",
       " 'यशोदा भागवत ची सर्व पुस्तके\\n',\n",
       " '\\n',\n",
       " 'भारत वि. श्रीलंका: भारताचा पहिला डाव १७२ धावांत संपुष्ठात - Maha Sports\\n',\n",
       " 'कोलकाता । येथे सुरु असलेल्या पहिल्या कसोटी सामन्यात भारताचा पहिला डाव १७२ धावांत संपुष्ठात आला. तिसऱ्या दिवसाच्या पहिल्याच सत्रात श्रीलंकन गोलंदाजांना भारतीय संघाला बाद करण्यात यश आले.\\n',\n",
       " 'सध्यास्थितीत श्रीलंका संघ १ बाद ३० धावांवर खेळत आहे.\\n',\n",
       " '\\n',\n",
       " 'यूके एक प्रकारचा जुगाराचा खेळ बोनस गेमिंग - शीर्ष ऑनलाइन कॅसिनो गेम साइट! ⋆\\n',\n",
       " 'घर » यूके एक प्रकारचा जुगाराचा खेळ बोनस गेमिंग – शीर्ष ऑनलाइन कॅसिनो गेम साइट!\\n',\n",
       " 'विलक्षण मोबाइल यूके एक प्रकारचा जुगाराचा खेळ बोनस खेळ कॅसिनो\\n',\n",
       " 'Play मेगा छान साइट्स ब्रिटन एक प्रकारचा जुगाराचा खेळ बोनस खेळ MobileCasinoFun.com\\n',\n",
       " 'कॅसिनो खेळ यूके बाजारात वादळ इंटरनेट घेतले आहेत. ऑनलाइन गायन वेबसाइट, व्यक्ती आता गायन खेळ त्यांच्या आवडत्या प्रकार प्ले करू शकता कधीही, कुठेही. ऑनलाइन गायन वेबसाइट आहे अशा स्लॉट मशीन खेळ म्हणून समावेश पारंपारिक गायन खेळ, एक प्रकारचा जुगाराचा खेळ, blackjack, निर्विकार आणि कार्ड गेम विविध ऑनलाइन खेळाडू मनोरंजन.\\n',\n",
       " 'क्लासिक गायन खेळ सर्वात अत्याधुनिक आणि मनोरंजक गेमप्लेच्या ठेवा आणि खेळाडू लक्ष व्यस्त करण्यासाठी भिन्न थीम आणि नमुन्यांची एक खाच पुन्ह आले आहेत. आज £ 20o बोनस रोख मध्ये एक्सप्रेस कॅसिनो येथे प्ले!\\n',\n",
       " 'एक प्रकारचा जुगाराचा खेळ आहे वर्षे खेळाडूंना मनोरंजन प्रदान केली आहे की सर्वात लोकप्रिय शास्त्रीय गायन खेळ. एक प्रकारचा जुगाराचा खेळ देखील फ्रेंच मध्ये \"थोडे चक्र \\'म्हणून ओळखले जाते. खेळ नाव कारण खेळ रचना समतुल्य आहे. त्यावर काढलेल्या संख्या आणि रंग अनेक पर्याय उपलब्ध आहेत जे एक चाक आहे. एक चेंडू चाक मध्यभागी ठेवलेल्या आहे, आणि चाक सूत आहे. चेंडू स्वतः जमिनी जेथे अवलंबून, एक व्यक्ती विजय किंवा हरले एकतर.\\n',\n",
       " 'यूके बोनस चार्ट एक प्रकारचा जुगाराचा खेळ आणि शीर्ष कॅसिनो ऑनलाईन ऑफर\\n',\n",
       " 'एक प्रकारचा जुगाराचा खेळ गायन खेळ ऑफलाइन आणि ऑनलाइन दोन्ही प्ले लोक जनतेला आपापसांत म्हणून लोकप्रिय आहे का कारण की खेळ संबद्ध बेटिंग पर्याय पुष्कळ आहे. मोठे मध्ये बेटिंग पर्याय खेळ, त्या विशिष्ट खेळ जिंकून अधिक शक्यता.\\n',\n",
       " 'एक प्रकारचा जुगाराचा खेळ मध्ये बेटिंग पर्याय मोठ्या मानाने पण प्रकार एखाद्या खेळाडूची जाऊ इच्छिते की बदलू शकते. एक व्यक्ती एकच संख्या आणि रंग आणि जुगार करून गायन गेम्स आपले नशीब प्रयत्न करू शकता मोठा विजय. एक खेळाडू आकुंचन बेटिंग श्रेणी, मोठे मोठे जिंकून शक्यता. एक खेळाडू लाल आणि काळ्या दरम्यान एक रंग निवडा आहे. ज्या चेंडू शक्यतो वर पडू शकतो ते संख्या श्रेणी निवडा करणे आवश्यक आहे. संख्या श्रेणी कमी ओवरनंतर क्रमांक उच्च ओवरनंतर क्रमांक वेगळी.\\n',\n",
       " 'Players need to place their bets before the start of the roulette game. खेळ सुरू एकदा, जेथे पांढरा चेंडू येते ठिकाणी अवलंबून, एक खेळाडू विजय किंवा हरले एकतर.\\n',\n",
       " 'आमच्या वरच्या यूके एक प्रकारचा जुगाराचा खेळ बोनस कॅसिनो तक्ता पहा!\\n',\n",
       " 'एक प्रकारचा जुगाराचा खेळ, being an online and an offline favourite casino game is extremely easy to understand. गेम खेळत असताना लक्षात ठेवले करणे आवश्यक आहे की कोणतेही नियम आणि नियम आहेत. खेळ स्वतः नाही, सर्व वैयक्तिक एका विशिष्ट नंबर किंवा संख्या श्रेणी आणि संबंधित अनेक पण तो जे करणे आवश्यक आहे. £ 200 बोनस आता एक्सप्रेस कॅसिनो येथे मिळवा!\\n',\n",
       " 'The fact that the wheel of the roulette and the ball spin together gives a sense of excitement to the players. एकूण धावसंख्या: पडतील जे संख्या आणि रंग संबद्ध आहे की आगाऊ खेळाडू आपापसांत खळबळ निर्माण. एक प्रकारचा जुगाराचा खेळ संपूर्ण प्रक्रिया अत्यंत नाट्यमय आहे. आज छान एक्सप्रेस कॅसिनो सामील व्हा!\\n',\n",
       " 'एक यूके एक प्रकारचा जुगाराचा खेळ बोनस ब्लॉग MobileCasinoFun.com\\n',\n",
       " '\\n',\n",
       " 'ऑक्सफर्ड युनिव्हर्सिटी प्रेसची पुस्तके खरेदी करा ऑनलाईन _ आकर्षक दरात _ Cart91\\n',\n",
       " 'ऑक्सफर्ड युनिव्हर्सिटी प्रेस ची सर्व पुस्तके\\n',\n",
       " '\\n',\n",
       " 'लेखक वैशाली परांजपे यांची पुस्तके मिळवा आकर्षक दरात _ Cart91\\n',\n",
       " 'वैशाली परांजपे ची सर्व पुस्तके\\n',\n",
       " 'एक आणि दोन आणि…\\n',\n",
       " '\\n',\n",
       " 'व्यवसायाचे गूपित :Business Formula – 1000 X 1000\\n',\n",
       " 'इंटरेस्टिंग फॅक्टस February 28, 2017\\n',\n",
       " 'मुकेश अंबानी चे जगातील सर्वात महागडे घर बघा काय आहे यात...\\n',\n",
       " '\\n',\n",
       " 'राष्ट्रीय आरोग्य मिशन मुंबई विविध पदांच्या 23 जागांसाठी भरती 2018\\n',\n",
       " 'अधिक माहिती : http://nhm.gov.in/ या संकेतस्थळावर उपलब्ध.\\n',\n",
       " '\\n',\n",
       " 'Satara _ सातारा: सातारा जिल्हा विषयही थोडी फार माहिती\\n',\n",
       " '\\n',\n",
       " 'अकोला : केंद्र शासनाने परवानगी दिल्यानंतर राज्यात तेलबिया, कडधान्याची हमीभावाने खरेदी केली जाते. राज्य सहकारी पणन महासंघामार्फत ही खरेदी प्रक्रिया राबवली जात असून खरेदी केंद्रावर एफएक्\\u200dयु दर्जाचा शेतमाल उपलब्ध व्हावा, यासाठी आता शेतकरी कंपन्यांना या खरेदी प्रक्रियेत सहभागी करून घेतले जाणार आहे. मात्र असे करताना शासनाने शेतकरी कंपन्यांनी सभासदांचा शेतमाल बांधावरच स्वच्छ करून प्रतवारी करण्याचे सूचवित यासाठीचे सेवा शुल्क शेतकऱ्याकडून वसूल करून शेतकरी कंपन्यांना दिले जाणार असल्याचे स्पष्ट केले आहे.\\n',\n",
       " 'शेतमालाची स्वच्छता व प्रतवारीसाठी लागणाऱ्या शुल्कासोबतच केंद्रापर्यंत माल आणण्याचा वाहतूक खर्च निश्\\u200dचित करावा. शेतकऱ्याने शेतमाल विक्री केल्यानंतर त्याला मिळणाऱ्या पैशांमधून या सेवेसाठी लागणाऱ्या शुल्काची रक्कम वसूल केली जाईल. शेतकरी कंपनीला सुपूर्द केली जाईल.\\n',\n",
       " 'शासनाने घेतलेल्या निर्णयाचे शेतकरी कंपन्यांनी स्वागत केले आहे. यामुळे खरेदी प्रक्रियेसाठी प्रवेशद्वार उघडल्याचे सांगितले जाते. तरी काही मुद्यांवर साशंकता आहे. याअनुषंगाने बुधवारी (ता.१४) संबंधित सचिव व इतर वरिष्ठ अधिकाऱ्यांची भेट घेऊन शेतकरी कंपन्यांना असलेल्या शंकाबाबत चर्चा केली जाईल. बांधावर क्\\u200dलिनिंग, ग्रेडिंगसाठीचा मोबदला, वाहतुकीचे अंतर जास्त असल्यास होणारा खर्च, शेतकरी कंपनीच्या ठिकाणीच ग्रेडरकडून शेतमालाची तपासणी करणे आदी प्रश्\\u200dनांबाबत चर्चा केली जाणार असल्याचे शेतकरी कंपनीकडून सांगण्यात आले.\\n',\n",
       " 'शासनाच्या अध्यादेशाबाबत आजच आैरंगाबाद येथे शेतकरी उत्पादक कंपन्यांची बैठक झाली. मात्र या अध्यादेशात कंपन्याची भूमिका आणि जबाबदारीबाबत स्पष्टता नसल्याने आम्ही संभ्रमात आहाेत.\\n',\n",
       " '\\n',\n",
       " '(Vijaya Bank) विजया बँकेत विविध पदांची भरती\\n',\n",
       " 'मॅनेजर – CA: 32 जागा\\n',\n",
       " 'मॅनेजर – लॉ: 21 जागा\\n',\n",
       " 'मॅनेजर- सिक्योरिटी: 04 जागा\\n',\n",
       " 'पद क्र.1: (i) CA परीक्षा उत्तीर्ण (ii) 02 वर्षे अनुभव\\n',\n",
       " 'पद क्र.2: (i) LLB (ii) 05 वर्षे अनुभव\\n',\n",
       " 'पद क्र.3 : (i) कोणत्याही शाखेतील पदवी (ii) लष्कर / नौदल / हवाई दल किंवा पोलीस अधिकारी मध्ये 05 वर्षे सेवा.\\n',\n",
       " 'अर्जाची प्रिंट पोस्टाने पाठविण्याची शेवटची तारीख: 04 मे 2018\\n',\n",
       " 'पदाचे नाव: लिपिक\\n',\n",
       " 'क्रिकेट: 02 जागा\\n',\n",
       " 'बास्केटबॉल: 04 जागा\\n',\n",
       " 'कबड्डी: 02 जागा\\n',\n",
       " 'शैक्षणिक पात्रता: (i) 12 वी उत्तीर्ण (ii) संबंधित क्रीडा पात्रता.\\n',\n",
       " 'अर्ज पोस्टाने पाठविण्याचा पत्ता: The Deputy General Manager-HRD Vijaya Bank, Head Office #41/2, Trinity Circle, M.G. Road Bengaluru-560001.\\n',\n",
       " '\\n',\n",
       " 'एका केळीच्या खोडापासून २०० ग्रॅम धागा, ४ ते ५ लिटर सेंद्रिय द्रव्य, गांडूळ खतनिर्मितीसाठी घटक मिळतात. नवसारी कृषी विद्यापीठातील तज्ज्ञांनी खोडातील सर्वात आतील भागापासून कॅंडी, लोणचे निर्मितीचे तंत्र विकसित केले आहे.\\n',\n",
       " '१) धागा २) सेंद्रिय द्रव्य ३) गांडूळ खत,४) खाण्यायोग्य पदार्थ उदा. कॅंडी, लोणचे इ., ५) पेपरनिर्मिती ६) पर्स, पिशवीनिर्मिती, ७) पार्टीकल बोर्ड (प्लाय)\\n',\n",
       " '१) कटरच्या साह्याने केळी खोडावरील वेगळे केलेले आवरण रास्पडोर यंत्रामध्ये घातले असता हॅमरिंगमुळे त्यातील पाणी, सेल्युलोज धाग्यापासून वेगळे करून साठवतात. वेगळा केलेला खोडाच्या भागावर प्रेसिंग यंत्राच्या साह्याने दाब देऊन त्यातील पाणी वेगळे केले जाते.\\n',\n",
       " '२) खोडापासून मिळालेल्या पाण्यावर डायजेस्टरमध्ये एकवीस दिवस प्रक्रिया केली जाते. त्यानंतर या द्रावणाचा वापर पिकावर फवारणी किंवा ठिबकद्वारे पिकांना देता येते.\\n',\n",
       " 'पाणी आणि सेल्युलोज वेगळे झाल्यावर केळी खोडावरील आवरण यंत्रामधून मागे ओढले असता धागा मिळतो. हे धागे स्वच्छ पाण्यात धुवून वाळवले जातात. चरखा किंवा यार्न यंत्राच्या साह्याने वाळलेल्या धाग्यापासून रील बनविले जातात. केळी धाग्यापासून पर्स, पिशवी, चटई तयार केली जाते. याचबरोबरीने कापूस आणि केळी धाग्याचा वापर करून कपडेनिर्मिती केली जाते.\\n',\n",
       " '१) खोडातून धागा, पाणी वेगळे करण्यासाठी खोडावरील एकेक आवरण वेगळे करावे लागते. त्यासाठी मजूर श्रम व वेळ जास्त लागतो. खोडाचे दोन उभे समान भाग केले असता आवरण सहजरित्या निघते. मजुरांची कार्यक्षमता वाढते.\\n',\n",
       " '२) खोडाचे दोन समान भाग करण्यासाठी नवसारी कृषी विद्यापीठाने यंत्र तयार केले आहे. या यंत्रामध्ये एका तासात सुमारे १५० खोडांचे उभे दोन समान भाग केले जातात, यासाठी दोन मजूर लागतात.\\n',\n",
       " '३) या यंत्रासाठी दोन अश्वशक्तीची विद्युत मोटर आणि १८ इंच व्यास असलेला कटर वापरला जातो.\\n',\n",
       " '१) यंत्राद्वारे वेगळे केलेल्या खोडाच्या आवरणातून धागा काढला जातो.\\n',\n",
       " '२) यंत्रामध्ये मळणीसाठी वापरले जाणारे रास्प बार सिलेंडर असतात. खोडाचे आवरण त्यामध्ये घातले असता हॅमरिंग ॲक्शनच्या सहाय्याने खोडातील पाणी व धाग्या व्यतिरिक्त असलेला भाग काढून केळी धागा मागे ओढून काढला जातो.\\n',\n",
       " '\\n',\n",
       " 'सेंद्रिय शेतीसाठी आम्ही शेतकऱ्यांचे दोन गट स्थापन केले आहे. त्याअंतर्गत ऊस, कांदा, गहू, तूर, ज्वारी, हरभरा आणि भाजीपाला पीके घेऊ लागलो आहे. त्यासाठी ब्रॅंन्ड तयार केला असून चांगले दर मिळू लागले आहेत. तसेच सेंद्रिय गुळाचे उत्पादनही आम्ही घेत आहोत.\\n',\n",
       " '- स्वाती शिंगाडे, अध्यक्ष, प्युअर ऑरगॅनिक सेंद्रिय गट, सोनकसवाडी, ता. बारामती, जि. पुणे.\\n',\n",
       " 'पुणे : जिल्ह्यात गेल्या दोन वर्षांपासून सेंद्रिय शेतीला चालना देण्यात येत आहे. यासाठी जिल्ह्यात आत्माअंतर्गत ४० गट स्थापन करण्यात आले असून गटांच्या माध्यमातून दोन हजार शेतकऱ्यांनी सेंद्रिय शेतीमध्ये वाटचाल सुरू केली आहे. त्याअंतर्गत सुमारे दोन हजार एकर क्षेत्र सेंद्रिय शेतीखाली आले आहे.त्यामुळे येत्या काळात नागरिकांना सेंद्रिय भाजीपाला मिळण्यास मदत होणार आहे.\\n',\n",
       " 'गेल्या दोन वर्षापासून सरकारने सेंद्रिय शेतीवर भर देण्यास सुरूवात केली आहे. जिल्ह्यातील शेतकऱ्यांचा सेंद्रिय शेतीकडे कल वाढावा, यासाठी शेतकऱ्यांना एकत्र आणून त्यांचे गट स्थापन करण्यापासून ते त्यांनी उत्पादित केलेल्या शेतीमालाच्या विक्रीपर्यंत व्यवस्था करण्याचे काम आत्माअंतर्गत केले जात आहे. गेल्या वर्षी शेतकऱ्यांचे गट स्थापन करणे, गट मार्गदर्शकांची निवड, प्रशिक्षण, माती नमुने तपासणी करणे, अभ्यासदौरे, शेतकरी नोंदणी करण्यात आली.\\n',\n",
       " 'दुसऱ्या वर्षी निविष्ठा पुरविणे, पीजीएस ग्रीन प्रमाणपत्र देणे, गांडूळ खत युनिट उभारणे आदि बाबी देण्यात आल्या आहेत. त्यासाठी पहिल्यावर्षी एक कोटी ८१ लाख, तर दुसऱ्यावर्षी दोन कोटी १९ लाख रुपयांचा निधी यासाठी मिळाला.\\n',\n",
       " 'सध्या जिल्ह्यातील सुमारे दोन हजार शेतकरी सेंद्रिय शेतीकडे वळाले आहेत. त्याअंतर्गत सुमारे दोन हजार एकर क्षेत्र सेंद्रिय शेतीखाली आले आहे. त्यामध्ये भाजीपाल्यात कांदा, फ्लॉवर, कोबी, वांगे, टोमॅटो, भेंडी, कडधान्यात तूर, मूग, भात, गहू, ज्वारी, बाजरी, ऊस, फळामध्ये डाळिंब, अंजीर, सीताफळ आदी पिके शेतकरी घेऊ लागले असून काही शेतकऱ्यांचे पीक उत्पादन सुरू झाले आहे.\\n',\n",
       " 'या उत्पादकांच्या सेंद्रिय शेतीमालाचे प्रमाणीकरण तसेच ऑनलाईन नोंदणी झाली असल्यामुळे हा शेतीमाल ग्राहकांना उपलब्ध होऊ लागला आहे. तसेच त्यांना इतर शेतीमालाच्या तुलनेत चांगले दर मिळत आहे.\\n',\n",
       " 'सेंद्रीय शेती पुणे\\n',\n",
       " '\\n',\n",
       " 'कृषी पतपुरवठा सोसायट्यांच्या व्यवस्थापन खर्चासाठी १४२ कोटी रुपये देण्याची तयारी सहकार खात्याने दाखविली होती. मात्र, निधी प्रत्यक्षात रुजू झाल्याशिवाय आंदोलन मागे न घेण्याची भूमिका गटसचिवांनी ठेवली होती.\\n',\n",
       " 'पुणे ः राज्यातील गटसचिवांनी विविध मागण्यांसाठी सुरू केलेले काम बंद आंदोलन अखेर मागे घेतले आहे. यामुळे शेतकऱ्यांच्या कर्जमाफीचे रखडलेले प्रस्ताव तयार होण्याला वेग मिळेल, अशी माहिती सहकार विभागाच्या सूत्रांनी दिली.\\n',\n",
       " 'कर्जमाफीच्या कालावधीतच राज्यातील कृषी पतपुरवठा सोसायट्यांना व्यवस्थापन खर्च मिळालेला नाही. तसेच अनेक महिन्यांपासून गटसचिवांचे पगार झालेले नाहीत. त्यामुळे २७ जूनपासून राज्यातील गटसचिवांनी संप सुरू केला होता.\\n',\n",
       " 'सहकार राज्यमंत्री गुलाबराव पाटील यांनी गटसचिवांशी चर्चा केल्यानंतर थेट शिवसेना भवनात आम्हाला नेले. तेथे शिवसेना नेते उद्धव ठाकरे यांनी आमच्याशी वीस मिनिटे चर्चा केली.\\n',\n",
       " 'तुमच्या मागण्यांचा पाठपुरावा मी करेन, पण कर्जमाफीचे प्रशासकीय काम तुम्ही मार्गी लावावे, असे ठाकरे यांनी सांगितले. त्यामुळे आम्ही आंदोलन समाप्त केले, अशी माहिती गटसचिवांचे नेते विश्वनाथ निकम यांनी दिली.\\n',\n",
       " 'संप मिटल्यामुळे आता ६६ रकान्यांमधील कर्जमाफीची माहिती गटसचिवांकडून तातडीने भरली जाणार आहे. सॉफ्टवेअरमध्ये माहिती भरणे तसेच पात्र थकबाकीदारांना अर्ज भरण्यासाठी मार्गदर्शन करणे अशी कामेदेखील सुरू होतील. यामुळे कर्जमाफीच्या रखडलेल्या प्रक्रियेला वेग येईल, असे सहकार विभागाचे म्हणणे आहे.\\n',\n",
       " 'गटसचिवांचे वेतन दरमहा चालू ठेवण्यासाठी सहकार विभागाला सूचना देण्यात आलेल्या आहेत. त्याचप्रमाणे व्यवस्थापन अनुदान देखील बॅंकांनी परस्पर खर्च न करण्याचे ठरले आहे. याशिवाय जिल्हास्तरीय समित्यांचे स्वतंत्र बॅँक खाते उघडून वेतन दिले जाणार असल्याने शासकीय सेवेते येण्याचे आमचे पहिले पाऊल आहे, असेही गटसचिवांनी म्हटले आहे.\\n',\n",
       " '\\n',\n",
       " 'झारखंडचे मुख्यमंत्री रघुबर दास यांनी म्हटले आहे की, त्यांचे सरकार भारतातील सर्वात मोठे युद्ध स्मारक बनवित आहे.\\n',\n",
       " 'पंतप्रधान नरेंद्र मोदी यांनी राजकोटमध्ये महात्मा गांधी संग्रहालयाचे उद्घाटन केले.\\n',\n",
       " 'भारतीय रिजर्व बँकेने त्याच्या निर्देशांचे पालन न केल्यामुळे करूर वैश्य बँकेवर 5 कोटी रुपयांचा दंड ठोठावला आहे.\\n',\n",
       " 'मिझोराम येथील आइजोल येथे भारत आणि बांग्लादेश दरम्यान संयुक्त सीमा परिषद आयोजित केली गेली.\\n',\n",
       " 'भारत रशियाला तीन मिग -21 लष्करी जेट्स भेट देणार आहे. वार्षिक शिखर परिषदेसाठी 4 आणि 5 ऑक्टोबर रोजी पंतप्रधान नरेंद्र मोदी यांची नवी दिल्ली येथे रशियाचे राष्ट्रपती व्लादिमिर पुतिन यांची भेट घेतील.\\n',\n",
       " 'मध्य प्रदेशमध्ये भारताचा पहिला मका (कॉर्न) महोत्सव सुरू झाला आहे. मध्य प्रदेशचे मुख्यमंत्री शिवराजसिंह चौहान, राज्यपाल आनंदबीन पटेल यांच्या मते हा उत्सव एक प्रकारचा आंतरराष्ट्रीय कार्यक्रम आहे.\\n',\n",
       " 'रिझर्व्ह बँक ऑफ इंडियाने (आरबीआय) बंधन बँकेला नवीन शाखा उघडण्यापासून प्रतिबंधित केले आहे आणि शेअरहोल्डिंग नियमांवर टिकून राहण्यास अयशस्वी झाल्यास बँकेच्या सीईओच्या पगाराची भरपाई करण्यास सांगितले आहे.\\n',\n",
       " 'चीन करिता भारताचे पुढील राजदूत म्हणून विक्रम मिश्री यांची नियुक्ती झाली आहे.\\n',\n",
       " 'मराठी लेखक आणि नाटककार कविता महाजन यांचे निधन झाले आहे. त्या 51 वर्षांच्या होत्या.\\n',\n",
       " 'Next हेड क्वार्टर नॉर्थर्न कमांड मध्ये 130 जागांसाठी भरती\\n',\n",
       " '\\n',\n",
       " 'देशभरात सर्वदूर पावसाने हजेरी लावली आहे. अनेक पिकांना आवश्\\u200dयक होता त्या वेळी पाऊस झाल्याने उत्पादनवाढीची अपेक्षा आहे.\\n',\n",
       " 'नवी दिल्ली ः देशात यंदा समाधानकारक पावसाच्या पार्श्\\u200dवभूमीवर गेल्या वर्षातील खरिपाच्या तुलनेत उत्पादन वाढेल, असे प्रतिपादन केंद्रीय कृषिमंत्री राधामोहन सिंह यांनी गुरुवारी (ता. 21) केले.\\n',\n",
       " '2016-17 तील अंदाज जाहीर करताना कृषिमंत्री सिंह म्हणाले, की 2016-17 मध्ये चांगला पाऊस झाला. यामुळे खरीप हंगामात शेतकऱ्यांना भरघोस उत्पादन काढणे शक्\\u200dय झाले. त्यापूर्वीच्या दोन वर्षांत सलग दुष्काळाने धान्योत्पादनावर परिणाम झाला होता.\\n',\n",
       " 'यंदाही चांगला पाऊस झाल्याने खरीप हंगामात 135 दशलक्ष टन धान्योत्पादन होण्याची अपेक्षा आहे. कडधान्यांचेही उत्पादन वाढणार असून, डाळींच्या स्वयंपूर्णतेचे आम्ही उद्दिष्ट ठेवले आहे. येत्या दोन ते तीन वर्षांत हे उद्दिष्ट गाठण्याचा प्रयत्न सुरू आहेत.\\n',\n",
       " 'पीक उत्पादन स्थिती (उत्पादन ः दशलक्ष टनांत)\\n',\n",
       " '\\n',\n",
       " 'हिंगोली : जिल्ह्यातील शेतकऱ्यांना बागायती पिकांच्या सिंचनासाठी पाण्याची गरज असताना महावितरणने कृषिपंपांच्या वीज देयकांची सक्तीने वसुली सुरू केली आहे; परंतु वीज देयकांची थकबाकी भरण्यासाठी अनेक शेतकऱ्यांकडे पैसे नसल्यामुळे महावितरणने सोयाबीनची हमीभावाने खरेदी करून वीज देयकांची थकबाकी भरून घ्यावी, अशी मागणी या शेतकऱ्यांनी केली आहे.\\n',\n",
       " 'हिंगोली जिल्ह्यामध्ये ७० हजार ७०१ कृषिपंपधारक असून, त्यांच्याकडे ५१४ कोटी २ लाख रुपये वीज देयक थकबाकी आहे. कृषिपंपधारकांचा वीजपुरवठा खंडित करण्यात आल्यामुळे शेतकऱ्यांना रब्बी हंगामातील गहू, हरभराच्या पेरणीसाठी रान ओलविता येत नसल्यामुळे पेरणी रखडली आहे. तसेच हळद, केळी, ऊस, कापूस आदी पिकांना पाणी देता येत नाही.\\n',\n",
       " 'दुसरीकडे आधारभूत किंमत खरेदी केंद्रांवर सोयाबीनचे आर्द्रतेचे प्रमाण १२ टक्क्यांपेक्षा जास्त येत असल्यामुळे अद्याप सोयाबीनची खरेदी सुरू झाली नाही. या परिस्थितीत महावितरणने कृषी पंपाच्या वीज देयकांची वसुली सुरू केली आहे.\\n',\n",
       " 'पिकांच्या सिंचनासाठी अडथळा येऊ नये म्हणून अनेक शेतकऱ्यांची वीज देयके भरण्याची इच्छा आहे; परंतु त्यांच्याकडे देयक अदा करण्यासाठी पैसे नाहीत. त्यामुळे महावितरण कंपनीनेच सोयाबीनची हमीदराने खरेदी करून वीज देयकांची थकबाकी भरून घ्यावी, अशी मागणी शेतकऱ्यांनी केली आहे.\\n',\n",
       " 'यासाठी सोमावारी (ता. ३०) हिंगोली येथील महावितरणच्या कार्यालयावर शेतकऱ्यांनी सोयाबीनच्या पोत्यासह मोर्चा काढला होता. तर विविध पक्ष संघटनांनी शासनाच्या धोरणांचा निषेध केला आहे.\\n',\n",
       " '\\n',\n",
       " 'यवतमाळ : जिल्हयात सुरु असलेल्या संततधार पावसाने आर्णी, दिग्रस व उमरखेड तालुक्यात पूरस्थिती निर्माण झाली आहे. आत्तापर्यंत ७०० जणांचे स्थलांतर करण्यात आले. या परिस्थितीवर जिल्हाधिकारी डॉ.राजेश देशमुख स्वतः लक्ष ठेऊन आहे.आज रात्री ८.३० ते १०.३० आपत्ती व्यवस्थापन नियंत्रण कक्षातून या तीन तालुक्यासह जिल्ह्यातील स्थितीचा आढावा घेतला.\\n',\n",
       " 'बुधवार (ता.१५)रात्रीपासून सुरू झालेली पावसाची संततधार आजही सुरू होती. पंधरा दिवसांपासून पावसाचा खंड पडल्याने शेतकर्\\u200dयांच्या नजरा आभाळा कडे होत्या. पावसाने हजेरी लावल्याने शेतकरी सुखावला असला तरी काही तालुक्यात कोसळलेल्या पावसाने जनजीवन विस्कळीत झाले आहे. दिग्रस, आर्णी व उमरखेड तालुक्यात कमी वेळेत जास्त पाऊस कोसळला. परिणामी नदी नाल्याना पूर आला. त्यात नदी, गेल्या कालच्या गावात पाणी शिरले. तिन्ही तालुक्यातील जवळपास ७०० लोकांना सुरक्षित ठिकाणी नेण्यात आले .\\n',\n",
       " 'पावसाची संततधार सुरू असल्याने जिल्हाधिकारी डॉ राजेश देशमुख यांनी आज (ता.१६)रात्री नियंत्रण कक्षात बसून महसुल, तहसील, उपविभागीय कार्यालय, महावितरण, पाटबंधारे विभाग आदी महत्त्वाच्या विभागाशी संपर्क साधला. कॅम्प मध्ये असलेल्या नागरिकाचे जेवण, त्यांच्या व्यवस्थेची विचारपूस करीत पंचनामाचे आदेश दिले .\\n',\n",
       " '\\n',\n",
       " 'Iun 2011: 1 3 मारुती स्तोत्र (मराठी विकिपीडियातून स्थानांतरीत) , 2 1 आरती\\n',\n",
       " 'Ian 2012: 1 4 मुखपृष्ठ , 2 3 सुगरणीचा खोपा , 3 3 निर्झरास , 4 3 अरे संसार संसार , 5 2 शेतकऱ्याचा असूड , 6 2 शून्य मनाचा घुमट , 7 2 विकिस्रोतःसर्वग्रंथ , 8 2 मधुयामिनी , 9 2 दोष आणि प्रीति , 10 1 सौंदर्याचा अभ्यास कर!\\n',\n",
       " 'Iun 2012: 1 3 मारुती स्तोत्र , 2 2 रामदास स्वामींचे अभंग , 3 2 नवनाथ कथासार , 4 2 समर्थस्तवन , 5 2 मारुती स्तोत्र (मराठी विकिपीडियातून स्थानांतरीत) , 6 2 आनंदी आनंद गडे , 7 1 आरती\\n',\n",
       " 'Ian 2015: 1 1 फिटे अंधाराचे जाळे\\n',\n",
       " 'Ian 2017: 1 2 ही अंतःकाळाची मिरवणूक अधिक प्रिय - दामोदर हरी चापेकर.pdf , 2 1 चंदगडी बोली लोककथा\\n',\n",
       " 'Ian 2018: 1 2 हिंदीचलन पद्धतीचा इतिहास.pdf , 2 2 इचलकरंजी संस्थांनचा इतिहास.pdf/९९ , 3 2 आनंदवनभुवनी , 4 1 महाबळेश्वर.djvu\\n',\n",
       " '\\n',\n",
       " 'सोलापूर पोलीस दलांतर्गत ‘होमगार्ड’ पदांच्या 322 जागांसाठी भरती\\n',\n",
       " 'पदाचे नाव: होमगार्ड\\n',\n",
       " 'नोकरी ठिकाण: सोलापूर\\n',\n",
       " 'नोंदणी करण्याचे ठिकाण: ग्रामिण पोलीस मुख्यालय , सोलापूर,ता.जि सोलापूर (महाराष्ट्र)\\n',\n",
       " '\\n',\n",
       " 'संजय राऊत म्हणाले, लाज वाटते! _ 24taas.com\\n',\n",
       " 'संजय राऊत म्हणाले, लाज वाटते!\\n',\n",
       " '\\n',\n",
       " 'सोलापूर ः डाळिंबाच्या अधिक उत्पादन आणि गुणवत्तेसाठी सेंद्रिय, जैविक पद्धतीचे व्यवस्थापन महत्त्वाचे आहेच. पण जास्तीच्या उत्पादनवाढीसाठी परागीभवन होणे महत्त्वाचे आहे, त्यासाठी मधमाशी पालन फायदेशीर ठरू शकते. एकरी किमान ३० ते ३५ टक्के उत्पादनवाढ मिळू शकते, असे प्रतिपादन बारामती येथील कृषी विज्ञान केंद्राचे विषय विशेषज्ञ डॉ. मिलिंद जोशी यांनी शनिवारी (ता.१६) येथे केले.\\n',\n",
       " \"‘अॅग्रोवन'च्या वतीने आयोजित द्राक्ष-डाळिंब प्रदर्शात ‘डाळिंबाचे सेंद्रिय व जैविक पद्धतीचे व्यवस्थापन व मधमाशीचे महत्त्व’ या विषयावरील चर्चासत्रात डॉ. जोशी बोलत होते. प्रगतिशील शेतकरी पोपट डुके, डी. डी. बारवकर हे डाळिंब उत्पादक या वेळी उपस्थित होते.\\n\",\n",
       " 'डॉ. जोशी म्हणाले, की सेंद्रिय आणि जैविक उत्पादनांमध्ये आज शेतकऱ्यांची फसवणूक होते आहे. त्यामुळे सावध राहण्याची गरज आहे. आपल्या आजूबाजूला, परिसरात मिळणाऱ्या साधनांतून सेंद्रिय, जैविक पद्धतीचे योग्य व्यवस्थापन करणे शक्\\u200dय आहे. नेमकी माहिती घेऊनच जैविक वा सेंद्रिय उत्पादने खरेदी करावीत.\\n',\n",
       " 'हिरवळीच्या खतांची लागवड करणे आवश्\\u200dयक आहे. पीक फेरपालटीत द्विदल पीके घ्यावीत, शेतातील काडीकचरा व सेंद्रिय पदार्थांचे पुनर्चक्रीकरण, सेंद्रिय खत, गांडूळ खत, जीवाणू खतांचा वापर करावा. स्लरी तयार करण्याच्या पद्धतीतही आज बराच फरक आहे. महिन्यातून दोनदा स्लरी दिली जाते. पण ती चुकीची आहे. दर चार दिवसांनी स्लरी देणे आवश्\\u200dयक आहे. एकात्मिक अन्नद्रव्य व्यवस्थापन महत्त्वाचे आहे.\\n',\n",
       " 'आपल्याकडील जमिनीत स्फुरदचे प्रमाण जास्त आहे. त्याशिवाय सिलिकॉनही वापरावे, त्यामुळे झाडांची प्रतिकारशक्ती चांगली वाढते. डाळिंबामध्ये मधमाशीपालन देखील फायदेशीर ठरते, असेही डॉ. जोशी म्हणाले.\\n',\n",
       " 'इंदापूर, बारामती तालुक्\\u200dयातील शेतकरी पोपट डुके, डी. डी. बारवकर हे आवर्जून या कार्यक्रमाला उपस्थित होते. आपल्या डाळिंब बागेत मधमाशीपालनाचे केलेले विविध प्रयोग आणि झालेले फायदे याबाबतची माहिती त्यांनी दिली. त्यामुळे शेतकरी ते शेतकरी असा थेट संवादही या वेळी झाला.\\n',\n",
       " '\\n',\n",
       " 'कनेक्ट द डॉट्स आयुष्याचा एक आराखडा असतो हे सत्य आहे. एक विस्तृत आराखडा. आयुष्यातील प्रत्येक अनुभव, मग तो चांगला असो वा वाईट असो, तुम्हा...\\n',\n",
       " '\\n',\n",
       " 'कोकण : कर्जत ४३, कडाव ४२, खालापूर चौक ३२, कोपरोली ४५, उरण ३३, आटोणे ३१, असुर्डे ४०, पेण ३०, कामर्ली ३३, इंदापूर ३०, म्हसळा ३०, खामगाव ३८, चिपळुण ३५, खेरडी ६५, मार्गतम्हाणे ६०, रामपूर ६५, सावर्डे ६६, कळकवणे ६३, शिरगाव ८२, दापोली ४०, बुरोंडी ३५, दाभोळ ४५, अंजर्ला ३०, वाकवली ४८, पालगड ३८, वेलवी ४२, खेड ३०, भारने ४२, तलवली ४४, पटपन्हाळे ३३, अबलोली ३५, रत्नागिरी ४६, कोटवडे ६२, तरवल ३५, पाली ४१, देवरुख ५३, राजापूर १०७, सवंडल ८३, कोंडीया ४७, कुंभवडे ५७, नाटे, ओणी ५४, पाचल ४७, लांजा ५३, भांबेड १०१, पुनस ४२, सातवली ३८, विलवडे १३५, पाटगाव ३४, भेडशी ३०, साखर ४६.\\n',\n",
       " 'मध्य महाराष्ट्र : डांगसौदाणे ३३, मुल्हेर ३४, कळवण ३९, मोकभांगी ३४, कानशी ५५, दालवत ६०, अभोणा ५७, उभेरठाणा ९०, बाऱ्हे ११८, बोरगाव १४०, मानखेड १४६, सुरगाना १५२, उमराळे ३९, नाणशी १३७, कोशिंबे, १११ कसबेवणी ६२, वरखेडा ३५, धारगाव ३०, पेठ ६१, जागमोडी १०४, हेळवाक ५८, मरळी ३७, महाबळेश्\\u200dवर ६०, कोरेगाव ७०, शिराळा ३७, चरण ४२, बाजार ४१, करंजफेन ४७, मलकापूर ३९, आंबा ६३, राधानगरी ८१, सरवडे ४३, आवळी ३३, कसबा ४२, गगनबावडा ५८, साळवण ९७, शिरोली-दुमाला ४२, सिद्धनेर्ली ४८, केनवडे ३०, बिद्री ३१, कडेगाव ६०, कराडवाडी ५५, गवसे ४२, हेरे ३२.\\n',\n",
       " '\\n',\n",
       " 'परभणी ः कमी पावसामुळे उद्\\u200cभवलेल्या परिस्थितीमध्ये प्रशासनासोबत लोकप्रतिनिधींनी जनता तसेच शेतकऱ्यांना दिलासा देण्यासाठी काम करावे, असे प्रतिपादन राज्याचे स्वच्छता व पाणीपुरवठा मंत्री बबनराव लोणीकर यांनी केले.\\n',\n",
       " 'श्री. लोणीकर म्हणाले, राज्यातील टंचाई स्थितींची पाहणी करण्यासाठी केंद्रीय पथक येईल. पण सद्यस्थितीमध्ये पाणी, चारा, जनावरांसाठी पाणी मिळण्यास प्राधान्य दिले जावे. केंद्र शासनाने उपगृहाद्वारेदेखील परिस्थितीची पाहणी केली. शेतकऱ्यांच्या शासनाकडून मोठ्या अपेक्षा आहेत. यासाठी पीक कापणी प्रयोग तसेच प्रत्यक्ष पाहणी महत्त्वाची ठरणार आहे. त्यादृष्टीने कृषी सहायक, ग्रामविकास अधिकारी, तलाठी यांच्यावर महत्त्वाची जबाबदारी आहे.\\n',\n",
       " 'दरम्यान श्री. लोणीकर यांनी गणेशपूर (ता. जिंतूर) तळतुंबा (ता. सेलू), परभणी तालुक्यातील गावांना भेट देऊन पीक परिस्थितीची पाहणी केली.\\n',\n",
       " '\\n',\n",
       " 'सातारा ः दुष्काळी भागात अनेक ठिकाणी दमदार पाऊस झाल्याने अनेक गावातील पाणीटंचाई कमी होण्यास मदत झाली आहे. मागील सप्ताहाच्या तुलनेत टॅंकरची संख्या सतराने घटली असल्याची माहिती जिल्हा परिषदेच्या पाणीपुरवठा विभागातील सूत्रांनी दिली आहे.\\n',\n",
       " 'माण, कोरेगाव, खटाव व फलटण तालुक्\\u200dयांतील ३० विहिरींचे अधिग्रहण करण्यात आले आहे. अजूनही दुष्काळी तालुक्\\u200dयात कमी अधिक स्वरूपात पाऊस सुरू आहे. पावसाचे प्रमाण असेच राहिल्यास पाणीटंचाई कमी होण्यास मदत होणार आहे.\\n',\n",
       " '\\n',\n",
       " '\"https://mr.wikiquote.org/wiki/विशेष:सर्व_पाने/ठ\" पासून हुडकले\\n',\n",
       " '\\n',\n",
       " 'रोखठोक- गरिबीचा नवा आकडा - ५ _ 24taas.com\\n',\n",
       " '\\n',\n",
       " '10 जूनला भारत बंदचे आवाहन मुंबई – सरसकट कर्जमाफी, हमीभाव योजना, दुधाला योग्य दर आणि बैलगाडी शर्यतीच्या कायदेशीर मान्यता अशा विविध मागण्यांसाठी राष्ट्रीय किसान...\\n',\n",
       " '\\n',\n",
       " 'पुणे ः युरोपियन देशांना डाळिंब निर्यात करू इच्छिणाऱ्या डाळिंब बागायतदारांना त्यांच्या बागेची नोंदणी कृषी विभागाकडे अनारनेटद्वारे करणे बंधनकाकारक केले आहे. यापूर्वी नोंदणी करण्यासाठी ३० जानेवारी ही अंतिम मुदत होती. मात्र, शेतकऱ्यांनी मागणी केल्यानंतर या नोंदणीसाठी मुदतवाढ देण्यात आली असून, आता २८ फेब्रुवारीपर्यंत शेतकऱ्यांना नोंदणी करता येणार आहे.\\n',\n",
       " '\\n',\n",
       " 'अहमदनगर _ साखर कमी झाल्यानं चक्कर आली, असं केंद्रीय मंत्री नितीन गडकरी यांनी ट्विट करून सांगितलं आहे. चक्कर येण्यामागील कारण त्यामुळं स्पष्ट झालं आहे.\\n',\n",
       " 'महात्मा फुले कृषी विद्यापीठाच्या दीक्षांत समारंभात राष्ट्रगीत सुरु असताना चक्कर आल्यानं नितीन गडकरी कोसळले होते, त्यांना राज्यपाल सी. विद्यासागर राव यांनी सावरलं होत.\\n',\n",
       " 'हा प्रकार घडल्यानंतर नितीन गडकरींना रुग्णालयात दाखल करण्यात आलं होतं, त्यांंची प्रकृती आता स्थिर असल्याचं डॉक्टरांनी सांगितलं आहे.\\n',\n",
       " 'दरम्यान, नितीन गडकरींना विशेष विमानानं नागपूरला हलविण्यात येणार आहे.\\n',\n",
       " 'श्रीपाद छिंदमला लोकांनी दिला मोठा झटका; ...\\n',\n",
       " 'अहमदनगरमध्येही भाजप आघाडीवर, पाहा काय आह...\\n',\n",
       " '\\n',\n",
       " 'मुंबई _ बिग बॉसच्या सेटवर माझा बलात्कार करण्यात आला. सलमान आणि त्याच्या भावांनी माझ्यावर बलात्कार केला, असा गंभीर आरोप मॉडेल पूजा मिश्राने केला आहे. मुंबईत पत्रकार परिषद घेऊन तिनं हे आरोप केले आहेत.\\n',\n",
       " 'अभिनेता सलमान खान आणि त्याच्या भावांनी माझ्या वडिलांचा खून केला, असा आणखी एक धक्कादायक आरोपही पूजाने केला आहे.\\n',\n",
       " 'गेल्या 15 वर्षांपासून मला धमकावलं जात आहे. नारंग, खान, सिन्हा हे कुटुंब माझ्या वाईटावर आहेत. आजही मला अभिनेत्री सोनाक्षीच्या घरातून फोन येतात, असं तिनं सांगितलं.\\n',\n",
       " 'दरम्यान, माझ्याकडे आता घाबरून राहण्यासारखं काही राहिलेलं नाही. त्यामुळे मी आता घाबरून राहणार नाही, असं तिनं सांगितलं.\\n',\n",
       " '-रावण महात्मा; रावण दहनाची प्रथा बंद करण्याची मागणी\\n',\n",
       " '\\n',\n",
       " 'आजच्या ठळक बातम्या सोमवार २३ जानेवारी २०१७ ! VIDEO NEWS ! - News\\n',\n",
       " 'मुखपृष्ठ बातम्या आजच्या ठळक बातम्या सोमवार २३ जानेवारी २०१७ ! VIDEO NEWS !\\n',\n",
       " 'आजच्या ठळक बातम्या सोमवार २३ जानेवारी २०१७ ! VIDEO NEWS !\\n',\n",
       " 'आजच्या ठळक बातम्या सोमवार २३ जानेवारी २०१७ ! \"अर्थ व व्यवसाय विषयक एकमेव वृत्त वाहिनी\" नक्की बघा आणि शेअर करा ! आपले मत नोंदवा ! LIKE SHARE AND COMMENT .... अधिक माहितीसाठी आणि जाहिरातीसाठी संपर्क ९८१९४९९२७९\\n',\n",
       " '\\n',\n",
       " 'This entry was posted in मराठी चारोळी and tagged चारोळी, धनिक, श्रमिक on मार्च 25, 2011 by बाळासाहेब गवाणी-पाटील.\\n',\n",
       " '← फोर्ट सेंट जॉर्ज दह्याचे फ्रूट सॅलेड →\\n',\n",
       " '\\n',\n",
       " \"\\ufeff 2014 दुकाती 1199 Superleggera ' आपण विचारा असेल तर, You Can't… _ मोटारसायकल वैशिष्ट्य यादी, चित्रे, रेटिंग, पुनरावलोकने आणि discusssions\\n\",\n",
       " '20 जून 2015 _ लेखक: Dima _ टिप्पण्या बंद वर 2014 दुकाती 1199 Superleggera ‘ आपण विचारा असेल तर, आपण करू शकत नाही…\\n',\n",
       " 'दुकाती 98 T\\n',\n",
       " 'स्मार्ट eScooter दुकाती Diavel बजाज शोधा होंडा Goldwing नमुना M1 KTM 125 शर्यत संकल्पना हर्ले-डेव्हिडसन XR 1200 संकल्पना सुझुकी ब राजा संकल्पना होंडा DN-01 स्वयंचलित क्रीडा टेहळणीसाठी संकल्पना सुझुकी एक 650 होंडा DN-01 भारतीय मुख्य क्लासिक Moto Guzzi 1000 डाटोना इंजेक्शन Brammo Enertia मार्क Agusta 1100 ग्रांप्री बाईक कावासाकी ER-6n रॉयल एनफिल्ड बुलेट 500 क्लासिक मोटारसायकल होंडा ड्रीम लहान मुले Dokitto सुझुकी ब-राजा अंतिम नमुना सुझुकी Colleda CO Aprilia मन 850 एक मोटारसायकल होंडा मध्ये होंडा X4 कमी खाली दुकाती 60 दुकाती Desmosedici GP11 बाईक कावासाकी स्क्वेअर चार\\n',\n",
       " '\\n',\n",
       " 'शिवसेनेचा “चला सत्ता सोडू या” कार्यक्रम जोरात – राधाकृष्ण विखे पाटील\\n',\n",
       " 'विरोधी पक्ष नेते राधाकृष्ण विखे पाटील यांनी शिवसेनेची चांगलीच खिल्ली उडवली.\\n',\n",
       " 'टीम महाराष्ट्र देशा – राज्य सरकारला तीन वर्षे पूर्ण झाल्याच्या पार्श्वभूमीवर शिवसेनेने ‘घोटाळेबाज भाजपा’ नावाची पुस्तिका वितरित करून भाजपा वर अत्यंत गंभीर आरोप केलेत.मात्र शिवसेनेची हि निव्वळ स्टंटबाजी असुन शिवसेनेने केवळ देखावा न करता, या घोटाळेबाज सरकारमधून बाहेर पडून दाखवावं तरच शिवसेनेच्या या आरोपात काही अर्थ आहे असं म्हणता येईल.\\n',\n",
       " 'शिवसेनेचं दुटप्पी वागणं लोकांच्या लक्षात येतय.चला हवा येऊ द्या या हास्य कार्यक्रमप्रमाणे शिवसेनेचा मातोश्री production निर्मित चला सत्ता सोडू या हा कार्यक्रम सुरू असल्याचे म्हणत विधानसभेचे विरोधी पक्ष नेते राधाकृष्ण विखे पाटील यांनी शिवसेनेची चांगलीच खिल्ली उडवली.\\n',\n",
       " '\\n',\n",
       " 'संचित: कळले होते... कळले नव्हते\\n',\n",
       " '\\n',\n",
       " 'Home » Marathi Kavita - मराठी कविता » भेट .. ..\\n',\n",
       " 'तूच सांग अजून किती दिवस\\n',\n",
       " 'तुला नुसतंच स्वप्नात पाहू.\\n',\n",
       " 'अजूनही मी रे जगतेय,\\n',\n",
       " 'तू हे सर्व काही करतोस.\\n',\n",
       " '\\n',\n",
       " 'आजच्या ठळक बातम्या शुक्रवार ७ जुलै २०१७ ! फक्त २ मिनिटात ! - News\\n',\n",
       " 'मुखपृष्ठ बातम्या आजच्या ठळक बातम्या शुक्रवार ७ जुलै २०१७ ! फक्त २ मिनिटात !\\n',\n",
       " 'आजच्या ठळक बातम्या शुक्रवार ७ जुलै २०१७ ! फक्त २ मिनिटात !\\n',\n",
       " '\"अर्थसंकेत - मराठीतील एकमेव अर्थ व व्यवसाय विषयक वृत्त वाहिनी\" आजच्या ठळक बातम्या शुक्रवार ७ जुलै २०१७ ! फक्त २ मिनिटात ! नक्की बघा आणि शेअर करा ! आपले मत नोंदवा ! LIKE, SHARE, SUBSCRIBE AND COMMENT अधिक माहितीसाठी आणि जाहिरातीसाठी संपर्क ९८१९४९९२७९\\n',\n",
       " '\\n',\n",
       " 'व्यवसाय विषयक बातम्या मंगळवार २४ जुलै २०१८ ! - News\\n',\n",
       " 'मुखपृष्ठ बातम्या व्यवसाय विषयक बातम्या मंगळवार २४ जुलै २०१८ !\\n',\n",
       " 'व्यवसाय विषयक बातम्या मंगळवार २४ जुलै २०१८ ! महिनाभर नोकरीत नसलेल्या व्यक्तीला पी. एफ. मधून ७५ टक्के पैसे काढता येणार ! २०१८ मध्ये कार्यालयांसाठी जागेची मागणी मोठ्या प्रमाणात वाढली ! चेअरमन आणि व्यवस्थापकीय संचालक ही दोन्ही पदे एकाच व्यक्तीकडे कंपन्यांना ठेवता येणार नाहीत ! \"अर्थसंकेत - मराठीतील एकमेव अर्थ व व्यवसाय विषयक वृत्त वाहिनी\" LIKE, SHARE, SUBSCRIBE AND COMMENT अधिक माहितीसाठी संपर्क ९८१९४९९२७९ प्रशस्त १ आणि २ BHK घर नेरळ (कर्जत ) sms VAKAS on 56070\\n',\n",
       " '\\n',\n",
       " 'पालघर पोटनिवडणूक शिवसेना, भाजपकडून प्रतिष्ठेची बनली असून या पोटनिवडणुकीचा प्रचार आता शिगेला पोहोचला आहे. शिवसेनेने दिवंगत खासदार वनगा यांचे सुपुत्र श्रीनिवास वनगा यांना उमेदवारी देऊन भावनिक मुद्द्याला उद्धव ठाकरे यांनी हात घातला आहे. वनगा कुटुंबीयांचे साधे सांत्वनही करायला भाजपला वेळ मिळाला नसल्याची टीकाही उद्धव ठाकरे यांनी केली आहे.\\n',\n",
       " '\\n',\n",
       " 'चलनी नोटा रद्द झाल्यानंतर बँकामध्ये रु.१३ लाख करोड जमा - News\\n',\n",
       " 'मुखपृष्ठ बातम्या चलनी नोटा रद्द झाल्यानंतर बँकामध्ये रु.१३ लाख करोड जमा\\n',\n",
       " 'चलनी नोटा रद्द झाल्यानंतर बँकामध्ये रु.१३ लाख करोड जमा\\n',\n",
       " '\\n',\n",
       " 'मात्र भाजपा प्रदेशाध्यक्ष रावसाहेब दानवे यांच्या मध्यस्तीमुळे शेट्टी यांनी आपला राजीनाम्याच्या निर्णय मागे घेतला आहे. मात्र आपण काही चुकीचं बोललो नसल्याने माफी मागण्याचा प्रश्नच येत नाही, असं गोपाळ शेट्टीं यांनी म्हंटले आहे.\\n',\n",
       " '\\n',\n",
       " 'मणिशंकर अय्यर यांच्या या वक्तव्याचा कॉंग्रेसचे भावी अध्यक्ष राहुल गांधी यांनी सुद्धा समाचार घेत अय्यरांना माफी मागण्यास सांगितले होते.\\n',\n",
       " '\\n',\n",
       " 'नवीन दुवा येथे उपलब्ध आहे: https://www.marathimati.net/maharashtra/travel/forts/korigad-fort/\\n',\n",
       " '\\n',\n",
       " 'Previous RPF रेल्वे सुरक्षा बल 9739 भरती परीक्षा जाहीर. 📋19/12/2018\\n',\n",
       " 'Next नेव्हल डॉकयार्ड विशाखापट्टणम अप्रेन्टिस पदांच्या 275 जागा. 🆑05/12/2018\\n',\n",
       " '\\n',\n",
       " 'Published नोव्हेंबर 15, 2012 at 280 × 250 in गाजराचा हलवा.\\n',\n",
       " '\\n',\n",
       " 'ना. मा. निराळे\\n',\n",
       " '\\n',\n",
       " 'दिवाळी अंक २०१७\\n',\n",
       " 'आजचे राशीभविष्य\\n',\n",
       " 'आमच्या विषयी\\n',\n",
       " 'पृथ्वीच्या तापमानात २०१० पासून सातत्याने वाढ\\n',\n",
       " 'संग्रहित छायाचित्र\\n',\n",
       " 'मुंबई : जुहू येथून उड्डाण केलेले ओएनजीसीचे पवनहंस हेलिकॉप्टर सकाळी डहाणूजवळील समुद्रात कोसळले. या हेलिकॉप्टरमधून ओएनजीसीचे ५ कर्मचारी आणि २ पायलट प्रवास करीत होते. यांपैकी ४ जणांचा मृत्यू झाला असून इतर तीन जणांचा शोध सुरु आहे. जुहू येथून ओएनजीसीच्या ऑफशोर डेव्हलपमेंट एरियाकडे (ओडीए) निघालेल्या या हेलिकॉप्टरचा सकाळी एअर ट्राफिक कन्ट्रोलशी संपर्क तुटल्याने ते समुद्रात कोसळल्याची भीती व्यक्त केली जात होती. दरम्यान, नौदल आणि तटरक्षकदलाकडून समुद्रात बचावकार्य सुरु आहे.\\n',\n",
       " 'महत्त्वाच्या बातम्या\\n',\n",
       " 'RTI द्वारे विचारलं, १५ लाख रुपये केव्हा मिळणार ? उत्तर मिळालं...\\n',\n",
       " \"पाक खेळाडूची विनंती : 'खेळताना अनेकदा भारताकडून विजय हिसकावला, पण आज मदतीची गरज'\\n\",\n",
       " 'आजचे राशीभविष्य, मंगळवार, २४ एप्रिल २०१८\\n',\n",
       " 'ओेएनजीसीच्या ५ अधिकाऱ्यांना घेऊन निघालेल्या या हेलिकॉप्टरने जुहू येथून सकाळी १०.२० वाजता उड्डाण केले. हे हेलिकॉप्टर मुंबईनजीक अरबी समुद्रातील ओएनजीसीच्या तळावर १०.५८ वाजता पोहोचणे अपेक्षित होते. मात्र, ते अद्याप येथे पोहोचलेले नाही. मुंबईपासून समुद्रात ३० नॉटिकल माइल्स इतक्या अंतरावर गेल्यानंतर १०.३० वाजल्यापासून या हेलिकॉप्टरचा एअर ट्राफिक कन्ट्रोलशी संपर्क होऊ शकला नव्हता. मात्र, आता हे हेलिकॉप्टर डहाणूजवळ समुद्रात कोसळल्याचे स्पष्ट झाले आहे. कारण, या हेलिकॉप्टरचे अवशेष नौदलाला या ठिकाणी आढळून आले आहेत.\\n',\n",
       " 'याप्रकरणी प्रतिक्रिया देताना केंद्रीय मंत्री धर्मेंद प्रधान म्हणाले, ‘नौदल आणि तटरक्षक दल आपले काम करीत असून त्यांच्या समन्वयासाठी मी मुंबईकडे निघालो आहे. संरक्षणमंत्री निर्मला सीतारामण यांच्यासोबत याप्रकरणी चर्चा झाली आहे. त्यांनी यात सहकार्याची भुमिका दाखवली असून नौदल आणि तटरक्षकदलाला यामध्ये पूर्णपणे सहकार्याचे आदेश दिले आहेत.’\\n',\n",
       " 'ताज्या बातम्यांसाठी लोकसत्ताचे मोबाईल अॅप डाऊनलोड करा.\\n',\n",
       " 'आणखी महत्त्वाच्या बातम्या\\n',\n",
       " \"मुंबईत ५८ वर्षांची 'आया' अटकेत, शाळेत चिमुकलीवर करत होती लैंगिक अत्याचार\\n\",\n",
       " 'रघुराम राजन बँक ऑफ इंग्लंडचे गव्हर्नर होणार?\\n',\n",
       " 'वरील बातमीपत्र वाचले पाच कर्मचारी व दोन पायलट ह्यांची नावे दिली असती तर त्यांच्या नातेवाईकांना शोधणे यॊग्य ठरले असते हि नावे का प्रकाशित करण्यात आली नाहीत ?\\n',\n",
       " 'खालील बातम्या तुम्ही वाचल्या का?\\n',\n",
       " \"मी शाहरुखचा 'स्वदेस' पाहिलाच नाही- आमिर खान\\n\",\n",
       " 'शाहरुखने माझं आयुष्य उध्वस्त केलं, त्या तरुणीचा आरोप\\n',\n",
       " 'महापालिकेच्या ३४ मराठी शाळा बंद\\n',\n",
       " '\\n',\n",
       " 'दिवाळी अंक २०१७\\n',\n",
       " 'आजचे राशीभविष्य\\n',\n",
       " 'आमच्या विषयी\\n',\n",
       " 'लैंगिक गैरवर्तनाचे आरोप झालेल्या कलंकितांसोबत काम करणार नाही\\n',\n",
       " '‘रिलायन्स’च्या वीजग्राहकांवर २ हजार कोटींचा भुर्दंड\\n',\n",
       " 'काही वस्तूंच्या किमती गेल्या वर्षी इतक्याच असून काही वस्तूंमध्ये किरकोळ स्वरूपाची भाववाढ झाली आहे.\\n',\n",
       " 'गणरायाचे सोमवारी वाजत, गाजत, नाचत, गर्जत आगमन होत आहे. त्यानिमित्त आवश्यक असणाऱ्या विविध वस्तूंनी वसईतील सर्वच बाजारपेठा सजल्या आहेत. निरनिराळ्या साहित्यांच्या खरेदीसाठी नागरिक, महिलांची गर्दी वाढू लागली आहे. काही वस्तूंच्या किमती गेल्या वर्षी इतक्याच असून काही वस्तूंमध्ये किरकोळ स्वरूपाची भाववाढ झाली आहे.\\n',\n",
       " 'लहान-मोठय़ा अगरबत्त्या : ३० रुपयांपासून ते ६० रुपयांपर्यंत\\n',\n",
       " 'गणेशोत्सवासाठी लागणाऱ्या साहित्याची उत्सवाच्या काळातच विक्री करावी लागते. त्यामुळे दरवर्षी नवीन सामान आणतो आणि त्याची विक्री करतो. त्यामुळे गेल्या वर्षी इतक्याच किमती यंदाही आहेत.\\n',\n",
       " '– दीपक म्हात्रे, मनोज म्हात्रे, वसईतील पूजेच्या साहित्याचे विक्रेते\\n',\n",
       " 'ताज्या बातम्यांसाठी लोकसत्ताचे मोबाईल अॅप डाऊनलोड करा.\\n',\n",
       " 'आणखी महत्त्वाच्या बातम्या\\n',\n",
       " 'खालील बातम्या तुम्ही वाचल्या का?\\n',\n",
       " '#MeToo मोहिमेवर लतादीदी म्हणतात...\\n',\n",
       " 'Video : रणवीर सिंगला आवडते ही मराठमोळी अभिनेत्री\\n',\n",
       " '#MeToo : २५ वर्षांपूर्वी माझंही शोषण झालं होतं; सैफचा धक्कादायक खुलासा\\n',\n",
       " '#MeToo : आरोप सिद्ध होणाऱ्यांसोबत काम न करण्याचा फरहान अख्तरचा निर्णय\\n',\n",
       " 'भारताचे नेतृत्व करण्याचे स्वप्न!\\n',\n",
       " 'रेल्वे प्रवासी आता ‘झीरो एफआयआर’ दाखल करू शकणार\\n',\n",
       " '‘महात्मा फुले जनआरोग्य योजने’तून दहा रुग्णालयांच्या सेवेला स्थगिती\\n',\n",
       " '\\n',\n",
       " 'Sarkarnama च्या महत्वाच्या बातम्यांची आणि ब्रेकिंग न्यूजची नोटिफिकेशन्स तत्काळ मिळविण्यासाठी सबस्क्राईब करा.\\n',\n",
       " '* आपण नोटिफिकेशनसंबंधी हवे ते बदल ब्राऊजर सेटिंग्जमध्ये जाऊन कधीही करू शकता.\\n',\n",
       " 'पिंपरी चिंचवड\\n',\n",
       " 'शेतकरी आत्महत्येवर राजकारण करू नका : मुख्यमंत्र्यांचे आवाहन\\n',\n",
       " '\"राज्यातील सुमारे 31 लाख शेतकर्यांवर कर्जाचा बोजा आहे. हा बोजा हटविण्यासाठी शासनाला सुमारे 30 हजार 500 कोटी रुपयांची गरज आहे. मात्र, याबरोबरच शेतीमध्ये शाश्वत गुंतवणूक करण्यासाठी मोठ्या निधीची आवश्यकता आहे. \" - मुख्यमंत्री\\n',\n",
       " 'मुंबई - विधिमंडळ अधिवेशनाच्या सलग दहाव्या दिवशीही कर्जमाफीसाठी आग्रही असलेल्या विरोधकांना मुख्यमंत्र्यांनी चांगलेच धारेवर धरले. शेतकरी आत्महत्या कोणत्या सरकारच्या काळात सुरु झाल्या याच्या तपशीलात जायचे नसल्याचे सांगत फडणविसांनी विरोधकांना टोला लगावाला. तसेच या विषयाचे राजकारण न करता सभागृहात मांडला जाणारा अर्थसंकल्प शांतपणे ऐकून घेण्याची विनंती त्यांनी विरोधकांना केली.\\n',\n",
       " 'याच दरम्यान सभापतींच्या परवानगीने मुख्यमंत्री देवेन्द्र फडणवीस निवेदन करण्यासाठी उभे राहिले. मात्र, विरोधकांचा गोंधळ सुरूच राहिला. याच गोंधळात मुख्यमंत्र्यांना आपले निवेदन करावे लागले.\\n',\n",
       " '\"राज्यातील सुमारे 31 लाख शेतकर्यांवर कर्जाचा बोजा आहे. हा बोजा हटविण्यासाठी शासनाला सुमारे 30 हजार 500 कोटी रुपयांची गरज आहे. मात्र, याबरोबरच शेतीमध्ये शाश्वत गुंतवणूक करण्यासाठी मोठ्या निधीची आवश्यकता आहे. \" अशा शब्दांत मुख्यमंत्र्यानी निवेदनाला सुरुवात केली.\\n',\n",
       " 'शासनाला शेतकऱ्यांची काळजी असल्यानेच उच्चस्तरीय समितिने केंद्रीय अर्थमंत्री आणि कृषीमंत्र्यांची भेट घेतली. या मुद्द्यावर केंद्राने सकारात्मकता दाखविली असली तरीही राज्य सरकार शेतकऱ्यांच्या प्रश्नावर मागे हटणार नाही, असेही ते म्हणाले. सरसकट कर्जमाफी केली तर नियमितपणे कर्ज फेडणाऱ्या 70 टक्के शेतकऱ्यांवर अन्याय होईल. म्हणून शाश्वत उपाययोजना करणे गरजेचे असल्याचे मुख्यमंत्री म्हणाले. तसेच गेल्या वेळी केलेल्या कर्जमाफी नंतरही 16 हजार शेतकऱ्यांनी आत्महत्या केल्या. आणि या आत्महत्याना सुरुवात कोणाच्या काळात झाली, याच्या तपशिलात मला जायचे नाही. पण या विषयावर राजकारण न करता विरोधकांनी आज मांडला जाणारा अर्थसंकल्प आणि केंद्राकडून अपेक्षित असलेला प्रतिसाद याची ज़रा प्रतीक्षा करावी. तसेच कामकाज सुरळीतपणे चालु द्यावे, अशी विनंती त्यांनी विरोधकांना केली.\\n',\n",
       " 'विश्वजित,\"\" तुला त्रास होईल असे पाप माझ्याकडून कधीही होणार नाही;\\'\\' जयंत पाटलांचे आश्\\u200dवासन\\n',\n",
       " 'सांगली ः पतंगराव कदम मुख्यमंत्री झाले असते तर महाराष्ट्राचे आजचे चित्र वेगळे दिसले असते. त्यांची कामाची अखंड धडाडी महाराष्ट्राच्या हितासाठी होती अशा...\\n',\n",
       " 'डहाणू ः देशात शेतीवर अवलंबून असणाऱ्यांची संख्या लक्षणीय आहे; मात्र धरण महामार्गाचे चौपदरीकरण, सहा पदरीकरण, बुलेट ट्रेन, कॉरिडोर, इंडस्ट्रियल झोनसाठी...\\n',\n",
       " 'नगर ः एक टॅबलेट ठेवली म्हणजे एक उंदीर मेला पाहिजे, असा अर्थ काढणे चुकीचे आहे. त्यामुळे चुकीचा अर्थ काढणाऱ्यांना देवांने सदबुद्धी द्यावी, असा टोला...\\n',\n",
       " 'नगर ः माजी मंत्री बबनराव ढाकणे यांच्या गौरव सोहळ्यास मुख्यमंत्री देवेंद्र फडणवीस, ग्रामविकासमंत्री पंकजा मुंडे यांनी येऊ नये, यासाठी भाजपच्याच काही...\\n',\n",
       " \"'सकाळ'ची अन्य प्रकाशने\\n\",\n",
       " 'सकाळ टाईम्स\\n',\n",
       " \"'सकाळ'चे उपक्रम\\n\",\n",
       " '\\n',\n",
       " 'दिवाळी अंक २०१६\\n',\n",
       " 'आजचे राशीभविष्य\\n',\n",
       " 'आमच्या विषयी\\n',\n",
       " 'एलईडी मासेमारी करणाऱ्या नौकांचे सदस्यत्व रद्द होणार\\n',\n",
       " 'पेट्रोल ८०, तर डिझेल ६७ रुपयांवर\\n',\n",
       " '४४ किलोमीटर वर्तुळाकार मार्गावर मेट्रो धावणार\\n',\n",
       " 'रसिकांसाठी हळूहळू एक मापदंड बनून जातो. आणि कधीतरी मग आपल्या वाचनाची कहाणी उलगडून सांगतो.\\n',\n",
       " '‘वाचत सुटलो त्याची गोष्ट’- निरंजन घाटे,\\n',\n",
       " 'एखादा माणूस वाचनवेडा असतो. मिळेल ते वाचत जातो. वाचायचं मिळवत जातो. रसिकांसाठी हळूहळू एक मापदंड बनून जातो. आणि कधीतरी मग आपल्या वाचनाची कहाणी उलगडून सांगतो. निरंजन घाटे यांच्या ‘वाचत सुटलो त्याची गोष्ट’ या अलीकडच्या पुस्तकाची ही पाश्र्वभूमी. हा वरवर दिसतो तसा सोपा प्रकार नाहीये. हिमनगाचं टोक ही अगदीच नेहमीची उपमा झाली; पण घाटे यांचं वाचनप्रेम इतकं अफाट आहे, की ते खरोखरच एका पुस्तकात मावण्यासारखं नाही. तरीही समकालीन प्रकाशनाच्या या अडीचशे पानी पुस्तकाने हे शिवधनुष्य चांगल्या तऱ्हेने पेललेलं आहे.\\n',\n",
       " 'घाटे यांनी हे पुस्तक जगातल्या तमाम वाचनवेडय़ांना अर्पण केलं आहे. आणि ते समस्त वाचनवेडे या पुस्तकावर उडय़ा मारत आहेत! कारण सरळ आहे : आपल्या या अनोख्या वेडाला शब्दबद्ध करताना लेखकाने सगळ्या वाचनवेडय़ांना एक आवाज दिला आहे.. एक चेहरा दिला आहे.\\n',\n",
       " 'आज चाळिशीच्या पुढे असलेल्या पिढीच्या तारुण्यात टीव्ही, संगणक, मोबाईल अशा दृश्य माध्यमांचा जम बसलेला नव्हता. त्यांना वाचनातूनच आपली स्वत:ची दृश्यसृष्टी उभी करायची होती. त्यातून पुस्तकं मिळण्याचे मार्ग थोडे. ना अमॅझोनवरून हवं ते छापील पुस्तक घरबसल्या मागवण्याची सोय, ना किंडलवर डाऊनलोड करून ई-बुक वाचण्याचं तंत्र. अशावेळी पुस्तकांच्या अफाट तहानेचं काय करायचं?\\n',\n",
       " 'महत्त्वाच्या बातम्या\\n',\n",
       " 'दोन बोके आणि ‘आप’चे माकड\\n',\n",
       " \"'४ टक्के राजपूत 'पद्मावत'साठी लढतात, १४ टक्के मुसलमान शरियतसाठी लढू शकत नाही का ?'\\n\",\n",
       " '.. तर सेनेचे ५ पेक्षा अधिक खासदार निवडून येणार नाहीत: संजय काकडे\\n',\n",
       " 'मग वाचनालयं, मासिकांची वर्गणी, कोणाच्या घरी बसून वाचलेली पुस्तकं, झालंच तर सेकंडहँड मिळवलेला खजिना या सगळ्याचं भयंकर अप्रूप असायचं. घाटेंच्या या कहाणीतून त्यांचं हे पुस्तकप्रेम फारच छान प्रकारे उलगडत जातं. ग्रंथवाचन व ग्रंथप्रेमामुळे त्यांचा निरनिराळ्या प्रकारच्या माणसांशी संबंध कसा आला, तेही या पुस्तकात खुसखुशीतपणे येतं.\\n',\n",
       " 'घाटे विज्ञानविषयक आणि विज्ञानकथा- लेखक म्हणून परिचित आहेत. ते मुळात एक सिद्धहस्त लेखक आहेत. उत्तम संशोधन, रसाळ, ओघवतं लेखन, शब्दांवर प्रभुत्व यामुळे ते रहस्यकथा, नवकथा, चित्रपटविषयक लेखन आदी सर्वच प्रकारांत उत्तम लिहितात. त्यांना अमुक एका विषयाचं वावडं असं नाही. हा मोकळा दृष्टिकोन त्यांच्या वाचनातही दिसतो. विज्ञानविषयक लिहिणारे खरं तर परामानसशास्त्र वा ज्योतिषशास्त्र यांच्याकडे फिरकतही नाहीत. पण घाटे हे विषयही आवर्जून वाचतात. आणि वाचल्याचं प्रामाणिकपणे सांगतात. हे भारी दुर्मीळ!\\n',\n",
       " 'साहसकथा असो, विनोद असो, की टॅबू विषय असोत; घाटे सगळ्या प्रकारचं लेखन मनापासून वाचतात. त्यात वेगळे संदर्भ मिळाले की त्यांचा पाठपुरावा करून आणखी वाचतात. आवडलेल्या विषयाचा पूर्ण अभ्यास करून पुढे ते त्या, त्या विषयांत अव्वल लेखन करतात. हा सगळा प्रवास अत्यंत रंजकपणे या पुस्तकात येतो. वाचताना घाटेंची अभ्यासू वृत्ती त्यांना स्वस्थ बसू देत नाही. इंग्रजी आणि अमेरिकन लेखकांची तुलना म्हणा, किंवा चरित्र-आत्मचरित्रांचं विवेचन म्हणा, ते यात सहजगत्या येत राहतं.\\n',\n",
       " 'पृष्ठे- २४५, मूल्य- ३०० रुपये.\\n',\n",
       " 'ताज्या बातम्यांसाठी लोकसत्ताचे मोबाईल अॅप डाऊनलोड करा.\\n',\n",
       " 'आणखी महत्त्वाच्या बातम्या\\n',\n",
       " 'Viral Video : या मुलाला एक काय दहा सुट्ट्या द्या! असा रजेचा अर्ज तुम्ही पाहिला नसेल\\n',\n",
       " 'खालील बातम्या तुम्ही वाचल्या का?\\n',\n",
       " 'एक चाहता असाही..\\n',\n",
       " 'आणखी एक सेलिब्रिटी जोडपे होणार विभक्त\\n',\n",
       " 'भविष्यात हिनाचे तोंड पाहण्याची माझी इच्छा नाही- शिल्पा शिंदे\\n',\n",
       " 'विशिष्ट क्रमांकांमुळे आरटीओला ३ कोटींचा महसूल\\n',\n",
       " 'शहरबात : वाढलेला कर आणि राजकारण!\\n',\n",
       " '\\n',\n",
       " 'एक Facesitter होती हे जन्म\\n',\n",
       " '\\n',\n",
       " 'आमचे सर्व लेख मिळवण्यासाठी फॉलो करा : फेसबुक _ ट्विटर === आजकाल “कार घेणं” ही बाब फार ‘स्पेशल’ राहिली नाहीये.\\n',\n",
       " 'उघड्या अंगाने तुम्ही येथे वाहन चालवू शकत नाही. म्हणजे पुरूष चालक असेल तरी त्याला विनाशर्ट वाहन चालविण्यास मनाई आहे.\\n',\n",
       " '\\n',\n",
       " 'एअरटेलने 398 रुपयांमध्ये नवा प्लान बाजारात आणलाय. या प्लाननुसार एअरटेल ग्राहकांना दिवसाला 1.5 जीबी 3जी/4जी डेटा मिळणार आहे. तसंच अनलिमिटेड व्हॉईस कॉलिंग आणि दिवसाला 90 एसएमएस मिळणार आहेत.\\n',\n",
       " 'या प्लानची वैधता 70 दिवसांची असणार आहे. अनलिमिटेड कॉलिंगमध्ये लोकल, एसटीडी, नॅशनल रोमिंग या सुविधा असणार आहे. एअरटेलच्या सर्व ग्राहकांना या ऑफरचा लाभ घेता येणार आहे.\\n',\n",
       " 'दरम्यान, एअरटेलमध्ये 399 रुपयांचा प्लानही आहे. मात्र तुलनेनं या प्लानमध्ये 398 रुपयांइतक्या ऑफर मिळत नाहीत.\\n',\n",
       " '\\n',\n",
       " 'वॉशिंग्टन _ कार चोरीच्या घटना आपल्याला नवीन नाहीत. मात्र अशावेळी बहादुरी दाखवली तर चोरांनाही पळता भुई थोडी करता येते हे अमेरिकेच्या मिलवाऊकी शहरात घडलेल्या घटनेवरुन समोर आलंय.\\n',\n",
       " 'पंकजा मुंडे माझी ताई आहे, असं सांगून छेडछाड करायचा!\\n',\n",
       " '\\n',\n",
       " 'रंकाळा, फुलेवाडी परिसरातील बंद बंगले, फ्लॅट शुक्रवारी रात्री चोरट्यांनी लक्ष्य केले.पराग अशोक द्रविड यांचा रंकाळ्याच्या पिछाडीस लेक विस्टा इमारतीत फ्लॅट आहे. चार दिवसांपूर्वी काकती येथे मूळगावी ते गेले होते. शनिवारी ते घरी परतले असता चोरट्यांनी घरातील अडीच लाखांचे सात तोळे दागिने लंपास केल्याचे आढळून आले.\\n',\n",
       " 'फुलेवाडी सहावा बसस्टॉप येथील लक्ष्मीकांत संकपाळ यांचाही बंद बंगला चोरट्यांनी फोडून चांदीचा ऐवज व आठ हजार रुपये चोरले. संकपाळ पाटबंधारे विभागात कनिष्ठ अभियंता आहेत. त्यांचा मुलगा शिक्षणानिमित्त कोल्हापुरात असतो. बुधवारी तो सांगलीला गेला होता. बंगल्याचे दार उघडे असल्याचे शेजार्\\u200dयांनी कळवल्याने संकपाळ यांची पत्नी रूपाली व मुलगा कोल्हापुरात आले. बंगल्यात पाहिले असता चोरी झाल्याचे उघड झाले.\\n',\n",
       " '\\n',\n",
       " 'Home » Marathi Katha - मराठी कथा » मराठी लेख / साहित्य - Marathi lekh / saahitya » खरा आनंद आणि खरे समाधान - Real Happiness and Satisfaction - Nice Marathi Story must read\\n',\n",
       " '\\n',\n",
       " 'गेवराई, दि. 14 __ निकिता मधुकरराव गित्ते हिने इयत्ता दहावी परीक्षेत 92.40 % गुण घेउन घवघवीत यश संपादन केल्याबद्दल येथील वैद्यनाथ बॅंकेच्या वतीने शाखाधिकारी अनिल परळीकर यांनी सत्कार केला. यावेळी दत्ता मोटे, मधुकरराव गित्ते उपस्थित होते.\\n',\n",
       " '\\n',\n",
       " 'यंदाच्या ‘टेकफेस्ट’मध्ये सौदी अरेबियाचे नागरिकत्व मिळाविलेल्या ‘सोफिया’ या रोबोची उपस्थिती सर्वाधिक आकर्षणाचा विषय ठरला आहे. या रोबोला पाहण्यासाठी आयआयटीत तरुणाईची गर्दी उसळली आहे, दीक्षांत सभागृहात सोफिया बोलणार आहे, या सभागृहाच्या बाहेर विद्यार्थ्यांनी गर्दी केली आहे..तब्बल 1 ते दीड किलोमीटरची रांग लागली आहे.\\n',\n",
       " 'एका देशाचे पूर्ण नागरिकत्व मिळविणारी ‘सोफिया’ ही जगातील पहिली आणि सध्या एकमेव मानवीय रोबो आहे.\\n',\n",
       " '\\n',\n",
       " \"रिमझिम पाऊस आणि मराठी प्रेम कविता : Women's Day : तू स्वप्नं....तूच सत्य\\n\",\n",
       " 'तुला खूप राग येत असेल नाही आमचा ........ आमच्या संस्कृतीचा..........आमच्या परंपरेचा ? वर्षानुवर्षे\\n',\n",
       " 'तूच माती, थकल्यानंतर आधार देणारी.\\n',\n",
       " 'समिधा प्रतिक्रियेबद्दल आभार. आईशिवाय आपण नाही हे प्रत्येकाला माहित असतं. अगदी पट्टीच्या गुन्हेगारालाही. त्यामुळेच जेव्हा समाज प्रत्येक स्त्रीत आई पहायला शिकेल. अगदी आपल्या बायकोत आणि प्रेयसीतही. तेव्हाच समाज स्त्रीचा आदर करू लागेल.\\n',\n",
       " '\\n',\n",
       " 'ही सगळी सगळी प्रक्रिया आणि त्यात असणारी न संपणारी प्रतिक्षा हे नुकतंच अनुभवलंय ... तुमचं अभिनंदन !\\n',\n",
       " '\\n',\n",
       " 'HD Panorama+ Android अॅप APK (com.almalence.panorama.smoothpanorama) Almalence द्वारा - PHONEKY वर डाउनलोड करा\\n',\n",
       " '\\n',\n",
       " 'काहीही सापडले नाही\\n',\n",
       " '\\n',\n",
       " 'अँड्रॉइड टॅब्लेट्स किंमत India मध्ये 17 Dec 2018 वरसूची _ PriceDekho.com\\n',\n",
       " 'अँड्रॉइड टॅब्लेट्स Indiaकिंमत\\n',\n",
       " 'अँड्रॉइड टॅब्लेट्स दर India मध्ये 17 December 2018 म्हणून. किंमत यादी ऑनलाइन शॉपिंग 590 एकूण अँड्रॉइड टॅब्लेट्स समावेश आहे. उत्पादन तपशील, की वैशिष्ट्ये, चित्रे, रेटिंग आणि अधिक सोबत India मध्ये सर्वात कमी भाव शोधा. या वर्गात सर्वाधिक लोकप्रिय उत्पादन लेनोवो अ८ 50 १६गब वि फी ३ग रेड आहे. सर्वात कमी दर एक सोपा किंमत तुलना Flipkart, Snapdeal, Naaptol, Homeshop18, Indiatimes सारख्या सर्व प्रमुख ऑनलाइन स्टोअर्स पासून प्राप्त आहेत.\\n',\n",
       " 'किंमत श्रेणी अँड्रॉइड टॅब्लेट्स\\n',\n",
       " 'किंमत अँड्रॉइड टॅब्लेट्स आपण सर्व बाजार मध्ये देण्यात येणार उत्पादने चर्चा करताना असतात. सर्वात महाग उत्पादन विजेवसोनिक विजेवपद १०स टॅबलेट ब्लॅक Rs. 83,346 किंमत आहे. या विरुद्ध, सर्वात कमी दरातील उत्पादन Rs.494 येथे आपल्याला क्रोम कर्क्सत 1134 कॅल्लिंग ५१२म्ब व्हाईट उपलब्ध आहे. दर या फरक पर्यायांपैकी प्रीमियम उत्पादने ऑनलाइन खरेदीदार एक परवडणारे श्रेणी देते. ऑनलाइन दर Mumbai, New Delhi, Bangalore, Chennai, Pune, Kolkata, Hyderabad, Jaipur, Chandigarh, Ahmedabad, NCR ऑनलाइन खरेदीसाठी इत्यादी सर्व प्रमुख शहरांमध्ये वैध आहेत\\n',\n",
       " 'शीर्ष 10अँड्रॉइड टॅब्लेट्स\\n',\n",
       " 'आबाल स्लीडे ३ग 9017 द५० ब्लॅक\\n',\n",
       " 'सॅमसंग गॅलॅक्सय टॅब 2 प्३१०० १६गब वि फी व्हाईट\\n',\n",
       " '\\n',\n",
       " 'लग्नासाठी मुलीच्या आईला ठार मारण्याचा प्रयत्न करणाऱ्यास २० वर्षांचा सश्रम कारावास\\n',\n",
       " 'गडचिरोली, ता.७: मुलीचे लग्न आपल्यासोबत लावून दिले नाही, असे म्हणून संतापलेल्या युवकाने मुलीच्या आईवर प्राणघातक हल्ला करुन तिला ठार मारण्याचा प्रयत्न केला होता. या प्रकरणातील आरोपीस सत्र न्यायालयाने २० वर्षांचा सश्रम कारावास व १० हजार रुपये दंडाची शिक्षा ठोठावली आहे. रामचंद्र रामू हलामी(२५)रा. बामणी, ता.कुरखेडा असे दोषी इसमाचे नाव आहे.\\n',\n",
       " 'आज या प्रकरणाचा निकाल लागला. सत्र न्यायालयाने सर्व साक्षदारांचे बयाण नोंदवून व सरकारी पक्षाचा युक्तीवाद ग्राह्य मानून आरोपी रामचंद्र हलामी या २० वर्षांचा सश्रम कारावास व १० हजार रुपये दंडाची शिक्षा ठोठावली. सरकारी पक्षातर्फे जिल्हा सरकारी वकील अनिल प्रधान यांनी काम पाहिले. कोर्ट पैरवी अधिकारी म्हणून सहायक पोलिस निरीक्षक प्रफुल्ल कदम यांनी जबाबदारी सांभाळली.\\n',\n",
       " '\\n',\n",
       " 'ताज्या कूलर मास्टर पॉवर बॅंक्सIndiaमध्ये 2018\\n',\n",
       " 'सादर सर्वोत्तम ऑनलाइन दर ताज्या India मध्ये कूलर मास्टर पॉवर बॅंक्स म्हणून 22 Jul 2018 आहे. गेल्या 3 महिन्यांत 7 नवीन लाँच आणि सर्वात अलीकडील एक कूलर मास्टर C 2021 गगतो स्० 5600 मह बॅटरी चार्जेर W 4,399 किंमत आहे आहेत. अलीकडे करण्यात आलेली होती इतर लोकप्रिय उत्पादने समावेश: . स्वस्त कूलर मास्टर पॉवर बॅंक्स गेल्या तीन महिन्यांत सुरू {lowest_model_hyperlink} किंमत सर्वात महाग एक जात {highest_model_price} किंमत आहे. � किंमत यादी उत्पादनांचा विस्तृत समावेश पॉवर बॅंक्स संपूर्ण यादी माध्यमातून ब्राउझ करा -.\\n',\n",
       " '\\n',\n",
       " 'फॉर्मल शिर्ट्स किंमत India मध्ये 22 Jan 2018 वरसूची _ PriceDekho.com\\n',\n",
       " 'फॉर्मल शिर्ट्स दर India मध्ये 22 January 2018 म्हणून. किंमत यादी ऑनलाइन शॉपिंग 5614 एकूण फॉर्मल शिर्ट्स समावेश आहे. उत्पादन तपशील, की वैशिष्ट्ये, चित्रे, रेटिंग आणि अधिक सोबत India मध्ये सर्वात कमी भाव शोधा. या वर्गात सर्वाधिक लोकप्रिय उत्पादन रेमंड में s सॉलिड फॉर्मल शर्ट SKUPDcIPn0 आहे. सर्वात कमी दर एक सोपा किंमत तुलना Snapdeal, Homeshop18, Flipkart, Naaptol, Shopclues सारख्या सर्व प्रमुख ऑनलाइन स्टोअर्स पासून प्राप्त आहेत.\\n',\n",
       " 'किंमत फॉर्मल शिर्ट्स आपण सर्व बाजार मध्ये देण्यात येणार उत्पादने चर्चा करताना असतात. सर्वात महाग उत्पादन आदाम N ऐवे वूमन s सॉलिड फॉर्मल शर्ट SKUPDcC2W7 Rs. 2,999 किंमत आहे. या विरुद्ध, सर्वात कमी दरातील उत्पादन Rs.139 येथे आपल्याला कालराव में s सॉलिड फॉर्मल शर्ट SKUPDcAXJt उपलब्ध आहे. दर या फरक पर्यायांपैकी प्रीमियम उत्पादने ऑनलाइन खरेदीदार एक परवडणारे श्रेणी देते. ऑनलाइन दर Mumbai, New Delhi, Bangalore, Chennai, Pune, Kolkata, Hyderabad, Jaipur, Chandigarh, Ahmedabad, NCR ऑनलाइन खरेदीसाठी इत्यादी सर्व प्रमुख शहरांमध्ये वैध आहेत\\n',\n",
       " '\\n',\n",
       " 'चौफेर न्यूज : दहशतवाद्यांविरोधात भारतीय लष्कराने आक्रमक धोरण स्वीकारणार असल्याचे संकेत दिले आहेत. त्याचाच एक भाग म्हणून दहशतवाद्यांविरोधात ‘घेराव घालणे आणि शोध मोहीम’ (कासो ऑपरेशन) तब्बल...\\n',\n",
       " 'चौफेर न्\\u200dयूज : दक्षिण कोरियातील अध्यक्षीय निवडणुकीत मून जे इन यांचा विजयानंतर शपथविधीही झाला. उत्तर कोरियाबरोबरचा तणाव कमी करण्यासाठी त्यांनी देशाला भेट देण्याची तयारी दर्शवली...\\n',\n",
       " '\\n',\n",
       " 'ताज्या नोव्हा हॅन्ड ब्लेंडर 2018 India _ PriceDekho.com\\n',\n",
       " 'Latest नोव्हा हॅन्ड ब्लेंडर Indiaकिंमत\\n',\n",
       " 'ताज्या नोव्हा हॅन्ड ब्लेंडरIndiaमध्ये 2018\\n',\n",
       " 'सादर सर्वोत्तम ऑनलाइन दर ताज्या India मध्ये नोव्हा हॅन्ड ब्लेंडर म्हणून 24 Jan 2018 आहे. गेल्या 3 महिन्यांत 11 नवीन लाँच आणि सर्वात अलीकडील एक नोव्हा नमः 95 मक हॅन्ड चॅप्पेर व्हाईट 915 किंमत आहे आहेत. अलीकडे करण्यात आलेली होती इतर लोकप्रिय उत्पादने समावेश: . स्वस्त नोव्हा हॅन्ड ब्लेंडर गेल्या तीन महिन्यांत सुरू {lowest_model_hyperlink} किंमत सर्वात महाग एक जात {highest_model_price} किंमत आहे. � किंमत यादी उत्पादनांचा विस्तृत समावेश हॅन्ड ब्लेंडर संपूर्ण यादी माध्यमातून ब्राउझ करा -.\\n',\n",
       " '\\n',\n",
       " '3.3 k 0 0 विकिपीडिया:सगळ्या विकिपीडियांवर अपेक्षित लेखांची यादी/आंतरभाषीय परिपेक्ष\\n',\n",
       " '3 k 0 0 विकिपीडिया:मराठी विकिपीडियावरील (छाया)चित्र परवाने विषयक सर्वसाधारण त्रुटी\\n',\n",
       " '2.1 k 0 0 विशेष:अलीकडील बदल\\n',\n",
       " '1.9 k 0 0 विशेष:सर्व पाने\\n',\n",
       " '\\n',\n",
       " 'संध्याकाळी ४ वाजता\\n',\n",
       " '\\n',\n",
       " 'मस्त.... घेतो वाचायला.\\n',\n",
       " 'सचिन, चार -पाच तासात वाचून होणारं पुस्तक आहे ... नक्की वाच!\\n',\n",
       " 'त्याचा एखादा फोटो पण देशील काय!\\n',\n",
       " 'अभिषेक, एक फोटो टाकलाय.\\n',\n",
       " 'अप्रतिम. पुस्तक यादीत होतंच, आता वर सरकवलं आहे. :)\\n',\n",
       " 'पुस्तक ओळख तू करून दिलीये म्हटल्यावर प्रश्नच येत नाही!!\\n',\n",
       " 'राज, नक्की वाच ... सुंदर आहे.\\n',\n",
       " 'तन्वी, मला खूप आवडलं हे पुस्तक.\\n',\n",
       " 'अपर्णाच्या तोत्तोचानच्या पोस्ट नंतर लगेच ही पोस्ट वाचली. आता दोन पुस्तकांची खरेदी नक्की.\\n',\n",
       " 'सिद्धार्थ, दोन्ही पुस्तकं वाच ... मस्त आहेत!\\n',\n",
       " 'हल्लीच ऐकून होतो ह्याबद्दल... वाचतो लवकरचं :) :)\\n',\n",
       " 'सुहास, सिनेमा, नाटकासारखंच पुस्तकही ताजंताजं वाचण्यात जास्त मजा असते, नाही का? :)\\n',\n",
       " 'नक्की वाचेन. पुस्तकांची यादी वाढती आहे ! :)\\n',\n",
       " 'अनघा, माझं हल्ली असं मत झालंय, की लेखक मंडळी वाचकांचा विचार करत नाहीत. एकाच वेळी इतकी इंटरेस्टिंग पुस्तकं उपलब्ध असतात ... बिचार्\\u200dया वाचकानी कधी संपवायची ही सगळी पुस्तकं? ;)\\n',\n",
       " 'अप्रतिमच लिहिलं आहेस !! पोस्टच इतकी ग्रेट आहे पुस्तक तर महान असेल.. !!\\n',\n",
       " 'हेरंब, ऑस्करची गोष्टच इतकी भारून टाकणारी आहे, की त्याविषयी किती लिहू आणि किती नको असं व्हावं! :)\\n',\n",
       " 'सोनालीला कळवलेस का? ती फेसबुकवर आहे. कळव. तिला खूप बरे वाटेल.\\n',\n",
       " 'आता मी तिला दुसरे एक मोठे पुस्तक दिलेय अनुवादाला. आव्हानास्पद आहे.\\n',\n",
       " 'चांगले आणि वेगात काम करतेय ती. :-).\\n',\n",
       " 'हो ... फेसबुकवर कळवलंय. :)\\n',\n",
       " '\\n',\n",
       " '\\ufeff मनोरंजन – मुलाखत\\n',\n",
       " '\\n',\n",
       " 'नाही निर्मळ जीवन, काय करील (भाषेचा) साबण?\\n',\n",
       " 'रामभाऊ म्हाळगी प्रबोधिनीच्या वतीने दरवर्षीप्रमाणे १०-११ जून रोजी मुंबईमध्ये ‘संवादसभा’चे आयोजन करण्यात आले होते. त्यात ११ जून रोजी ‘मराठी भाषेची सार्वत्रिक हेळसांड’ या विषयावर एक परिसंवाद होता. त्यात केलेलं हे भाषण. कुठलीही भाषा केवळ तिच्याबद्दल हळहळं-हुळंहुळं होऊन उमाळे-उसासे काढल्याने जगत, तगत नसते, हे नीट समजून घ्यायला लागेल. आम्ही फक्त मराठी भाषेच्या भवितव्याच्या नावाने गळा काढणार आणि भाषिक प्रेमाच्या नावाखाली इंग्रजी माध्यमाच्या शाळा, टीव्ही यांच्यावर खापर फोडत राहणार!\\n',\n",
       " 'भाषा शिकणं म्हणजे भाषा बोलायला, ऐकायला, वाचायला आणि लिहायला शिकणं.\\n',\n",
       " 'बोलणं, ऐकणं, वाचणं आणि लिहिणं ही चार प्राथमिक भाषिक कौशल्यं मानली जातात. ही कौशल्यं विकसित करण्याचं काम प्राथमिक, माध्यमिक आणि उच्च माध्यमिक पातळीवर टप्प्याटप्प्यानं व्हायला हवं. त्याच वेळी साहित्य, पत्रकारिता यांनी त्याला समांतर जबाबदारी निभवायला हवी.\\n',\n",
       " 'सार्वजनिक समारंभ-संमेलनं-चर्चासत्रं या ठिकाणी लोकांना जेव्हा काही शंका वा प्रश्न असल्यास विचारा असं सांगितलं जातं, तेव्हाची गंमत पाहण्यासारखी असते. बहुतांश जणांना आपल्याला नेमकं काय म्हणायचंय, आपला नेमका प्रश्न काय हेच सांगता येत नाही. ते इतका पाल्हाळ लावतात की, तुमचा नेमका प्रश्न काय असं पुन्हा पुन्हा विचारावं लागतं. मुद्देसूद बोलणं ही तर अजून लांबची गोष्ट. प्रश्न विचारण्यातून शहाणपण कळतं, तर उत्तरातून हुशारी कळते, असं म्हणतात! पण या शहाणपणाचं दर्शन सार्वजनिक कार्यक्रमांमध्ये अभावानेच दिसतं.\\n',\n",
       " 'जेमतेम लेखक म्हणजे किमान चार ओळींचं चांगलं पत्र लिहिता येणं. पण हेही अनेकांना जमत नाही. थोडक्या शब्दांत बरंच काही सांगता येतं. पण तो कौशल्याचा आणि भाषाप्रभुत्वाचा भाग असतो. पण हा साक्षेप साधं पत्र लिहिण्यापासून ते कथा-कादंबऱ्यांपर्यंत कुठेच फारसा पाळला जाताना दिसत नाही. मराठी साहित्यिकांना व प्राध्यापकांना हे किमान भाषिक कौशल्य अवगत करता येत नाही, याचे पुरावे त्यांच्या लेखनातून, भाषणांतून आणि बोलण्यातून मिळत राहतात! साहित्य संमेलनांच्या अध्यक्षांची भाषणं यासंदर्भात पाहण्यासारखी आहेत.\\n',\n",
       " 'थोडक्यात बोलणं, ऐकणं, वाचणं आणि लिहिणं ही प्राथमिक भाषिक कौशल्यं प्राथमिक पातळीवरच कच्ची राहतात. त्यामुळे त्याचे दुष्परिणाम आपल्या आजूबाजूला पाहायला मिळतात.\\n',\n",
       " 'भाषा ही सतत प्रवाही असते. त्या प्रवाहाला तुम्ही कसं वळण देता, यावर तिची वृद्धी आणि समृद्धी होत जाते. नुसत्या साहित्याने भाषेची वाढ आणि समृद्धी होत नाही. दर्जेदार साहित्य फक्त भाषेला स्थिरत्व देतं, असं ‘मराठी भाषा - उद्गम आणि विकास’कर्ते कृ. पां. कुलकर्णी यांनी म्हटलं आहे, ते खरंच आहे.\\n',\n",
       " 'मराठीमध्ये कोशवाङ्मयाची समृद्ध म्हणावी अशी परंपरा आहे. ज्ञानकोश, संस्कृतिकोश, चरित्रकोश, व्यायामकोश, समाजविज्ञान कोश, महाराष्ट्र शब्दकोश, सरस्वती कोश, अशी मोठमोठी कामं एकेकाळी झाली.\\n',\n",
       " 'मराठी विश्वकोशाची काय स्थिती आहे हे आपण गेली ४०-५० वर्षं पाहतोच आहोत. या काळात जग ज्या गतीनं बदललं आहे, त्याचा आवाकाच या विश्वकोश नामक मंडळाला उमगला नसल्याने तो कधीच कालबाह्य झाला आहे.\\n',\n",
       " 'शब्दकोश, वाक्यसंप्रदाय कोश, संज्ञा-संकल्पना कोश अशा चढत्या क्रमांच्या कोशांची सतत निर्मिती होणं आणि त्यांच्या सुधारित आवृत्त्या प्रकाशित होणं हा भाषेच्या समृद्धीचा आणि वाढीचा उत्तम पर्याय असतो. पण तेही होताना दिसत नाही. मग भाषिक वृद्धी व समृद्धी होणार तरी कशी?\\n',\n",
       " 'भाषा समृद्ध होण्यासाठी आणि तिचा प्रवाह सतत सशक्त होण्यासाठी जाणीवपूर्वक प्रयत्न करावे लागतात. काळाच्या गतीनुसार भाषा बदलत असते आणि समाजही. त्यामुळे त्या गतीने भाषेमध्ये नव्या नव्या शब्दांची-संज्ञा-संकल्पनांची निर्मिती होणं गरजेचं असतं.\\n',\n",
       " 'खेड्यापाड्यातल्या बायाबापड्या काबाडकष्ट करून पै-पैसा जमून, अनंत व्यवधानं असतानाही प्रसंगी पोटाला चिमटा घेऊन हौसेनं एखादा दागिना सोनाराकडून घडवून घेतात. आणि मग तो अभिमानानं अंगावर मिरवतात. तेव्हा त्यांच्या चेहऱ्यावर तृप्त समाधान पाहायला मिळतं. मराठी भाषेत नव्याने घडवल्या जाणाऱ्या एकेका शब्दालाही अशीच श्रमाच्या घामाची तुरट-खारट चव आल्याशिवाय आणि ते दिमाखाने मिरवल्याशिवाय त्यांना ऐश्वर्य मिळणार नाही, त्यांचा प्रसार होणार नाही आणि ते प्रचलितही होणार नाहीत.\\n',\n",
       " 'लेखक ‘अक्षरनामा’चे संपादक आहेत.\\n',\n",
       " 'अतिशय सुंदर विवेचन.... मला फार आवडले.\\n',\n",
       " '\\n',\n",
       " 'Boyfriend – गोष्टी सुरस आणि मनोरंजक व बरच काही\\n',\n",
       " '\\n',\n",
       " 'टी-20 विश्वचषकासाठी देशाचा संघ जाहीर\\n',\n",
       " 'By: एबीपी माझा वेब टीम अधिक माहिती: Team India Twenty-20 World Cup टीम इंडिया ट्वेन्टी-20 विश्वचषक भारत\\n',\n",
       " '\\n',\n",
       " 'देशाचे हृदय धड-धडे …\\n',\n",
       " 'सावर गं … भारताला !\\n',\n",
       " '\\n',\n",
       " \"Title: PSLV-C20 मोहिमेद्वारे प्रक्षेपित केलेल्या 'सरल' ह्या उपग्रहाची निर्मिती कोणत्या देशाने / देशांनी केली?\\n\",\n",
       " \"Description: This is a Most important question of gk exam. Question is : PSLV-C20 मोहिमेद्वारे प्रक्षेपित केलेल्या 'सरल' ह्या उपग्रहाची निर्मिती कोणत्या देशाने / देशांनी केली? , Options is : 1. फक्त भारत , 2. भारत व रशिया यांनी संयुक्तपणे , 3.भारत व फ्रान्स यांनी संयुक्तपणे, 4. भारत व इस्त्राइल यांनी संयुक्तपणे, 5. NULL\\n\",\n",
       " \"This is a Most important question of gk exam. Question is : PSLV-C20 मोहिमेद्वारे प्रक्षेपित केलेल्या 'सरल' ह्या उपग्रहाची निर्मिती कोणत्या देशाने / देशांनी केली? , Options is : 1. फक्त भारत , 2. भारत व रशिया यांनी संयुक्तपणे , 3.भारत व फ्रान्स यांनी संयुक्तपणे, 4. भारत व इस्त्राइल यांनी संयुक्तपणे, 5. NULL\\n\",\n",
       " '1) फक्त भारत\\n',\n",
       " '2) भारत व रशिया यांनी संयुक्तपणे\\n',\n",
       " '3) भारत व फ्रान्स यांनी संयुक्तपणे\\n',\n",
       " '4) भारत व इस्त्राइल यांनी संयुक्तपणे\\n',\n",
       " 'देशातील सर्व राजकीय व सामाजिक उत्सवांच्या प्रसंगी सर्वोच्च मानाचे पद विभूषित करण्याचा अधिकार ........यांना आहे.\\n',\n",
       " '१५ जानेवारी २०१४ रोजी कितवा भूदल दिन साजरा करण्यात आला?\\n',\n",
       " 'दोन सहमुळ संख्यांच्या लसवि ४३४ असून त्यांची बेरीज २१९ असल्यास त्यापैकी मोठी संख्या कोणती?\\n',\n",
       " \"खालीलपैकी कोणी ' अंडर 19 -आय.सी.सी. क्रिकेट वर्ल्ड कप ' मधील जागतिक विजेतेपद प्राप्त केलेल्या संघाचे केलेले नाही ?\\n\",\n",
       " 'लोकहितवादींचे पूर्ण नाव काय होते .\\n',\n",
       " 'जिल्हा परिषदेच्या..........सदस्यांनी मागणी केल्यास जिल्हा परिषदेची विशेष सर्वसाधारण सभा बोलवावी लागते.\\n',\n",
       " 'बेंटीकच्या काळात भारतीयांच्या नेमणुका उच्च पदांवर प्रामुख्याने.........खात्यात करण्यात आल्या.\\n',\n",
       " 'स्वतंत्र तेलंगणाची मागणी कशावर आधारलेली होती ?\\n',\n",
       " 'नरेंद्र मोदींच्या ४५ जणांच्या मंत्रिमंडळात किती महिलांचा समावेश आहे?\\n',\n",
       " 'औद्योगिकीकरणामुळे ..........प्रक्रिया वाढते .\\n',\n",
       " 'कोणत्या देशास हजार सरोवरांचा देश किंवा सहस्त्र तळ्यांचा प्रदेश असे संबोधले आहे ?\\n',\n",
       " '\\n',\n",
       " 'एकटा मी तुझ्या शोधतो का खुणा\\n',\n",
       " 'मनात नाही,ये जिया\\n',\n",
       " 'मी पुन्हा शोधते,एकटे पण नवे\\n',\n",
       " 'नेमके हवे काय होते असे\\n',\n",
       " '\\n',\n",
       " 'वर्ग:क्रिकेटचे प्रकार - विकिपीडिया\\n',\n",
       " 'वर्ग:क्रिकेटचे प्रकार\\n',\n",
       " '\"क्रिकेटचे प्रकार\" वर्गातील लेख\\n',\n",
       " '\"https://mr.wikipedia.org/w/index.php?title=वर्ग:क्रिकेटचे_प्रकार&oldid=1455984\" पासून हुडकले\\n',\n",
       " '\\n',\n",
       " '(ताजमहाल हॉटेल -पॅलेस ॲन्ड टॉवर या पानावरून पुनर्निर्देशित)\\n',\n",
       " '\\n',\n",
       " '१५१९ - फर्डिनांड मॅगेलन पाच जहाजे घेउन पृथ्वी-प्रदक्षिणेसाठी निघाला.\\n',\n",
       " '१६८० - न्यू मेक्सिकोत पेब्लो क्रांती सुरू.\\n',\n",
       " '१७९२ - फ्रेंच क्रांती - राजा लुई सोळाव्याला अटक.\\n',\n",
       " '१८०९ - इक्वेडोरची राजधानी क्विटोने स्पेनपासून स्वातंत्र्य जाहीर केले.\\n',\n",
       " '१८२१ - मिसुरी अमेरिकेचे २४वे राज्य झाले.\\n',\n",
       " '१९१३ - दुसरे बाल्कन युद्ध-बुखारेस्टचा तह - युद्धाचा अंत.\\n',\n",
       " '१९२० - पहिले महायुद्ध-सेव्ह्रेसचा तह - दोस्त राष्ट्रांनी ऑट्टोमन साम्राज्य आपसांत वाटुन घेतले.\\n',\n",
       " '१९९० - मॅगेलन अंतराळयान शुक्र ग्रहावर पोचले.\\n',\n",
       " '२००६ - युनायटेड किंग्डमची गुप्त पोलिस संस्था स्कॉटलंड यार्डने इंग्लंडहून अमेरिकेला जाणारी विमाने नष्ट करण्याचा दहशतवाद्यांचा कट उधळुन लावला.\\n',\n",
       " '१२६७ - जेम्स दुसरा, अरागॉनचा राजा.\\n',\n",
       " '१३९७ - आल्बर्ट दुसरा, पवित्र रोमन सम्राट.\\n',\n",
       " '१८९५ - हॅमी लव्ह, ऑस्ट्रेलियन क्रिकेट खेळाडू.\\n',\n",
       " '१९२३ - फ्रेड रिजवे, इंग्लिश क्रिकेट खेळाडू.\\n',\n",
       " '१९४३ - शफाकत राणा, पाकिस्तानी क्रिकेट खेळाडू.\\n',\n",
       " '१९५८ - जॅक रिचर्ड्स, इंग्लिश क्रिकेट खेळाडू.\\n',\n",
       " '१९७० - ब्रेंडन ज्युलियन, ऑस्ट्रेलियन क्रिकेट खेळाडू.\\n',\n",
       " '१९७८ - क्रिस रीड, इंग्लिश क्रिकेट खेळाडू.\\n',\n",
       " '१९७९ - दिनुशा फर्नान्डो, श्रीलंकेचा क्रिकेट खेळाडू.\\n',\n",
       " '१७५९ - फर्डिनांड सहावा, स्पेनचा राजा.\\n',\n",
       " '१९४५ - रॉबर्ट गॉडार्ड, अमेरिकन रॉकेटतज्ञ.\\n',\n",
       " 'स्वातंत्र्य दिन - इक्वेडोर.\\n',\n",
       " 'ऑगस्ट ८ - ऑगस्ट ९ - ऑगस्ट १० - ऑगस्ट ११ - ऑगस्ट १२ - ऑगस्ट महिना\\n',\n",
       " '\\n',\n",
       " 'या झलकेचा आकार: ३१७ × ५९८ पिक्सेल पिक्सेल. इतर resolutions: १२७ × २४० पिक्सेल _ ३२९ × ६२१ पिक्सेल.\\n',\n",
       " 'मूळ संचिका \\u200e(३२९ × ६२१ पिक्सेल, संचिकेचा आकार: ४९ कि.बा., MIME प्रकार: image/jpeg)\\n',\n",
       " '\"https://mr.wikipedia.org/wiki/चित्र:Lophotriorchis_kienerii_Coimbatore.jpg\" पासून हुडकले\\n',\n",
       " '\\n',\n",
       " 'एचडीएफसी (हाउसिंग डेव्हलपमेंट कॉर्पोरेशन) बँक लि. एक हिंदुस्थानी बँकिंग व वित्तीय सेवा देणारी कंपनी आहे. आज साधारण त्यात ८४,३३५ कर्मचारी कार्यरत आहेत आणि बाहरीन, हाँगकाँग आणि दुबईमध्ये एचडीएफसी बँक ची उपस्थिती आहे. १९९४ मध्ये एचडीएफसी बँकेची स्थापना करण्यात आली\\n',\n",
       " 'हिंदुस्थान फोर्ज लिमिटेड (बीएफएल) एक पुणेस्थित हिंदुस्थानी बहुराष्ट्रीय कंपनी आहे ज्यात ऑटोमोटिव्ह, वीज, तेल आणि वायू, बांधकाम आणि खाण,आणि एरोस्पेस उद्योग यांचा समावेश आहे. कंपनीची स्थापना १९६१ रोजी झाली . कंपनीने संरक्षण आणि एरोस्पेस क्षेत्रातील एक मजबूत कामगिरी केली आहे.\\n',\n",
       " 'सध्या हिंदुस्थान फोर्जच्या मुंदवा, सातारा, बारामती, चाकण या चार ठिकाणी निर्मितीकार्य चालते. सातत्याने नवनवीन संशोधन करणे, उत्पादन गुणवत्तेत उत्कृष्ट असणे, अशा व इतर बऱ्याच कारणांनी या कंपनीची घोडदौड वाढतच राहील.\\n',\n",
       " 'घरातील गॅस सिलेंडर मधील गॅस संपल्यावर होणारी पळापळ आपण बहुतेक जणांनी अनुभवली आहे. हो ना ? याच अडचणीतून मार्ग काढण्यासाठी किंवा हा प्रश्न सोडवायचे काम गेले २१ वर्ष महानगर गॅस मुंबई आणि नवी मुंबई मध्ये करत आहे. CNG आणि LPG पुरवणारी एकमेव कंपनी म्हणून ही एमजीएलची वेगळी ओळख आहे. आतापर्यंत जवळपास ४४०० किलो मीटरच्या पाईपलाईनचे जाळे MGL ने विणले आहे. येत्या ७ वर्षांत मुख्य शहरी भागात हे जाळे वाढवण्याच्या दिशेने MGL चे कार्य चालू आहे.\\n',\n",
       " '\\n',\n",
       " 'आई-वडिलांवर आणि मारुतीरायावर श्रद्धा ! _ Saamana (सामना)\\n',\n",
       " 'आई-वडिलांवर आणि मारुतीरायावर श्रद्धा !\\n',\n",
       " 'अभिनेता ज्ञानेश पेंढारकर यांची आई–वडिलांवर आणि मारुतीरायावर श्रद्धा आहे.\\n',\n",
       " 'हनुमान आणि आई-वडील ही माझी आवडती दैवतं आहेत.\\n',\n",
       " '> त्याचं कौतुक कशा पद्धतीने करता?\\n',\n",
       " 'देवळात जाणं किंवा स्तोत्र म्हणणं असे कौतुक करतो. त्याच्या स्तोत्राचा फार अनुभव मला आला. लहानपणी ७-८वर्षांचा असताना आमच्याकडे साखरे म्हणून गृहस्थ होते. वयाच्या ८५वर्षापर्यंत ते आमच्या वाढदिवसाला येऊन आमचं कौतुक करायचे. ते माझ्यासाठी हनुमानाचा ड्रेस घेऊन आले होते. मी घातलेले कपडे काढून हनुमान वेश परिधान केला आणि हातात गदा घेऊन संपूर्ण इमारतीत फिरत होतो. का माहीत नाही, पण कुठेतरी मनात मारुतीची ओढ होती, असं वाटतं.\\n',\n",
       " 'चमत्कार घडत नाही, पण मानसिक शक्ती मिळाल्याचं जाणवतं. त्याचं दर्शन झालं नाही तर वेगवेगळ्या प्रकारे दर्शन होतच.\\n',\n",
       " 'मुळात भक्तिभाव असल्याशिवाय कला साध्यच होत नाही. त्याचं कोणत्याही प्रकारचं अवडंबर मी माजवत नाही. पण ज्यावेळी त्याचं जे करतो ते मनापासून करतो.\\n',\n",
       " '> तुमच्यातली कला साकारण्याकरिता त्याची कशी मदत होते ?\\n',\n",
       " 'हनुमान स्वतः गायक आहेत असं पुराणात लिहिलं आहे. त्याची कशी मदत होते हे शब्दात सांगता येण्यासारखं नाही. ही प्रत्येकाच्या मानण्यावरची गोष्ट आहे. त्याला ठरावीक नियम नाहीत. श्रद्धा असावी असं मला वाटते. ती आई-वडील कोणावरही असावी. पुराणातल्या कथा वाचूनही स्फूर्ती मिळते.\\n',\n",
       " 'जे अपेक्षित वाटतं ते यश अजून मिळालेलं नाही, असं वाटतं.\\n',\n",
       " 'हो, कधी कधी खूप प्रयत्न करूनही जेव्हा हवं तसं यश मिळत नाही तेव्हा त्याच्यावर रागावतो. आईशी जसं मी बोलतो, वागतो तसेच बोलणे देवाशी असतं. सगळ्यात आवडतं दैवत माझं आई-वडील आहेत, कारण ते दिसतात, आपल्यावर संस्कार करतात त्यामुळे आम्ही आहोत. आपल्या सगळ्या चुका ते पदरात घेतात.\\n',\n",
       " 'खूप वेळा मला जे हवं असतं ते मला मिळतं.\\n',\n",
       " '> दैवताचे कोणते स्वरूप आवडते?\\n',\n",
       " 'बलशाली स्वरूप आवडतं. आजच्या काळात याच रूपाची मनुष्याला गरज आहे.\\n',\n",
       " 'स्त्र्ाया, लहान मुलं, रुग्ण, कलाकार यांच्यासाठी काहीतरी करता यावं. कलेचं सामर्थ्य मागतो.\\n',\n",
       " '‘भिमरुपी महारुद्रा’ हे स्तोत्र मी रोज ११ वेळा म्हणतो.\\n',\n",
       " 'पुढीलअग्रलेख: सुरक्षेचे ‘पूल’ कधी?\\n',\n",
       " '\\n',\n",
       " 'ऑपरेशन ओव्हरलॉर्डला जोडलेली पाने - विकिपीडिया\\n',\n",
       " 'खालील लेख ऑपरेशन ओव्हरलॉर्ड या निर्देशित पानाशी जोडले आहेत.\\n',\n",
       " 'नॉर्मंडीची लढाई (पुनर्निर्देशित पान) \\u200e (← दुवे _ संपादन)\\n',\n",
       " 'साचा:दुसरे महायुद्ध \\u200e (← दुवे _ संपादन)\\n',\n",
       " 'पोलंडवरील आक्रमण (इ.स. १९३९) \\u200e (← दुवे _ संपादन)\\n',\n",
       " 'युटा बीच \\u200e (← दुवे _ संपादन)\\n',\n",
       " 'ऑपरेशन ऑव्हरलॉर्ड (पुनर्निर्देशित पान) \\u200e (← दुवे _ संपादन)\\n',\n",
       " '\"https://mr.wikipedia.org/wiki/विशेष:येथे_काय_जोडले_आहे/ऑपरेशन_ओव्हरलॉर्ड\" पासून हुडकले\\n',\n",
       " '\\n',\n",
       " 'बिग बॅश लीग विजय:\\n',\n",
       " 'हॉबर्ट हरिकेन्स क्रिकेट संघ, होबार्ट शहरातील असून, बिग बॅश लीग मध्ये खेळतो.\\n',\n",
       " '\\n',\n",
       " '(वॉल्टर हुलियान मार्टीनेझ या पानावरून पुनर्निर्देशित)\\n',\n",
       " 'वॉल्टर हुलियान मार्टिनेझ रामोस (२८ मार्च, इ.स. १९८२ - ) हा होन्डुरासकडून फुटबॉल खेळणारा खेळाडू आहे.\\n',\n",
       " '\"https://mr.wikipedia.org/w/index.php?title=वॉल्टर_हुलियान_मार्टिनेझ&oldid=1499213\" पासून हुडकले\\n',\n",
       " '\\n',\n",
       " 'व्हिताली जिन्झबर्ग - विकिपीडिया\\n',\n",
       " 'पूर्ण नाव व्हिताली जिन्झबर्ग\\n',\n",
       " 'व्हिताली जिन्झबर्ग हे शास्त्रज्ञ आहेत.\\n',\n",
       " 'नोबेल प्रतिष्ठानाच्या संकेतस्थळावरील व्हिताली जिन्झबर्ग यांचे संक्षिप्त चरित्र (इंग्रजी मजकूर)\\n',\n",
       " '\"https://mr.wikipedia.org/w/index.php?title=व्हिताली_जिन्झबर्ग&oldid=1631851\" पासून हुडकले\\n',\n",
       " '\\n',\n",
       " 'तो हरि आमुचा नंदाघरीं ॥२॥\\n',\n",
       " 'विश्व विश्वीपूर्ण हरि माझा ॥४॥\\n',\n",
       " 'Labels: L-संत निवृत्तीनाथ, M-पं. जितेंद्र अभिषेकी, ज\\n',\n",
       " '\\n',\n",
       " 'स्पेस अॅप्लिकेशन केंद्र - विकिपीडिया\\n',\n",
       " '(स्पेस ॲप्लिकेशन केंद्र या पानावरून पुनर्निर्देशित)\\n',\n",
       " 'ओरिसा स्पेस ॲप्लिकेशन्स सेंटर याच्याशी गल्लत करू नका.\\n',\n",
       " 'स्पेस ॲप्लिकेशन्स सेंटर ही इस्रोची एक संशोधन संस्था आहे. या संस्थेचे मुख्य आवार तसेच इतर एक आवार गुजरातच्या अहमदाबाद शहरात आणि एक आवार नवी दिल्लीमध्ये आहेत.\\n',\n",
       " '\"https://mr.wikipedia.org/w/index.php?title=स्पेस_अॅप्लिकेशन_केंद्र&oldid=1502096\" पासून हुडकले\\n',\n",
       " '\\n',\n",
       " 'वर्ग:२०११ फॉर्म्युला वन हंगाम - विकिपीडिया\\n',\n",
       " 'वर्ग:२०११ फॉर्म्युला वन हंगाम\\n',\n",
       " '\"२०११ फॉर्म्युला वन हंगाम\" वर्गातील लेख\\n',\n",
       " '\"https://mr.wikipedia.org/w/index.php?title=वर्ग:२०११_फॉर्म्युला_वन_हंगाम&oldid=733585\" पासून हुडकले\\n',\n",
       " '\\n',\n",
       " '\"सर्बिया\" वर्गातील लेख\\n',\n",
       " '२००८ उन्हाळी ऑलिंपिक खेळात सर्बिया\\n',\n",
       " '\"https://mr.wikipedia.org/w/index.php?title=वर्ग:सर्बिया&oldid=1191928\" पासून हुडकले\\n',\n",
       " '\\n',\n",
       " 'विल्यम फॉक्स टॅलबॉट - विकिपीडिया\\n',\n",
       " 'विल्यम फॉक्स टॅलबॉट\\n',\n",
       " 'छायाचित्रकलेचे निर्माते. फेब्रुवारी ११ १८०० रोजी त्यांचा जन्म झाला.\\n',\n",
       " '\"https://mr.wikipedia.org/w/index.php?title=विल्यम_फॉक्स_टॅलबॉट&oldid=1164652\" पासून हुडकले\\n',\n",
       " '\\n',\n",
       " 'ओडर्स्के व्रची, चेक प्रजासत्ताक\\n',\n",
       " 'चेक प्रजासत्ताक, पोलंड, जर्मनी\\n',\n",
       " 'ओडर (जर्मन: Oder, चेक, पोलिश: Odra ) ही मध्य युरोपातील एक नदी आहे. ही नदी चेक प्रजासत्ताकात उगम पावून पश्चिम पोलंडमधून वाहत पुढे जाऊन पोलंड व जर्मनी देशांदरम्यान १८७ कि.मी. लांबीची उत्तर सीमा आखते. अखेरीस श्टेचिन शहराजवळ ती बाल्टिक समुद्रास मिळते.\\n',\n",
       " 'नदीची एकूण लांबी ८५४ किमी आहे, पैकी ११२ किमी चेक प्रजासत्ताकमध्ये, ७४२ किमी पोलंडमध्ये आहे. ही नदी पोलंडमधील दुसर्\\u200dया क्रमांकाची सगळ्यात लांब नदी आहे.\\n',\n",
       " '\\n',\n",
       " 'फंडीचे आखात - विकिपीडिया\\n',\n",
       " 'फंडीचे आखात (फ्रेंच:बै दि फंडी) हे उत्तर अमेरिकेच्या अटलांटिक किनाऱ्यावरील आखात आहे. हा समुद्री भाग कॅनडाच्या न्यू ब्रन्सविक आणि नोव्हा स्कॉशिया प्रांतांच्या मध्ये आहे तसेच याचा छोटा भाग अमेरिकेच्या मेन राज्याला लागून आहे.\\n',\n",
       " '\"https://mr.wikipedia.org/w/index.php?title=फंडीचे_आखात&oldid=1206646\" पासून हुडकले\\n',\n",
       " '\\n',\n",
       " 'स्ताद दा फ्रान्स (फ्रेंच: Stade de France) हे फ्रान्स देशाचे राष्ट्रीय स्टेडियम आहे. सीन-सेंत-देनिस विभागातील सेंत-देनिस ह्या पॅरिसच्या उपनगरामध्ये स्थित स्ताद दा फ्रान्स हे युरोपातील पाचव्या क्रमांकाचे मोठे स्टेडियम आहे. येथे ८१,३३८ प्रेक्षकांची बसण्याची सोय होऊ शकते. फ्रान्सच्या राष्ट्रीय फुटबॉल व रग्बी संघ हे मैदान आपापल्या आंतरराष्ट्रीय सामन्यांसाठी वापरतात.\\n',\n",
       " 'हे स्टेडियम २ मे १९९५ रोजी बांधण्यात आले व २८ जानेवारी १९९८ रोजी उद्घाटित करण्यात आले. १९९८ फिफा विश्वचषकासाठी बांधल्या गेलेल्या ह्या स्टेडियममध्ये स्पर्धेचा अंतिम सामना खेळवण्यात आला होता. सध्या फ्रान्स फुटबॉल संघ आपले यजमान सामने येथूनच खेळतो.\\n',\n",
       " '\\n',\n",
       " 'अखलाकुर रहमान किडवाई (जुलै १, इ.स. १९२० - ) हा भारतीय राजकारणी आहे. हा २००४ ते २००९ पर्यंत हरियाणाचा राज्यपाल होता.\\n',\n",
       " '\\n',\n",
       " 'मुंबई - काळ्या पैशाविरोधात पंतप्रधान नरेंद्र मोदींच्या सर्जिकल स्ट्राईकमुळे सगळ्यांनाच घाम फुटला. हजार-पाचशेच्या नोटा कशा खर्च करायच्या, असा अनेकांना प्रश्न पडला. पण काही हुशार मंडळींनी मात्र चांगलंच डोकं लढवलं. त्यांनी घेतला रेल्वेचा आधार.\\n',\n",
       " '500, 1000च्या नोटा खपवण्याची नामी शक्कल\\n',\n",
       " '1 कोटी 80 लाखांची तिकीटखरेदी\\n',\n",
       " 'हा सर्व प्रकार जेव्हा रेल्वे प्रशासनाच्या जेव्हा लक्षात आला, तेव्हा वेटिंग लिस्टच्या तिकिटांचं बुकिंगच बंद करण्यात आलं. पण तोपर्यंत अनेकांनी खिशाला थोडा खार लावून का होईना, हजार-पाचशेच्या नोटा खपवल्याचा आनंद मिळवला होता.\\n',\n",
       " '\\n',\n",
       " \"केवळ पेट्रोल पंपाजवळ शौचाला बसल्यावरुन एका तरुणाला पेट्रोल पंपाच्या कर्मचाऱ्यांनी बेदम चोप दिल्याचा प्रकार पनवेलमध्ये घडलाय. पनवेल-गोवा हायवेला लागून असलेल्या पंपाजवळ हा प्रकार घडला. पनवेलपासून १५ किलोमीटर अंतरावर हा पेट्रोल पंप आहे. या सगळ्या प्रकाराचा एका प्रत्यक्षदर्शीने काढलेला व्हिडिओ 'मुंबई लाइव्ह'च्या हाती लागला आहे.\\n\",\n",
       " 'यासंदर्भात प्रत्यक्षदर्शी महेंद्र विश्वकर्मा याने सांगितले की, गुरुवारी रात्री ते गोव्याला जात असताना पेट्रोल पंपाजवळच एक तरुण शौच करत होता. ते पाहून पेट्रोल पंपावरच्या कर्मचाऱ्यांनी त्या तरुणाला लाथा, बुक्क्यांनी आणि बांबूने मारायला सुरुवात केली. शेवटी आसपासच्या जमावाने मध्यस्थी केल्यानंतर या तरुणाची सुटका झाली.\\n',\n",
       " '\\n',\n",
       " 'स्वगृह » विशेष » अक्षरमंच - मुक्त व्यासपीठ » मराठी कविता » प्रेमाचे वादळ\\n',\n",
       " 'लेखन: ऋचा मुळे _ प्रकाशन: संपादक मंडळ _ ८ ऑगस्ट २०१५\\n',\n",
       " 'घाबरु नको मी ही मनात\\n',\n",
       " 'हात तुझ्या हाती देता\\n',\n",
       " '\\n',\n",
       " 'या दिवशी पोस्ट झाले ऑगस्ट 24, 2017 जुलै 4, 2018 Jivnat Shiklele Dhade द्वारा\\n',\n",
       " '“शिक्षणावर विचार व सुविचार (इंग्रजी-मराठी)” साठी एक प्रतिउत्तर\\n',\n",
       " '\\n',\n",
       " 'खरआहे भाऊ यामुळेच हे घरात आहेत काहीदिवसात हे लोक देशात दिसणार नाहीत\\n',\n",
       " 'एका वेळी तर भाजप लोकसभेतील सर्वात मोठा पक्ष असताना सुद्धा सत्तेवर येऊ दिले गेले नाही. (पुरोगामी/ठरावीक लेखक/विचारवंत/सोशल वर्कर नामवंत बनवुन त्यांच्या मदतीने जनमत एकाच पक्षाच्या बाजुने झुकवले व त्याला पैशाची जोड देऊन गरीब मतदारांना विकत घेतले. व दशकानु दशके देशाची लुट करणारी सत्ता उपभोगली./राबवली. (ऊद्या जरी याच घराण्याचा देशभक्त नेता जन्मला तर हेच मिडिया वाले उलटे फिरतील किंवा त्याला अलगद संपवुन टाकतील.\\n',\n",
       " 'आपण म्हणाला त्याप्रमाणे मिडिया सातत्याने एका पक्षाच्या सरकार वर टिका करत नागरिकांना निष्क्रिय करत आहे. त्यामुळे देशाची लुट करणे सहज शक्य होते.\\n',\n",
       " 'व मिडियाला पाहिजे ते घराणे शाहिचे सरकार आले की विरोधी पक्षाला टारगेट करते. यामागे कोणत्या तरी जागतिक शक्ती काम करत आहेत पण भारतिय आपल्याच स्वार्थात मश्गुल आहे. व शतकानुशतके मुसलमानी सत्तेने राज्य केल्या मुळे हेच आता भारत तुमचा देश नाहीच हे म्हणण्या पर्यंत मजल गेली आहे.\\n',\n",
       " 'आज देखिल मोदि सारख्या मुरब्बी नेत्याला पण केवळ Times Now ला मुलाखत देऊन इतर मिडिया पासुन वेगळा पाडण्यात यश मिळविले आहे. हिच वाहिनी व अरणब गोस्वामी सरकारीपक्षाच्या प्रवक्त्याची पिसे काढण्याची ऐक हि संधी सोडत नाही व अशा प्रवक्त्या वर पाशवी अत्याचार करत आहे व याच वाहिनी चा टिआरपी सर्वात जास्त आहे. हिच नागरिकता भारतात मिडियाने रुजवलेली आहे.\\n',\n",
       " 'प्रथम काहि दशकात सुशिक्षित मध्यम वर्गीय नागरिकांना मतदाना पासुन परावृत्त करण्यात मिडिया यशस्वी झाला ( कारण एकदाका हा वर्ग मतीमंद झाला की मतदान करायचे थांबवतो व गरिब जनतेची मते विकत घेता येतात व आता सोशल नेटवर्किंग मुळे काही मध्यमवर्ग परत मतदान करु लागल्या वर गुमराह करण्यात यशस्वी होत आहे.)\\n',\n",
       " 'ही नागरिकांची निष्क्रियता फारच घातक आहे.\\n',\n",
       " 'आणि त्याचाच फायदा मिडिया वाले घेतात व भारता सारख्या खंडप्राय देशात धुडगूस घालत आहेत. अनेक वेळा नव्हे प्रत्येक वेळी मिडियाने नेहमीच एका ठराविक राजकीय पक्षांना टारगेट केले आहे.\\n',\n",
       " 'डोळस सामान्य माणूस हे न जाणण्या एवढा दुध खुळा नाही हे गेल्या लोकसभा निवडणुकीत दिसून आले आहे.\\n',\n",
       " 'परंतु गोरक्षा, दलित, महागाई, विकास 15 लाख रु राममंदिर या विषयावर मोदी सरकारची आश्वासने कितपत पुर्ण केली यावरुन हाच मिडिया जस जशा 2019 च्या निवडणूका जवळ येतील तशे सरकारवर धारदार हल्ले चढवेल व 2004 प्रमाणे या सरकारने काम चांगले केले पण लोकांन पर्यंत पोहोचण्यास अपयशी ठरले व निवडणूक हरले किंवा बहुमत मिळेवु शकले नाही ही सारवासारव करेल.\\n',\n",
       " 'एका बाजूने सरकारची चुकीची धोरणे लोकांना दाखवून त्यात बदल करावयास भाग पाडणे व\\n',\n",
       " 'व पाराचा कावळा करुन देशवासियांना दाखवत आहे. व आमच्या सर्वांकडे हे हतबल पणे पहाणे एवढाच पर्याय सध्या तरी आहे. हाच मिडिया जयललिता यांचा भ्रष्टाचार बाहेर काढण्याचा प्रयत्न का करत नाही?\\n',\n",
       " 'मिडिया हि कोणाची डिप अॅसेट आहे हे वरिल व अण्णां च्या आंदोलनातुन लक्षात येईल.( परंतु या मिडियाचा लोकशाही मार्गाने बंदोबस्त जर झाला नाही/ होणार नाही मग क्रांती होणे अपरिहार्य आहे फक्त याची मशाल प्रथम कोण पेटवतो हे बघणे महत्वाचे आहे ).\\n',\n",
       " 'मोदी इतक्या प्रतिकुल परिस्थितीत कशी कामगिरी करतात हे व पुढील निवडणुकीत कसे सामोरे जातात हे फारच रोमहर्षक राहिल. धन्यवाद भाऊ\\n',\n",
       " 'आपल्या सारख्यांच्या लेखा मुळे होणारी जन जागृती हा आशेचा किरण आहे.\\n',\n",
       " 'रोहित वेमुला दलित नाही म्हटल्यावर त्याच्या मृत्यूचे भांडवल करणारे भामटे बिळात नाहीसे झाले असणार, असल्या तथाकथित सेक्युलऱ भामट्यांवर जनतेची दिशाभूल केली म्हणून खटले चालविले पाहिजेत म्हणजे पुन्हा असली नाट्यबाजी होणार नाही.\\n',\n",
       " '\\n',\n",
       " 'संवादिनी: मी आणि बाबा\\n',\n",
       " \"Happy V-Day! मंगळुर(असंच म्हणतात मराठीत) जाऊन ये. छान, छोटं टुमदार गाव आहे, खाण्यापिण्याची चंगळ आहे..तू प्रथम(hopefully I am right)अवतारावर प्रेम करत असशील, तर ब्येष्ट मंगलोरियन फिश मिळतं बघ तिथं. आणि ती त्यांची छान रोटी cum भाकरी..वा वा..मस्तच. आणि एक गोष्टं करच...तिथे गडबड नावाचं icecream cum faluda मिळतो..don't miss it लय बंपरभर येतो बर का त्यामुळे पोटात जागा असतानाच order कर..\\n\",\n",
       " 'कितीही प्रयत्न केला तरी बाबा या ’प्रकरणा’बद्दल तू जितकं मनमोकळेपणे खरंखरं लिहून टाकलंयेस, त्याच्या १% सुद्धा मला कधी लिहीता येणार नाही हे, त्यात लपवण्यासारखं काहीच नसलं (उलट गर्वाने सांगावंसं आहे) तरी, मी कबूल करुन टाकतो. त्याबद्दल तुला सलाम! यू डिझर्व्ह इट! ते त्यांचं तसं असणं, वागणं, बोलणं, मोठ्या विषयाला हात घालण्यासाठी कॉफ़ीला घेऊन जाणं - सेम पिंच!\\n',\n",
       " 'मी म्हणीन कि मिशीवाल्याशी जाऊन बोलण्याला तुला ही (आणखी एक) इन्स्पिरेशन ठरो!\\n',\n",
       " 'जाऊन जरा त्याला पिन मार - बघुयात तो ’साथिया’तल्या विवेक ओबेरॉय सारखा तुला शोधत मंगलोर ला येतोय का! :)\\n',\n",
       " 'संवादिनी, तुझा ब्लॉग आवडला. छान लिहितेस. :-) हे पोस्ट जास्त आवडलं. मलाही आईपेक्षा बाबा जास्त जवळचे वाटतात त्यामुळे बहुधा!\\n',\n",
       " 'अभिजित, या गाण्याला मंगलोर उपयोगाचं नाही. त्याला राजस्थानच हवा. :-) (नुकतीच राजस्थानला जाऊन आल्यामुळे हे एक ठाम मत! :-P)\\n',\n",
       " '\"..कदाचित लोकांची आपण जरा जास्तच काळजी करतो, म्हणून असेल.\"\\n',\n",
       " 'भायलोग - ’मिशीवाला’ हे नाव पकाऊ नाही वाटते का तुम्हाला? ’टारझन’ कसं वाटतंय? :))\\n',\n",
       " 'ई.. टारझन काय? संवादिनी म्हणजे काय किमी काटकर का मग? ;)\\n',\n",
       " 'सहसा अशी वादळं जिच्या डोक्यात जन्माला येतात तिला मी \"आई\" म्हणते. चुकवून चुकवून चुकवू तरी किती तिला? शेवटी आई आहे ती.\\n',\n",
       " '@ संवेद - खरंच \"मंगळुर\" झकास आहे. मला मनापासून आवडलं. मत्स्यावतारावर प्रेम आहेच. ते इथे येऊन आणखी वाढलंय. पण विकेंडला खास एका ठिकाणी फिश खायला जाणार आहे. मुंबईला आले की लिहीन त्याच्याबद्दल सविस्तर. तू गेला नसशील तर पुढच्या वेळी जाऊ शकतोस तिथे.\\n',\n",
       " '@ सर्किट - केतन म्हणतो तसे सगळ्यांचेच बाबा असेच असतील बहुतेक. असावेत. आणि कौतुकाबद्दल धन्यवाद! राज? नको. राज म्हटलं की हल्ली भय्ये आठवतात.\\n',\n",
       " '@ नंदन - मान्य. पण हे स्वातंत्र्य गमावण्यातच एक वेगळी मजा आहे ना. जितके सब जीतते है, हारके भी जीतो तो?\\n',\n",
       " '@ केतन - वादळाला तोंड देण्यासाठी मला बऱ्याच शुभेच्छांची गरज आहे. थँक्स.\\n',\n",
       " '@ अभिजित - मी काही बोलून जर ते तसं घडलं तर माझी आजी मला कानफाटी म्हणत असे. आता तुला कानफाट्या म्हणावं का? आज काय लिहिलंय ते वाच. आणि जर अशाच तुला वाटणाऱ्या गोष्टी खरंच घडत असतील. तर मी सांगेन तसं वाटवून घे. आणि टारझन काय रे? एखादं बरं नाव नाही मिळालं?\\n',\n",
       " '@ श्रद्धा - आज मला कोणतं गाणं ऐकू यायला लागलंय ते लिहिलंय.\\n',\n",
       " '@ जास्वंदी - अगं जास्त कौतुक नको करू माझं. आजीची अजून एक म्हण सांगते, जी ती मला म्हणायची. भरवशाच्या म्हशीला टोणगा. खरंतर तिने मला भरवशाच्या टोणग्याला म्हैस असं म्हणायला हवं होतं हे आता लिहिता लिहिता लक्षात आलं.\\n',\n",
       " 'बाप रे. आज इथेच ब्लॉग इतकं लिहून झालं. आणि इथे कामही नेहमीपेक्षा जास्त आहे. म्हणून ह्यावेळी ब्लॉग एकदम छोटा आहे.\\n',\n",
       " '\\n',\n",
       " 'चीक लिफ्ट करण्यासाठी- आपले गाल आपल्या डोळ्यांकडे उचला. यासाठी तोंडाचे कोपरे वापरा. गाल उचलण्यासाठी डोळे बंददेखील करू शकता. हा व्यायाम आपल्या सोयीप्रमाणे अनेकदा करता येऊ शकतो. पण अती नसावी हे लक्षात असू द्या.\\n',\n",
       " 'फिश लिप्स- गाल आतल्या बाजूला ओढा. दोन्ही ओठ बाहेरून खेचून मासोळीसारखे ओठ करावे. दहा सेकंदांसाठी ही मुद्रा असू द्यावी. हा व्यायाम दहा वेळा करावा.\\n',\n",
       " '\\n',\n",
       " 'नदी तीरावर, पाण्यासाठी..\\n',\n",
       " 'पावरीचा सूर, आज दूर दूर\\n',\n",
       " 'वि. सु. = अव्खळ , अव्घड हे मात्रा सांभाळण्यासाठी लिहिले आहे.\\n',\n",
       " 'singletab म्हणाले...\\n',\n",
       " 'सर्वत्र एक धुन वाटते आहे...छान च..\\n',\n",
       " 'सानिका चा संदर्भ द्याल का?\\n',\n",
       " '\\n',\n",
       " 'कोण दिशेने वाहत आली ही हवा कळेना\\n',\n",
       " '\\n',\n",
       " 'भारतीय खेळाडू विराट कोहली, सुरेश रैना, मनविंदर बिस्ला, दिनेश कार्तिक व रोहित शर्मा यांनीही दमदार इनिंग्ज खेळल्या मात्र त्यांच्या प्रभाव भयंकर नव्हता.\\n',\n",
       " 'या हंगामातील पहिल्या तीन इनिंग्ज परदेशी खेळाडूंच्या नावे आहेत. ख्रिस गेलच्या मुसळधार 175 धावा, डेव्हिड मिलरच्या लक्ष्याचा पाठलाग करताना 101 धावा आणि वाटसनचे तुफानी शतक अजूनही विसरणे शक्य नाही.\\n',\n",
       " 'गेलने पुणे संघाविरुद्ध 66 चेंडूत 175 धावा तडकवल्या होत्या. मिलरने बेंगळुरूविरूद्ध 38 चेंडूत नाबाद 101 धावा करत पंजाबला अविश्वसनीय विजय मिळवून दिला होता. वाटसनने चेन्नईविरुद्ध 61 चेंडूत तडाखेबंद शतक झळकवले होते.\\n',\n",
       " 'नवी दिल्ली. आयपीएलच्या सद्या सुरू असलेल्या सहाव्या हंगामात सामना जिंकून देणार्\\u200dया अविश्वसनीय इनिंग खेळण्यात परदेशी खेळाडूंनी भारतीयांना पछाडले आहे.\\n',\n",
       " '\\n',\n",
       " 'माझ्या एका मित्राला ती एका रद्दीच्या दुकानात मिळाली. त्याने ती मला भेट दिली. पत्रकाराने लिहिलेले पुस्तक असल्याने मला काही त्याचा उपयोग होईल असे त्याला वाटले. मी ते वाचायला घेतले आणि त्याच्या अक्षरक्ष: प्रेमात पडलो. फारच चांगले पुस्तक आहे. इतरांना त्याची ओळख करून द्यावी म्हणून मग मी हा लेख लिहिला. आभार आपल्या प्रतिसादाबद्दल.\\n',\n",
       " 'तुम्ही नेहमीच माझा ब्लॉग वाचून प्रतिसाद लिहिता याबद्दल मनापासून आभार.\\n',\n",
       " 'एका अप्रतिम पुस्तकाची तोंडओळख करून दिल्याबद्दल आभार\\n',\n",
       " '\\n',\n",
       " 'जागा_हो_मानवा_ठेपली_येऊन_वेळ_क्रूर_होऊन_येतोय_आपला_काळ __ (स्वामी नरेंद्र गीत) __ श्री गुरूदेव\\n',\n",
       " '\\n',\n",
       " 'love Archives - जीवनात शिकलेले धडे\\n',\n",
       " 'महान उपचार चिकित्सा मित्र आणि मैत्री आहे. – ह्यूबर्ट एच. हम्फ्री\\n',\n",
       " 'आपण स्वत: ला प्रशंसा करू शकता तेव्हा सौंदर्य आहे जेव्हा आपण स्वत: ला प्रेम करता, तेव्हा आपण सर्वात सुंदर असतो. – झो क्रेविट्झ\\n',\n",
       " 'प्रेम म्हणजे दुसऱ्यांचा आनंद तुमच्या स्वतःपेक्षा जास्त महत्त्वाचा असतो. – एच. जॅक्सन ब्राउन, जूनियर\\n',\n",
       " 'जेव्हा आपण प्रेम करतो तसे आपल्याला दुःख सहन करता येत नाही. – सिगमंड फ्रायड\\n',\n",
       " 'प्रेमामध्ये कोणत्याही त्रुटी नाहीत, कारण सर्व चुका प्रेमप्रती असतात. विल्यम लॉ\\n',\n",
       " 'प्रेमात काही वेडेपणा नेहमीच असतो पण नेहमी वेडेपणा मध्ये देखील काही कारण आहे – फ्रेडरीच नॅत्शे\\n',\n",
       " 'तुम्हाला ह्या ‘प्रेमावर सुंदर विचार व सुविचारांचा संग्रह’ कसा वाटला आणि व्याकरणाच्या व अनुवादाच्या चूक असल्यास कमेंटच्या माध्यमातून नक्कीच कळवा.\\n',\n",
       " '\\n',\n",
       " 'चीनमधील जिनजोंग शहरात एका प्राणीमित्र महिलेने १४० पाऊंड (१३ हजार) देऊन एक गोंडस पांढराशुभ्र कुत्र्याचे पिल्लू विकत घेतले. पण त्याच्या सवयी व त्याची वेगात होणारी वाढ बघून ती चांगलीच हादरली. कारण त्या पिल्लाचे वागणे, खाणे, भुंकणे आणि सामान्य कुत्र्यांचे वर्तन यांच्यात खूपच फरक होता. म्हणून तिने त्याला प्राण्यांच्या डॉक्टरांकडे नेले तेव्हा तो कुत्रा नसून कोल्हा असल्याचे डॉक्टरांनी सांगितले.\\n',\n",
       " '\\n',\n",
       " \"नॅशनल पार्कमध्ये 'राधा' बिबट्याचा मृत्यू\\n\",\n",
       " 'अागीत ६ वर्षात ३०० लोकांचा मृत्यू\\n',\n",
       " '\\n',\n",
       " 'श्रीसमर्थ म्हणतात की, संवाद म्हणजे खरा वाद. ज्यापासून वादाचा उलगडा होतो तोच खरा वाद, त्यालाच संवाद म्हणावे.\\n',\n",
       " 'उभयपक्षी पक्षाभिमान आहे तोवर असला संवाद होणे शक्य नाही, यसाठी भल्यांनी विचार करून अहंकाराला जिंकले पाहिजे. ज्याच्या अंतरीचा अभिमान अजून गळालेला नाही, त्याने वाद करण्याच्या भरीस पडू नये.\\n',\n",
       " 'अभिमानाला पेटून केलेला वाद क्रोध, मद, मत्सर इत्यादि अनेक विकार उत्पन्न करतो. तात्पर्य, मनुष्याच्या अंतगरणांत अहंकाराने जे ठाणें दिलेले असते, ते तेथून उठवून त्या ठिकाणी प्रेमाची स्थापना केल्यावाचून हितकारी वाद होणे शक्य नाही.\\n',\n",
       " '\\n',\n",
       " 'जणू त्यांचा, या पावसाळी पुन्हा नवा जन्मच झाला\\n',\n",
       " 'जणू त्यांनी सर्वस्व अर्पण करून उपभोग करून घेतला पावसासोबत पुन्हा पुन्हा\\n',\n",
       " '\\n',\n",
       " 'चित्रपट / Name: Sharda\\n',\n",
       " '\\n',\n",
       " 'नोटाबंदीच्या काळात तब्बल 84 कोटी रूपये डिपोझिट करणाऱ्या चंद्रकांत पटेल या व्यापाऱ्याला पोलिसांनी अटक केली आहे. या प्रकरणी पोलीस पुढचा तपास करत आहेत.\\n',\n",
       " 'चंदू पटेलला अटक झाल्यानंतर त्याच्या संदर्भात काही धक्कादायक माहिती समोर आलीये. चंदू पटेल आणि शिवसेना नेते आणि गृहनिर्माण राज्यमंत्री रवींद्र वायकर यांचे आर्थिक संबंध असल्याचा आरोप झालाय. वायकरांनी मात्र हे आरोप फेटाळलेत.\\n',\n",
       " 'चंदू पटेलची सध्या कसून चौकशी सुरू आहे. त्याच्या चौकशीत धक्कादायक माहिती समोर येण्याची शक्यता आहे.\\n',\n",
       " '\\n',\n",
       " 'पूणे, 31 जुलै : काल चाकणमध्ये उसळलेल्या हिंसाचारामध्ये आंदोलकांनी पोलिसांवर हल्ले केले. यामध्ये पोलीस कर्मचारी अजय भापकर जबर जखमी झाले आहेत. त्याचे फोटो इतके भयानक आणि विचलित करणारे आहेत की आम्ही तुम्हाला ते दाखवूही शकत नाही. पोलीस महानिरीक्षक विश्वास नांगरे-पाटील जहांगीर रुग्णालयात त्यांची विचारपूस करायला जाणार आहेत.\\n',\n",
       " 'यात अतिरिक्त पोलीस अधीक्षक तेजिस्विनी सावंत, पोलीस उप अधीक्षक गणपत माडगुळकर, चाकणचे पोलीस निरीक्षक धन्यकुमार गोडसे ,राम पठारे यांच्या सह अन्य दोन कर्मचारी जखमी झाले होते, या सर्वांवर उपचार करण्यात आले असुन सर्वांची प्रकृति स्थिर असल्याच समजतय.\\n',\n",
       " 'चाकणमध्ये कालपासून चाललेल्या आंदोलनादरम्यान आंदोलकांनी केलेल्या तोडफोडी आणि जाळपोळीत खासगी आणि सरकारी वाहनांचं मोठ्या प्रमाणात नुकसान झालं. काल केलेल्या जाळपोळीत सरकारचं सुमारे ८ कोटींचं नुकसान झाले असल्याचे समोर येत आहे. या प्रकरणात ३ हजार आंदोलकांवर गुन्हा दाखल करण्यात आला आहे.\\n',\n",
       " '\\n',\n",
       " 'नगर (प्रतिनिधी):- कोपर्डी ‘निर्भया’कांड प्रकरणातील आरोपींना आज जिल्हा व सत्र न्यायालयाने फाशीची शिक्षा सुनावली. पप्पू ऊर्फ जितेंद्र शिंदे, संतोष भवाळ, नितीन भैलुमे, या तिघांना गे... Read more\\n',\n",
       " 'सर्वसाधारण सभेत भाजप-राष्ट्रवादीत आरोप-प्रत्यारोपांच्या फैरी! (पहा व्हिडीओ)\\n',\n",
       " 'पिंपरी (Pclive7.com):- उपसूचना ऐंनवेळी दाखल करणे, सर्पोद्यानातील मगरी-साप चोरी प्रकरणातील गौडबंगाळ, ‘महाराष्ट्र ओपन’ टेनिस स्पर्धेला महापालिकेकडून ५ कोटींचे अनुदान देण्यावरून घेण... Read more\\n',\n",
       " 'पिंपरी (Pclive7.com):- पिंपरी चिंचवड महापालिकेच्या संत बहिणाबाई चौधरी उद्यानातून मगरीची पिल्ले, अजगरांची चोरी होते, एवढे मोठे अजगर चोरीला जाताच कसे, अजगराची चोरी होत असताना सुरक्षारक्षक काय... Read more\\n',\n",
       " 'पिंपरी (Pclive7.com):- राष्ट्रवादी काँग्रेसचे माजी आमदार अण्णा बनसोडे आणि माजी नगरसेवक काळूराम पवार यांच्यात जोरदार हाणामारी झाली. एकमेकांच्या गाड्यांची तोडफोड देखील करण्यात आली. रविवारी साय... Read more\\n',\n",
       " '\\n',\n",
       " 'प्रफुल्ल साळुंखे, 09 आॅक्टोबर : आगामी लोकसभा निवडणुकीच्या पार्श्वभूमीवर भाजपच्या आमदार आणि खासदारांची विशेष बैठक मुंबईत पार पडली. या बैठकीत भाजपची संघटनात्मक बांधणीबाबत चर्चा झाली.\\n',\n",
       " 'भाजपच्या आमदार आणि खासदारांची विशेष बैठकीला दादरच्या वसंत स्मृती सभागृहात संपन्न झाली. या बैठकीला मुख्यमंत्री देवेंद्र फडणवीस, प्रदेशाध्यक्ष रावसाहेब दानवे, ज्येष्ठ नेते एकनाथ खडसे,हरीभाऊ बागडे यांच्यासह सर्व मंत्री उपस्थित होते. आगामी लोकसभा निवडणुकीसाठीची तयारी, 5 राज्यांच्या निवडणूक आणि राज्यातील दुष्काळी परिस्थितीचा सामना यावर या बैठकीत चर्चा झाली.\\n',\n",
       " 'या बैठकीनंतर प्रदेशाध्यक्ष रावसाहेब दानवे यांनी प्रसारमाध्यमांना माहिती दिली. या बैठकीत भाजपची संघटनात्मक बांधणीबाबत चर्चा झाली. राज्यात विविध प्रकारचे कार्यक्रमाचे आयोजन करण्यात आले होते. 31 ऑक्टोबरपर्यंत मतदार यादीत नवीन नावं नोंदणीची तारीख आहे यासाठी सक्रिय होण्यास आमदारांना सूचना देण्यात आल्यात अशी माहिती दानवेंनी दिली.\\n',\n",
       " 'आम्ही सर्व वर्गाशी जोडण्याचा प्रयत्न करतोय. यासाठी विविध कार्यक्रम यशस्वीपणे राबवण्याबाबत आढावा घेण्यात आला असंही त्यांनी सांगितलं.\\n',\n",
       " '\\n',\n",
       " 'महाराष्ट्रातील लोकांचा आणि विशेषतः मुंबईतील लोकांचा आवडता वडापाव अतिशय चविष्ट, खिशाला परवडणारा आणि कमी पैश्यात झटपट पोट … [Read more...] about नोकरी सुटल्या नंतर देखील या व्यक्तीने जिद्दीने कसे कमवले 4 करोड रुपये तेही एका वर्षात, जाणून घ्या तुम्ही पण\\n',\n",
       " '1 वर्षा पर्यंत कोथिंबीर कशी टिकवायची हे शीर्षक वाचून तुम्हाला कदाचित हे अशक्य वाटले असेल पण आम्ही सांगत असलेल्या … [Read more...] about 1 वर्षा पर्यंत कोथिंबीर या पद्धतीने टिकवा\\n',\n",
       " '\\n',\n",
       " 'गुजरात मॉडेलवर जनतेचा विश्वास नाही : राहुल गांधी\\n',\n",
       " 'Posted in: Top News, क्रिडा, पुणे\\n',\n",
       " '\\n',\n",
       " '12 डिसेंबर, नागपूर : राज्यातल्या सरकारशी बळीराजाने संपूर्ण असहकार पुकारावा, असं आवाहन शरद पवारांनी केलंय. भाजप सरकारने जनतेला वाऱ्यावर सोडल्याने शेतकऱ्यांनी वीज बिलू भरू नयेत तसंच कर्जही फेडू नये, असं थेट आवाहनच शरद पवारांनी नागपूरच्या हल्लाबोल मोर्चात केलंय. शरद पवारांचा आज 77वा वाढदिवस आहे तरीही ते काँग्रेस राष्ट्रवादीच्या हल्लाबोल मोर्चात सहभागी झाले. किंबहुना त्यांच्या नेतृत्वातच विरोधकांनी सरकारवर हल्लाबोल केला. काँग्रेसच्यावतीने पक्षाचे राष्ट्रीय नेते गुलाब नबी आझाद सहभागी झाले होते.\\n',\n",
       " \"शरद पवार म्हणाले, ''माजी पंतप्रधान मनमोहन सिंग यांच्यावर पाकिस्तानशी लागेबांधे असल्याचे आरोप करताना या भाजप सरकारला शरम वाटली पाहिजे. तुम्हाला सरकार चालवण्याचा अधिकार आहे. पण तुम्ही कुणालाही दमदाटी करून तुरूंगात टाकलं तर तुम्हाला उखडून टाकण्याची ताकद बळीराजामध्ये आहे. म्हणूनच आम्ही आज या झोपलेल्या सरकारला जागं करण्यासाठी विधानभवनावर हल्लाबोल मोर्चा काढलाय.''\\n\",\n",
       " \"गुलाब नबी आझाद म्हणाले, ''आम्हाला देश स्वतंत्र करण्याची घाई होती, भाजपला मात्र, सत्तेत येण्याचीच घाई आहे, माझा काश्मीर पेक्षा यवतमाळ आणि वाशीम सोबतच जास्त संबंध आहे, कारण मी इथूनच लोकसभेत गेलो होतो,'' याची आठवणही आझाद यांनी करून दिली.\\n\",\n",
       " \"प्रफूल पटेल म्हणाले, ''या हल्लाबोल मोर्चाच्या निमित्ताने काँग्रेस आणि राष्ट्रवादीच्या नेत्यांना एकत्र पाहून देवेंद्र फडणवीसांची नक्कीच झोप उडाली असेल, गुजरातमधील परिवर्तनानंतर देशातही परिवर्तन पक्के आहे''\\n\",\n",
       " 'राष्ट्रवादी आणि काँग्रेस या दोन्ही विरोधी पक्षांनी आज नागपुरात या हल्लाबोल मोर्चा काढून सरकारविरोधात जोरदार शक्तीप्रदर्शन केलं.\\n',\n",
       " '\\n',\n",
       " 'नाशिक, दि. २७ (पीसीबी) – नाशिक महापालिकेचे आयुक्त तुकाराम मुंढे यांच्या विरोधात भाजप अविश्वास प्रस्ताव आणणार आहे. त्यासाठी आज (सोमवार) विशेष सभेचे आयोजन करण्यात आले आहे. मात्र, भाजपमधील एका गटाने या अविश्वास ठरावाला विरोध केला आहे.\\n',\n",
       " 'करवाढीच्या मुद्द्यावरून मुंढे यांच्या विरोधात अविश्वास ठराव आणण्यासाठी भाजपच्या पदाधिकाऱ्यांनी सर्वपक्षीय गटनेत्यांची बैठक घेऊन स्वाक्षरी मोहीम सुरु केली होती, असे भाजपच्या स्थानिक पदाधिकाऱ्यांनी सांगितले.\\n',\n",
       " 'दरम्यान, यापूर्वी नवी मुंबई महापालिकेच्या आयुक्तपदावर कार्यरत असताना तुकाराम मुंढे यांना तेथील महापौरांसह नगरसेवकांच्या रोषाला सामोरे जावे लागले होते. त्यानंतर त्यांची नियुक्ती पुण्यातील पीएमपीएमएलच्या अध्यक्षपदी करण्यात आली होती. मात्र, तिथेही त्यांना विरोध झाल्याने त्यांची मुख्यमंत्र्यांनी दत्तक घेतलेल्या नाशिक शहराच्या आयुक्तपदी वर्णी लावण्यात आली.\\n',\n",
       " 'Next articleदलितांच्या केवळ दोन पिढ्यांनाच आरक्षण देण्यात यावे – भाजप खासदार\\n',\n",
       " '\\n',\n",
       " 'महाराष्ट्र दुय्यम सेवा पूर्व परीक्षा पुस्तक सूची.\\n',\n",
       " 'भारताची राज्यघटना आणि प्रशासन –रंजन कोळंबे.[Buy Online]OR\\n',\n",
       " 'आधुनिक महाराष्ट्राचा इतिहास- एस.एस गाठाळ. [Buy Online] OR\\n',\n",
       " 'परिपूर्ण मराठी व्याकरण – बाळासाहेब शिंदे. [Buy Online]\\n',\n",
       " '\\n',\n",
       " \"'मेहरबानी नको,लढून न्याय मिळवू'\\n\",\n",
       " '\\n',\n",
       " 'आगामी लोकसभा निवडणुकीत रायबरेलीतून सोनिया गांधींच्या ऐवजी प्रियांका गांधी उभ्या राहतील, अशी बातमी सूत्रांकडून मिळतेय.\\n',\n",
       " 'नवी दिल्ली, 04 आॅगस्ट : आगामी लोकसभा निवडणुकीत रायबरेलीतून सोनिया गांधींच्या ऐवजी प्रियांका गांधी उभ्या राहतील, अशी बातमी सूत्रांकडून मिळतेय. यामागे 2 कारणं सांगितली जात आहेत. एक तर सोनिया गांधींची प्रकृती हल्ली फारशी बरी नसते, आणि दुसरं म्हणजे पक्षाला मजबूत करण्यासाठी प्रियांकांनी निवडणुकीच्या राजकारणात पदार्पण करावं, अशी काँग्रेसमधल्या अनेकांची इच्छा आहे.\\n',\n",
       " 'भाजप 2019च्या निवडणुकीसाठी उत्तर प्रदेशाकडे गंभीरपणे पाहतंय. त्यामुळेच काँग्रसनं आपली तयारी सुरू केलीय. भाजपचं लक्ष अमेठी आणि रायबरेलीवर आहे. तो गड त्यांना काबीज करायचा आहे.\\n',\n",
       " 'भाजपला उत्तर द्यायचं असेल आणि जास्तीत जास्त जागांवर निवडून यायचं असेल तर प्रियांका गांधींशिवाय पर्याय नाही असं आता काँग्रेसला वाटचं. प्रियांका गांधींचा करिष्मा निवडणुकीत उपयोगी पडू शकतो आणि भाजपला टक्कर देता येईल, असं वाटूनच या हालचाली आहेत.\\n',\n",
       " '\\n',\n",
       " '...तर तेलंगण राष्ट्र समिती भाजपला पाठिंबा देईल - के. चंद्रशेखर राव - Pimpri Chinchwad Bulletin\\n',\n",
       " 'Home Notifications …तर तेलंगण राष्ट्र समिती भाजपला पाठिंबा देईल – के. चंद्रशेखर राव\\n',\n",
       " 'हैदराबाद, दि. ५ (पीसीबी) – दिल्लीत पंतप्रधान नरेंद्र मोदी आणि तेलंगणचे मुख्यमंत्री के. चंद्रशेखर राव यांच्यात महत्वपूर्ण बैठक पार पडली. यावेळी २०१९ मधील लोकसभा निवडणुकीनंतर तेलंगण राष्ट्र समिती भाजपला पाठिंबा देईल, असे राव यांनी मोदींना आश्वस्त केल्याचे सांगितले जात आहे. आगामी लोकसभा निवडणुकीसंदर्भात या दोघांमध्ये महत्त्वपूर्ण चर्चाही झाली.\\n',\n",
       " 'Previous article…तर तेलंगण राष्ट्र समिती भाजपला पाठिंबा देईल – के. चंद्रशेखर राव\\n',\n",
       " '\\n',\n",
       " 'लोणावळा, दि. ७ (पीसीबी) – मुंबई – पुणे मार्गावर खंडाळ्याजवळ मदुराई एक्स्प्रेसचा डबा रुळावरुन घसरला. या घटनेत सुदैवाने कोणतीही जीवितहानी झालेली नाही. मात्र, यामुळे मुंबई – पुणे रेल्वे वाहतूक विस्कळीत झाली आहे. सध्या सिंहगड एक्सप्रेस, प्रगती एक्\\u200cस्प्रेस, इंटरसिटी एक्स्प्रेस या गाड्या रद्द झाल्याची घोषणा केली जात आहे.\\n',\n",
       " 'मध्यरात्री पावणेतीन वाजण्याच्या सुमारास बोगी रुळावरून खाली घसरली. ही बोगी हटवण्याचे काम युद्धपातळीवर सुरू आहे.\\n',\n",
       " 'पुण्याच्या दिशेला ही रेल्वे येत असताना खंडाळ्याजवळ अचानक मागच्या इंजिनचे प्रेशर वाढले आणि ही एक बोगी लोहमार्गावरून खाली उतरली. ती बोगी हटवण्याचे काम युद्ध पातळीवर सुरू असून, घसरलेली बोगी सोडून रेल्वे पावणे सहा वाजता पुढे मार्गस्थ झाली आहे.\\n',\n",
       " 'यामुळे डाऊन लाईनवरील वाहतूक बंद असून, मुंबईकडून येणाऱ्या रेल्वे या मिडल लाईनवरून पुण्याला येत आहेत. तर मुंबईला जाणाऱ्या अप लाईन वरून धावत आहेत. या अपघातामुळे रेल्वे पंधरा मिनिटे उशिरा धावत आहेत.\\n',\n",
       " 'मराठा आरक्षणासाठी घटना दुरूस्तीची गरज नाही – नारायण राणे\\n',\n",
       " '\\n',\n",
       " '\"इतिहासाचे सोयीस्कर पुनर्कथन चालू आहे\" आणि हे देशासाठी फार घातक ठरतय.\\n',\n",
       " 'धर्माबद्दल प्रेम एकवेळ समजू शकतो पण ज्या आक्रमकांनी आपल्या जन्मभूमीत पूर्वजांना क्रूर वागणूक दिली, मृत्युचे तांडव घातले त्यांच्या विषयी प्रेमाचा उमाळा येणे हे घृणास्पद आहे.\\n',\n",
       " 'खरे तर गोवेकर आणि साष्टीकर लोकांनी इनक्विझिशनसाठी पोर्तुगाल सरकार कडून माफीनाम्याची मागणी केली पाहिजे.\\n',\n",
       " '\\n',\n",
       " 'Home Pimpri चिंचवड येथे ‘कलासंगम सोहळा २०१८’चे रविवारी आयोजन\\n',\n",
       " 'याबाबत माहिती देण्यासाठी पिंपरीत पत्रकार परिषद घेण्यात आली. यावेळी दिनेश मारणे, सुमित काटकर, सुप्रिया धाईंजे, संकेत लोंढे, आशा नेगी, सरोज राव उपस्थित होते.\\n',\n",
       " 'यावेळी महापौर नितीन काळजे, उपमहापौर शैलजा मोरे, भाजपचे शहराध्यक्ष व आमदार लक्ष्मण जगताप, आमदार महेश लांडगे, अखिल भारतीय मराठी नाट्य परिषदेचे पिंपरी-चिंचवड शहर अध्यक्ष भाऊसाहेब भोईर, आयुक्त श्रावण हर्डीकर, संस्कार भारतीचे सतीश कुलकर्णी, प्रसिद्ध कथक नर्तक डॉ. नंदकिशोर कपोते, तेजश्री अडिगे, महापालिकेचे सह शहर अभियंता प्रवीण तुपे, गीता शर्मा, संदीप जाधव, रवींद्र गांगुर्डे आदी उपस्थित राहणार आहेत.\\n',\n",
       " 'यावेळी राजन लाखे, सतीश वर्तक, नंदकिशोर कपोते, तेजश्री अडिगे, प्रवीण तुपे, संजय कांबळे, दत्तोबा पाचंगे, डॉ. सतीश गोरे, किरण येवलेकर, राज आहेरराव, वैशाली पळसुले, देवदत्त कशाळीकर आणि नाना शिवले, बाळ जुवाटकर यांचा गौरव केला जाणार आहे.\\n',\n",
       " 'Previous articleपिंपरी-चिंचवडचे खासदार दिल्लीशी निगडीत प्रश्नांवर का बोलत नाहीत? आमदार जगताप यांचा सवाल\\n',\n",
       " 'Next article‘धक्का मारायचा असेल तर घरी जा’, हुल्लडबाजी करणा-या काँग्रेस कार्यकर्त्यांवर संतापल्या प्रियंका गांधी\\n',\n",
       " 'आमदार लक्ष्मण जगताप यांच्या हस्ते दापोडीतील उद्यानाच्या कामाचे भूमीपूजन\\n',\n",
       " '\\n',\n",
       " 'कोणाला वाटलं पेंटिंग तर कोणाला वाटली बाहुली, हे आहे या फोटोमागचं सत्य\\n',\n",
       " 'संघ तुमचा चुकीचा वापर करू शकतो, प्रणवदांना मुलीचा सल्ला\\n',\n",
       " '\\n',\n",
       " \"'फ्लोरोसिस' कसा पसरला?\\n\",\n",
       " '\\n',\n",
       " 'Home Chinchwad चिंचवडमधील आदित्य बिर्ला रुग्णालयावर फसवणूक आणि अपहरणाचा गुन्हा दाखल करण्याची मागणी\\n',\n",
       " 'दरम्यान, अजिज शेख, त्यांचे कार्यकर्ते तसेच रुग्ण दशरथ शिवाजी यांच्या नातेवाइकांनी आदित्य बिर्ला रुग्णालयात या अन्यायाविरोधात धरणे आंदोलन सुरू केले आहे.\\n',\n",
       " 'Next articleकशासाठी जगावं याचे मुर्तीमंत उदाहरण म्हणजे अटलजी – पंतप्रधान मोदी\\n',\n",
       " 'पिंपळे गुरव येथे गॅस गळती होऊन झालेल्या भीषण स्फोटात वृध्द दांपत्य...\\n',\n",
       " '\\n',\n",
       " 'मध्यरात्रीपासून सुरक्षेच्या कारणास्तव पुढील आदेश होईपर्यंत बंद करण्यात येणार आहे. काही काळ वाहतुक कोंडी होणार असल्याने नागरिकांनी सहकार्य करावे, असे आवाहन वाहतूक पोलिसांनी केले\\n',\n",
       " '\\n',\n",
       " 'धर्म, जीवन व तत्त्वज्ञान\\n',\n",
       " 'छायाचित्र गॅलरी\\n',\n",
       " 'मुख्यपान धर्म, जीवन व तत्त्वज्ञान ब्राह्म आणि प्रार्थनासमाजास एक विनंती\\n',\n",
       " 'महार, मांग, भंगी, मुसलमान, ख्रिस्ती, पारशी फार तर काय आपण नास्तिक आहे असा स्वत:चा गैरसमज करून घेणारे अलीकडचे सर्व पोषाकी विद्वानही आत आले तरी त्यांना सभासद म्हणूनही येऊ द्यावे. केवळ मूर्ती फोडणे किंवा जाती मोडणे हा शब्दप्रयोगच मुळात भ्रामक आहे. आमच्या समाजानी हा भ्रम सोडावा. स्वातंत्र्य, शुद्धी आणि मैत्री ह्या भावना जेथे जेथे आहेत, तेथेच ब्राह्मसमाज आहे. इतरत्र कितीही सुंदर इमारती दिसल्या किंवा मधुर गाणी ऐकू आली तरी तेथे ब्राह्मसमाज नसून तेथे कदाचित ब्राह्मसमाजाची पूर्वतयारीच चालू आहे असा धीर आम्ही सर्वांनी राखावा. सत्य संकल्पाचा दाता भगवान आहे. आतून त्याचा आवाज ऐकू येतो. तिकडेच आम्ही कान द्यावेत. टीकाकार काही म्हणोत बापुडे!\\n',\n",
       " 'समग्र साहित्य विठ्ठल रामजी शिंदे\\n',\n",
       " 'विठ्ठल रामजी शिंदे यांची पुस्तके\\n',\n",
       " 'माझ्या आठवणी व अनुभव भाग १, २ व ३\\n',\n",
       " 'माझ्या आठवणी व अनुभव ( पूर्वार्ध)\\n',\n",
       " 'गो.मा.पवार यांची पुस्तके\\n',\n",
       " 'महर्षी विठ्ठल रामजी शिंदे जीवन व कार्य\\n',\n",
       " '- डेव्हनपोर्ट येथील गुड फ्रायडे\\n',\n",
       " '- बर्टन खेड्यातील शाळा कशी दिसली?\\n',\n",
       " '- मंगळूर येथील काही विशेष गोष्टी\\n',\n",
       " '- ईश्वर आणि विश्वास\\n',\n",
       " 'उपदेश देवाचा व आपला संबंध\\n',\n",
       " '- आवड आणि प्रीती\\n',\n",
       " '- मरण म्हणजे काय?\\n',\n",
       " '- ब्राह्म आणि प्रार्थनासमाजास एक विनंती\\n',\n",
       " '- शास्त्र आणि तत्वज्ञान-२\\n',\n",
       " '- धर्म, समाज आणि परिषद\\n',\n",
       " '- धर्म आणि व्यवहार\\n',\n",
       " '- प्रेरणा आणि प्रयत्न\\n',\n",
       " '- मानवी आदर आणि दैवी श्रद्धा-१\\n',\n",
       " '- मानवी स्नेह आणि ईश्वरभक्ती -२\\n',\n",
       " '- मनुष्यसेवा आणि ईश्वरोपासना -३\\n',\n",
       " '- मनाची प्रसन्नता आणि मोक्षप्राप्ती-४\\n',\n",
       " '- वृत्ती, विश्वास आणि मते\\n',\n",
       " '- स्त्री-दैवत\\n',\n",
       " '- दान आणि ऋण\\n',\n",
       " 'विभाग तिसरा : इतर लेख\\n',\n",
       " '- आपला व खालील प्राण्यांचा संबंध\\n',\n",
       " '- प्रार्थनासमाज अप्रिय असल्यास तो का?\\n',\n",
       " '- डॉ. भांडारकरांस मानपत्र\\n',\n",
       " '- प्रार्थनासमाजाचा एक नमुना\\n',\n",
       " '- इतिहास, संशोधन व भाषाशास्त्र\\n',\n",
       " '- मुंबई येथील मानपत्रास उत्तर\\n',\n",
       " '- सही नाही; सहानुभूती!\\n',\n",
       " '- महर्षी शिंदे ह्यांचे पहिले कीर्तन\\n',\n",
       " '- कोल्हापूर येथील धर्मविषयक चळवळ व\\n',\n",
       " '- परलोकवासी विठ्ठल रामजी शिंदे\\n',\n",
       " '- कै. अण्णासाहेब शिंदे, चरित्र व कार्य\\n',\n",
       " '- प.वा. अण्णासाहेब शिंदे\\n',\n",
       " '- १९ मार्च १९३३-७१ वा वाढदिवस\\n',\n",
       " '- श्री. महाराजांचे अस्पृश्योद्धारक कार्य-श्रीमंत\\n',\n",
       " 'सयाजीराव गायकवाड\\n',\n",
       " '- लाहोर येथील धर्म परिषद\\n',\n",
       " '- सुधारकांची जुनी परंपरा (स्फुट)\\n',\n",
       " '- विठ्ठल रामजी शिंदे व श्री शाहू छत्रपती\\n',\n",
       " '- विठ्ठल रामजी शिंदे व सयाजीराव गायकवाड\\n',\n",
       " '- विठ्ठल रामजी शिंदे व महात्मा गांधी\\n',\n",
       " '- वि.रा. शिंदे व राजाराम छत्रपती\\n',\n",
       " '- रोगनिवारक प्रयत्न-एक निकडीची विनंती\\n',\n",
       " '- मोफत व सक्तीचे शिक्षण नको !!\\n',\n",
       " '- डी.सी.मिशनचा १७ वा वाढदिवस\\n',\n",
       " '- यश परिणामात नसून प्रयत्नात आहे.\\n',\n",
       " '- शिवाजी की रामदास?\\n',\n",
       " '- श्री. विठ्ठल रामजी शिंदे व सुबोध पत्रिका\\n',\n",
       " '- कै. डॉ. संतूजी रामजी लाड\\n',\n",
       " '\\n',\n",
       " 'टीव्ही-नाटक\\n',\n",
       " 'दुष्काळाशी दोन हात\\n',\n",
       " 'By: एबीपी माझा वेब टीम _ Last Updated: 07 Dec 2017 11:31 PM अधिक माहिती: Instagram sherlyn chopra इन्स्टाग्राम शर्लिन चोप्रा\\n',\n",
       " \"'कामसूत्र 3 डी'ची अभिनेत्री शर्लिन चोप्राने इन्स्टाग्रामवर हॉट फोटो पोस्ट केले आहेत.\\n\",\n",
       " \"'कामसूत्र 3 डी'मुळे शर्लिन चर्चेत आली होती. त्यानंतर 2014 साली सिनेदिग्दर्शक रुपेश पॉल यांच्यासोबत वाद झाल्यानंतरही शर्लिन पुन्हा चर्चेत आली होती.\\n\",\n",
       " 'इन्स्टाग्रामवर शर्लिनचे 3 लाख 61 हजारांहून अधिक फॉलोअर्स आहेत.\\n',\n",
       " 'शर्लिन एमटीव्हीवरील Spitsvilla कार्यक्रमातही सहभागी झाली होती.\\n',\n",
       " 'बिग बॉसच्या तिसऱ्या सीझनमध्ये शर्लिन स्पर्धक होती.\\n',\n",
       " 'शर्लिनचं खरं नाव मोना चोप्रा असून, ती मूळची हैदराबादची आहे.\\n',\n",
       " 'पाहा आणखी फोटो...\\n',\n",
       " 'रांगोळीच्या माध्यमातून डिजिटल इंडियाचा संदेश\\n',\n",
       " 'महिंद्राची नवी भारदस्त कार, किंमत...\\n',\n",
       " 'आझाद मैदानावर लाल वादळ!\\n',\n",
       " 'मुंबई : संपूर्ण राज्यात गेल्या 15 दिवसात 20 हजार मेगावॅट विजेचा वापर\\n',\n",
       " 'गाव तिथे माझा : गावाकडच्या बातम्या\\n',\n",
       " '\\n',\n",
       " 'सातारा जिल्हा\\n',\n",
       " 'कराड : कराड विमानतळ विस्तारवाढीला प्रशासनाने गती दिली आहे. वारूंजी येथील २८ बाधीत खातेदारांना उपविभागीय कार्यालयाने नोटीस बजावली आहे. आपल्या मालकची घरे, गोठे, वर्कशॉप आदींच्या पुर्नबांधणीसाठी निधी मंजूर झाला आहे. त्याअनुषंगे चर्चा करण्यासाठी तहसीलदार कार्यालयात दि. १० ऑगस्ट रोजी सकाळी १० वाजता बैठकीला हजर राहण्याची नोटीस बजावण्यात आली आहे. या बैठकीला उपस्थित राहण्याचे आवाहन प्रशासनाने केले आहे.\\n',\n",
       " 'जिल्हाधिकारी कार्यालयात सद्\\u200cभावना दिन साजरा\\n',\n",
       " 'जिल्हाधिकारी कार्यालयात जिल्हाधिकारी श्वेता सिंघल यांच्या प्रमुख उपस्थितीत सद्\\u200cभावना दिन साजरा करण्यात आला.\\n',\n",
       " 'मराठा समाजाला आरक्षण यासह विविध मागणी घेऊन कराडच्या मराठा रणरागिनींनी मुंबई येथील आझाद मैदानावर दि. २३ ऑगस्टपासून बेमुदत ठिय्या आंदोलनाला प्रारंभ करत आहेत.\\n',\n",
       " 'कराड बसस्थानकाचे येत्या तीन महिन्यात उद्घाटन : ना. दिवाकर रावते यांची माहिती\\n',\n",
       " 'दर दोन वर्षांनी बसस्थानक परिसरात करावे लागणारे डांबरीकरण, त्यावर येणार सातत्याचा खर्च, पडणारे खड्डे यावर कायम स्वरूपी पर्याय म्हणून राज्यातील सर्व बसस्थानक परिसरात काँक्रेटीकरण करण्याचा निर्णय आम्ही घेतला आहे.\\n',\n",
       " 'बारा नगरसेवकांच्या अनुपस्थितीत आ. शशिकांत शिंदे यांनी घेतला विकासकामांचा आढावा\\n',\n",
       " 'नगराध्यक्ष राजाभाऊ बर्गे यांच्यासह तब्बल बारा नगरसेवकांच्या अनुपस्थितीत आ. शशिकांत शिंदे यांनी कोरेगाव शहराच्या विविध विकासकामांचा आढावा घेतला.\\n',\n",
       " '\\n',\n",
       " 'दिवाळी अंक २०१७\\n',\n",
       " 'आजचे राशीभविष्य\\n',\n",
       " 'आमच्या विषयी\\n',\n",
       " 'आमिर खान व किरण उमरेड-करांडला अभयारण्यात!\\n',\n",
       " 'मुंबईचा नवीन विकास आराखडा बिल्डर धार्जिणा - संजय निरुपम\\n',\n",
       " 'जिल्हा परिषद शिक्षकांच्या ऑनलाइन बदल्या\\n',\n",
       " 'या साऱ्यात त्याला शहरी राहणीमानाची पुसटशी आठवणही येत नाही. मुख्य म्हणजे इथे आल्यावर आपल्याला अंतर्मनाची साद ऐकू येते\\n',\n",
       " 'काही कलाकार हे कलाविश्वासोबतच इतरही क्षेत्रांमध्ये सक्रिय असतात. तर काही इतर क्षेत्रांमध्ये योगदान देण्यासाठी चक्क कलेचाही त्याग करतात. अभिनेता राजेश कुमारसुद्धा सध्या याच मार्गावर चालत असल्याचं पाहायला मिळत आहे. कारण आपल्या खेडेगावाला स्मार्ट खेडेगाव करण्यासाठी योगदान देऊ इच्छिणाऱ्या राजेशने अभिनय क्षेत्रातून काही काळ काढता पाय घेतला आहे.\\n',\n",
       " 'अभिनय विश्वाकडे पाठ फिरवून त्याने बिहारमधील बर्मा गावाला स्मार्ट बनवण्याच्या हेतूने काही महत्तावाची पावलं उचलली आहेत. या गावात शेतीच्या अुशंगाने काही महत्त्वाच्या गोष्टींचं मार्गदर्शन करण्यासोबतच जैविक शेती करण्यासाठी त्याने बर्मावासियांना प्रोत्साहित केलं आहे. आपल्या गावाचे ऋण फेडण्यासाठी म्हणून राजेशने हा निर्णय घेतला असून या खेडेगावात वीज उपलब्ध करुन देण्यातही त्याचा मोलाचा वाटा आहे.\\n',\n",
       " 'वाचा : बलात्कार करणाऱ्यांना जगण्याचा हक्क नाही; रेणुका शहाणे यांची जळजळीत पोस्ट\\n',\n",
       " 'महत्त्वाच्या बातम्या\\n',\n",
       " \"'ब्रह्मज्ञानी' माणसाने बलात्कार करणे पाप नाही - आसाराम बापू\\n\",\n",
       " 'आकाशात विमानाचे हेलकावे, राहुल गांधी थोडक्यात बचावले; काँग्रेसने केली तक्रार\\n',\n",
       " \"'श्रीसंत मला प्रेरणा देतो, शंका किंवा अडचण असल्यास त्याचा सल्ला घेतो'\\n\",\n",
       " 'ताज्या बातम्यांसाठी लोकसत्ताचे मोबाईल अॅप डाऊनलोड करा.\\n',\n",
       " 'आणखी महत्त्वाच्या बातम्या\\n',\n",
       " 'खालील बातम्या तुम्ही वाचल्या का?\\n',\n",
       " \"#Sanju : येरवड्यातून बाहेर आलेला 'संजू' म्हणतोय, 'अपना लाइफ फुल सापसिडी का बोर्ड है'\\n\",\n",
       " 'Video : आलियाने अशी पूर्ण केली आपल्या चाहत्याची इच्छा\\n',\n",
       " 'साने गुरुजी यांच्या हस्तलिखितांचे जतन\\n',\n",
       " '‘लोकसत्ता लोकांकिका’ पुन्हा पाहण्याची संधी\\n',\n",
       " 'परीक्षांचा काळ आणि विजेचा ‘दुष्काळ’\\n',\n",
       " '\\n',\n",
       " 'दिवाळी अंक २०१७\\n',\n",
       " 'आजचे राशीभविष्य\\n',\n",
       " 'आमच्या विषयी\\n',\n",
       " 'अतिरिक्त विजेपोटी ३८५० कोटी रुपयांचा भुर्दंड\\n',\n",
       " 'काही स्वयंसेवी संस्थांसह पोलिसांनी तेथील वाहतूक व्यवस्था सांभाळत चितारओळीतून मूर्ती काढण्यासाठी मंडळाना सहकार्य केले.\\n',\n",
       " 'लाडक्या गणरायाची मूर्ती खरेदी केल्यानंतर ‘मंगलमूर्ती मोरया’ असा जयघोष करीत कोणी कारमध्ये, कोणी दुचाकी वाहनावर तर कोणी मोठय़ा वाहनांमध्ये मूर्ती घेऊन जात होते.\\n',\n",
       " 'यावेळी गणपतीच्या मूर्तीवर गुलाबवृष्टी केली जात होती. चितारओळ परिसरात लोकांची गर्दी बघता सकाळपासून बडकस चौकातून गांधी पुतळाकडे आणि चितारओळीकडे जाणारे मार्ग बंद करण्यात आले होते. सेंट्रल अ\\u200dॅव्हेन्यू येथे मेट्रोचे काम सुरू आहे. रस्त्याच्या आजूबाजूला दुकाने थाटण्यात आली आहेत. शिवाय गणपतीच्या मूर्ती नेण्यासाठी मोठय़ा वाहनांच्या रांगा होत्या. त्यामुळे दुपारनंतर या मार्गावरील वाहतूक खोळंबली होती.\\n',\n",
       " 'दोन दिवसापूर्वी आगमन झालेल्या रेशीमबागेतील नागपूरचा राजा, संती गणेश मंडळ आणि पाताळेश्वर मंदिराजवळील महालचा राजाची प्रतिष्ठापना आज सकाळी करण्यात आली. भोसलेकालीन गांडल्याचा गणपती आणि महालातील भोसले वाडय़ातील गणपतीची मूर्ती पालखीतून नेण्यात आली. विविध सार्वजानिक मंडळात सजावट व देखाव्यांवर अंतिम हात फिरवला जात होता.\\n',\n",
       " 'ताज्या बातम्यांसाठी लोकसत्ताचे मोबाईल अॅप डाऊनलोड करा.\\n',\n",
       " 'आणखी महत्त्वाच्या बातम्या\\n',\n",
       " 'खालील बातम्या तुम्ही वाचल्या का?\\n',\n",
       " 'घटस्फोटानंतर मलायका म्हणते, आता मी शांततापूर्ण जीवन जगतेय\\n',\n",
       " 'Loksatta.Com वर असा अपलोड करा तुमच्या घरच्या बाप्पाचा फोटो\\n',\n",
       " 'जगातील सर्वात मोठी योजना मोदींनी केली लाँच, काय आहे आयुष्मान भारत समजून घ्या..\\n',\n",
       " \"'इंडियन आयडॉल १०'च्या सेटवर नेहा कक्कडने दिली प्रेमाची कबुली\\n\",\n",
       " 'महाराष्ट्र हे देशाचे ऊर्जा केंद्र - फडणवीस\\n',\n",
       " 'आशिया चषक क्रिकेट स्पर्धा : पाकिस्तानच्या धक्कातंत्राची भारताला चिंता\\n',\n",
       " '\\n',\n",
       " ...]"
      ]
     },
     "execution_count": 52,
     "metadata": {},
     "output_type": "execute_result"
    }
   ],
   "source": [
    "text"
   ]
  },
  {
   "cell_type": "code",
   "execution_count": 51,
   "metadata": {},
   "outputs": [
    {
     "ename": "AttributeError",
     "evalue": "'list' object has no attribute 'split'",
     "output_type": "error",
     "traceback": [
      "\u001b[1;31m---------------------------------------------------------------------------\u001b[0m",
      "\u001b[1;31mAttributeError\u001b[0m                            Traceback (most recent call last)",
      "Cell \u001b[1;32mIn[51], line 1\u001b[0m\n\u001b[1;32m----> 1\u001b[0m \u001b[38;5;28mprint\u001b[39m(\u001b[38;5;28mlen\u001b[39m(\u001b[43mtext\u001b[49m\u001b[38;5;241;43m.\u001b[39;49m\u001b[43msplit\u001b[49m()))\n",
      "\u001b[1;31mAttributeError\u001b[0m: 'list' object has no attribute 'split'"
     ]
    }
   ],
   "source": [
    "print(len(text.split()))"
   ]
  },
  {
   "cell_type": "code",
   "execution_count": 44,
   "metadata": {},
   "outputs": [],
   "source": [
    "a= text[0].split()\n",
    "index = torch.randint(low=0 , high=len(a)-20, size=(8,)).tolist()"
   ]
  },
  {
   "cell_type": "code",
   "execution_count": 13,
   "metadata": {},
   "outputs": [],
   "source": [
    "class TextDataset(torch.utils.data.Dataset):\n",
    "\n",
    "    def __init__(self, file_path:str, tokenizer:LlamaTokenizerFast, context_length: int, batch_size: int):\n",
    "        self.text_file = self.read_text_from_file(file_path)\n",
    "        self.context_length = context_length\n",
    "        self.batch_size = batch_size\n",
    "        self.tokenizer = tokenizer\n",
    "        self.tokenized = self.text_file.split()\n",
    "        self.index = torch.randint(low=0 , high=len(self.tokenized)-context_length, size=(batch_size,)).tolist()\n",
    "        # self.X =[]\n",
    "        # self.Y =[]\n",
    "        # for idx in self.index:\n",
    "        #     self.X.append(self.tokenized[idx:idx+context_length])\n",
    "        #     self.Y.append(self.tokenized[idx+1:idx+1+context_length])\n",
    "        # self.N = len(self.X) \n",
    "    \n",
    "    \n",
    "    def read_text_from_file(self,file_path):\n",
    "        with open(file_path, 'r', encoding='utf-8') as file:\n",
    "            return file.read()\n",
    "        \n",
    "\n",
    "    # def __getitem__(self, idx):\n",
    "    #     return (self.X[idx], self.Y[idx])\n",
    "    \n",
    "    def __getitem__(self, idx):\n",
    "        return (self.tokenized[idx:idx+self.context_length] , self.tokenized[idx+1:idx+1+self.context_length])\n",
    "\n",
    "    def __len__(self):\n",
    "        return 12"
   ]
  },
  {
   "cell_type": "code",
   "execution_count": 15,
   "metadata": {},
   "outputs": [],
   "source": [
    "file_path = 'D:\\mr_dataset\\mr.txt'"
   ]
  },
  {
   "cell_type": "code",
   "execution_count": 16,
   "metadata": {},
   "outputs": [],
   "source": [
    "train_data = TextDataset(file_path= file_path, tokenizer=tokenizer_loaded, context_length=256, batch_size=8 )"
   ]
  },
  {
   "cell_type": "code",
   "execution_count": null,
   "metadata": {},
   "outputs": [],
   "source": [
    "class TextiterDataset(torch.utils.data.IterableDataset):\n",
    "    def __init__(self,file_path, tokenizer:LlamaTokenizerFast, context_length: int, batch_size: int):\n",
    "        self.text = self.read_text_from_file(file_path)\n",
    "        self.context_length = context_length\n",
    "        self.batch_size = batch_size\n",
    "        self.tokenizer = tokenizer\n",
    "        self.tokenized = self.text_file.split()\n",
    "        self.index = torch.randint(low=0 , high=len(self.tokenized)-context_length, size=(batch_size,)).tolist()\n",
    "        \n",
    "        \n",
    "    \n",
    "\n",
    "    def read_text_from_file(self,file_path):\n",
    "        with open(file_path, 'r', encoding='utf-8') as file:\n",
    "            return file.read()\n",
    "        \n",
    "    def __iter__(self):\n",
    "        return (self.tokenized[idx:idx+self.context_length] , self.tokenized[idx+1:idx+1+self.context_length])"
   ]
  },
  {
   "cell_type": "code",
   "execution_count": 17,
   "metadata": {},
   "outputs": [],
   "source": [
    "BATCH_SIZE = 8\n",
    "\n",
    "train_dataloader = DataLoader(train_data , batch_size=BATCH_SIZE , shuffle=True)\n",
    "\n",
    "# test_dataloader = DataLoader(test_data , batch_size=BATCH_SIZE , shuffle=False)\n",
    "\n",
    "# print(f\"Dataloaders: {train_dataloader, test_dataloader}\")\n",
    "# print(f\"Length of train dataloader: {len(train_dataloader)} batches of {BATCH_SIZE}\")\n",
    "# print(f\"Length of test dataloader: {len(test_dataloader)} batches of {BATCH_SIZE}\")\n"
   ]
  },
  {
   "cell_type": "code",
   "execution_count": 19,
   "metadata": {},
   "outputs": [
    {
     "ename": "AttributeError",
     "evalue": "'list' object has no attribute 'shape'",
     "output_type": "error",
     "traceback": [
      "\u001b[1;31m---------------------------------------------------------------------------\u001b[0m",
      "\u001b[1;31mAttributeError\u001b[0m                            Traceback (most recent call last)",
      "Cell \u001b[1;32mIn[19], line 3\u001b[0m\n\u001b[0;32m      1\u001b[0m train_feature_batch, train_labels_batche \u001b[38;5;241m=\u001b[39m \u001b[38;5;28mnext\u001b[39m(\u001b[38;5;28miter\u001b[39m(train_dataloader))\n\u001b[1;32m----> 3\u001b[0m \u001b[43mtrain_feature_batch\u001b[49m\u001b[38;5;241;43m.\u001b[39;49m\u001b[43mshape\u001b[49m ,train_labels_batche\u001b[38;5;241m.\u001b[39mshape\n",
      "\u001b[1;31mAttributeError\u001b[0m: 'list' object has no attribute 'shape'"
     ]
    }
   ],
   "source": [
    "train_feature_batch, train_labels_batche = next(iter(train_dataloader))\n",
    "\n",
    "train_feature_batch.shape ,train_labels_batche.shape"
   ]
  },
  {
   "cell_type": "code",
   "execution_count": 24,
   "metadata": {},
   "outputs": [],
   "source": [
    "tokenizer_loaded.add_special_tokens({'pad_token': '[PAD]'})\n",
    "tokenizer_loaded.padding_side = \"right\"\n",
    "#tokenizer.add_special_tokens({'pad_token': '[PAD]'})"
   ]
  },
  {
   "cell_type": "code",
   "execution_count": 123,
   "metadata": {},
   "outputs": [],
   "source": [
    "def get_random_chunk(filename):\n",
    "    \n",
    "    with open(filename, 'rb') as f:\n",
    "        block_size = 30\n",
    "        batch_size=8\n",
    "        with mmap.mmap(f.fileno(), 0, access=mmap.ACCESS_READ) as mm:\n",
    "            # Determine the file size and a random position to start reading\n",
    "            file_size = len(mm)\n",
    "            start_pos = random.randint(0, (file_size) - block_size*batch_size)\n",
    "\n",
    "            # Seek to the random position and read the block of text\n",
    "            mm.seek(start_pos)\n",
    "            block = mm.read(block_size*batch_size-1)\n",
    "\n",
    "            # Decode the block to a string, ignoring any invalid byte sequences\n",
    "            decoded_block = block.decode('utf-8', errors='ignore').replace('\\r', '')\n",
    "            \n",
    "            # Train and test splits\n",
    "            #data = torch.tensor(tokenizer_loaded.encode(decoded_block), dtype=torch.long)\n",
    "            # data = tokenizer_loaded.encode(decoded_block,padding='max_length' ,max_length=100)\n",
    "            data = tokenizer_loaded.encode(decoded_block)\n",
    "            \n",
    "    return data #decoded_block"
   ]
  },
  {
   "cell_type": "code",
   "execution_count": 124,
   "metadata": {},
   "outputs": [
    {
     "name": "stdout",
     "output_type": "stream",
     "text": [
      "68\n"
     ]
    }
   ],
   "source": [
    "print(len(get_random_chunk(filename='D:\\mr_dataset\\mr.txt')))"
   ]
  },
  {
   "cell_type": "code",
   "execution_count": 125,
   "metadata": {},
   "outputs": [
    {
     "name": "stdout",
     "output_type": "stream",
     "text": [
      "[1, 5, 58, 0, 16, 3, 17, 50, 87, 7, 49, 32, 34, 8, 77, 163, 36, 9, 30, 32, 8, 190, 8, 3, 18, 17, 50, 27, 3, 8, 13, 7, 140, 165, 70, 54, 3, 50, 106, 9, 120, 21, 3, 18, 17, 190, 46, 127, 7, 140, 165, 5, 136, 91, 119, 5, 167, 48, 50, 53, 187, 3, 32, 9, 5]\n"
     ]
    }
   ],
   "source": [
    "print(get_random_chunk(filename='D:\\mr_dataset\\mr.txt'))"
   ]
  },
  {
   "cell_type": "code",
   "execution_count": 163,
   "metadata": {},
   "outputs": [],
   "source": [
    "def get_batch():\n",
    "    block_size = 30\n",
    "    batch_size=1\n",
    "    input_ids, seq_lengths, output_ids= [], [],[]\n",
    "    \n",
    "    \n",
    "    # data = get_random_chunk(filename='D:\\mr_dataset\\mr.txt')\n",
    "    # ix = torch.randint(len(data) - block_size, (batch_size,))\n",
    "    for _ in range(batch_size):\n",
    "        data = get_random_chunk(filename='D:\\mr_dataset\\mr.txt')\n",
    "        input_ids.extend(data[:block_size])\n",
    "        output_ids.extend(data[1:block_size+1])\n",
    "        seq_lengths.append(len(data))\n",
    "    # input_ids.extend([data[i:i+block_size] for i in ix])\n",
    "    # seq_lengths.append(len(input_ids))\n",
    "    x = torch.tensor(input_ids, dtype=torch.long)\n",
    "   \n",
    "    # x = torch.stack([data[i:i+block_size] for i in ix])\n",
    "    # for i in range(batch_size):\n",
    "    #     output_ids.extend(data[i+1:i+block_size+1])\n",
    "    # output_ids.extend([data[i+7:i+block_size+7] for i in ix])\n",
    "    y = torch.tensor(output_ids, dtype=torch.long)\n",
    "    \n",
    "    # y = torch.stack([data[i+1:i+block_size+1] for i in ix])\n",
    "    # x, y = x.to(device), y.to(device)\n",
    "    #return [data[i:i+block_size] for i in ix],[data[i+7:i+block_size+7] for i in ix]\n",
    "\n",
    "    x, y = x.pin_memory().to(device, non_blocking=True), y.pin_memory().to(device, non_blocking=True)\n",
    "    return x,y ,seq_lengths"
   ]
  },
  {
   "cell_type": "code",
   "execution_count": 166,
   "metadata": {},
   "outputs": [],
   "source": [
    "x,y,seq_lengths =get_batch()"
   ]
  },
  {
   "cell_type": "code",
   "execution_count": 167,
   "metadata": {},
   "outputs": [
    {
     "data": {
      "text/plain": [
       "(torch.Size([30]), torch.Size([30]), [58])"
      ]
     },
     "execution_count": 167,
     "metadata": {},
     "output_type": "execute_result"
    }
   ],
   "source": [
    "x.shape, y.shape , seq_lengths"
   ]
  },
  {
   "cell_type": "code",
   "execution_count": 149,
   "metadata": {},
   "outputs": [
    {
     "data": {
      "text/plain": [
       "torch.int64"
      ]
     },
     "execution_count": 149,
     "metadata": {},
     "output_type": "execute_result"
    }
   ],
   "source": [
    "x.dtype"
   ]
  },
  {
   "cell_type": "code",
   "execution_count": 36,
   "metadata": {},
   "outputs": [],
   "source": [
    "@torch.no_grad()\n",
    "def estimate_loss():\n",
    "    out = {}\n",
    "    model.eval()\n",
    "    X, Y = get_batch()\n",
    "    logits = model(X, Y)\n",
    "    \n",
    "    model.train()\n",
    "    return out"
   ]
  },
  {
   "cell_type": "code",
   "execution_count": 68,
   "metadata": {},
   "outputs": [
    {
     "data": {
      "text/plain": [
       "(torch.Size([8, 10]), torch.Size([8, 10]))"
      ]
     },
     "execution_count": 68,
     "metadata": {},
     "output_type": "execute_result"
    }
   ],
   "source": [
    "X, Y = get_batch()\n",
    "X.shape, Y.shape"
   ]
  },
  {
   "cell_type": "code",
   "execution_count": 76,
   "metadata": {},
   "outputs": [
    {
     "data": {
      "text/plain": [
       "8"
      ]
     },
     "execution_count": 76,
     "metadata": {},
     "output_type": "execute_result"
    }
   ],
   "source": [
    "len(X)"
   ]
  },
  {
   "cell_type": "code",
   "execution_count": 133,
   "metadata": {},
   "outputs": [
    {
     "ename": "AssertionError",
     "evalue": "(529, 240)",
     "output_type": "error",
     "traceback": [
      "\u001b[1;31m---------------------------------------------------------------------------\u001b[0m",
      "\u001b[1;31mAssertionError\u001b[0m                            Traceback (most recent call last)",
      "Cell \u001b[1;32mIn[133], line 1\u001b[0m\n\u001b[1;32m----> 1\u001b[0m logits \u001b[38;5;241m=\u001b[39m \u001b[43mmodel\u001b[49m\u001b[43m(\u001b[49m\u001b[43minput_ids\u001b[49m\u001b[38;5;241;43m=\u001b[39;49m\u001b[43mx\u001b[49m\u001b[43m,\u001b[49m\u001b[43m \u001b[49m\u001b[43mseqlens\u001b[49m\u001b[38;5;241;43m=\u001b[39;49m\u001b[43mseq_lengths\u001b[49m\u001b[43m)\u001b[49m\n",
      "File \u001b[1;32md:\\my-llm\\llm\\lib\\site-packages\\torch\\nn\\modules\\module.py:1511\u001b[0m, in \u001b[0;36mModule._wrapped_call_impl\u001b[1;34m(self, *args, **kwargs)\u001b[0m\n\u001b[0;32m   1509\u001b[0m     \u001b[38;5;28;01mreturn\u001b[39;00m \u001b[38;5;28mself\u001b[39m\u001b[38;5;241m.\u001b[39m_compiled_call_impl(\u001b[38;5;241m*\u001b[39margs, \u001b[38;5;241m*\u001b[39m\u001b[38;5;241m*\u001b[39mkwargs)  \u001b[38;5;66;03m# type: ignore[misc]\u001b[39;00m\n\u001b[0;32m   1510\u001b[0m \u001b[38;5;28;01melse\u001b[39;00m:\n\u001b[1;32m-> 1511\u001b[0m     \u001b[38;5;28;01mreturn\u001b[39;00m \u001b[38;5;28mself\u001b[39m\u001b[38;5;241m.\u001b[39m_call_impl(\u001b[38;5;241m*\u001b[39margs, \u001b[38;5;241m*\u001b[39m\u001b[38;5;241m*\u001b[39mkwargs)\n",
      "File \u001b[1;32md:\\my-llm\\llm\\lib\\site-packages\\torch\\nn\\modules\\module.py:1520\u001b[0m, in \u001b[0;36mModule._call_impl\u001b[1;34m(self, *args, **kwargs)\u001b[0m\n\u001b[0;32m   1515\u001b[0m \u001b[38;5;66;03m# If we don't have any hooks, we want to skip the rest of the logic in\u001b[39;00m\n\u001b[0;32m   1516\u001b[0m \u001b[38;5;66;03m# this function, and just call forward.\u001b[39;00m\n\u001b[0;32m   1517\u001b[0m \u001b[38;5;28;01mif\u001b[39;00m \u001b[38;5;129;01mnot\u001b[39;00m (\u001b[38;5;28mself\u001b[39m\u001b[38;5;241m.\u001b[39m_backward_hooks \u001b[38;5;129;01mor\u001b[39;00m \u001b[38;5;28mself\u001b[39m\u001b[38;5;241m.\u001b[39m_backward_pre_hooks \u001b[38;5;129;01mor\u001b[39;00m \u001b[38;5;28mself\u001b[39m\u001b[38;5;241m.\u001b[39m_forward_hooks \u001b[38;5;129;01mor\u001b[39;00m \u001b[38;5;28mself\u001b[39m\u001b[38;5;241m.\u001b[39m_forward_pre_hooks\n\u001b[0;32m   1518\u001b[0m         \u001b[38;5;129;01mor\u001b[39;00m _global_backward_pre_hooks \u001b[38;5;129;01mor\u001b[39;00m _global_backward_hooks\n\u001b[0;32m   1519\u001b[0m         \u001b[38;5;129;01mor\u001b[39;00m _global_forward_hooks \u001b[38;5;129;01mor\u001b[39;00m _global_forward_pre_hooks):\n\u001b[1;32m-> 1520\u001b[0m     \u001b[38;5;28;01mreturn\u001b[39;00m forward_call(\u001b[38;5;241m*\u001b[39margs, \u001b[38;5;241m*\u001b[39m\u001b[38;5;241m*\u001b[39mkwargs)\n\u001b[0;32m   1522\u001b[0m \u001b[38;5;28;01mtry\u001b[39;00m:\n\u001b[0;32m   1523\u001b[0m     result \u001b[38;5;241m=\u001b[39m \u001b[38;5;28;01mNone\u001b[39;00m\n",
      "File \u001b[1;32md:\\my-llm\\mistral-src-commented\\mistral\\model.py:302\u001b[0m, in \u001b[0;36mTransformer.forward\u001b[1;34m(self, input_ids, seqlens, cache)\u001b[0m\n\u001b[0;32m    296\u001b[0m \u001b[38;5;28;01mdef\u001b[39;00m \u001b[38;5;21mforward\u001b[39m(\n\u001b[0;32m    297\u001b[0m     \u001b[38;5;28mself\u001b[39m,\n\u001b[0;32m    298\u001b[0m     input_ids: torch\u001b[38;5;241m.\u001b[39mTensor, \u001b[38;5;66;03m# The concatenated tokens of the batch\u001b[39;00m\n\u001b[0;32m    299\u001b[0m     seqlens: List[\u001b[38;5;28mint\u001b[39m], \u001b[38;5;66;03m# The sequence length of each input in the batch (so we can understand which token belongs to which prompt)\u001b[39;00m\n\u001b[0;32m    300\u001b[0m     cache: Optional[RotatingBufferCache] \u001b[38;5;241m=\u001b[39m \u001b[38;5;28;01mNone\u001b[39;00m,\n\u001b[0;32m    301\u001b[0m ) \u001b[38;5;241m-\u001b[39m\u001b[38;5;241m>\u001b[39m torch\u001b[38;5;241m.\u001b[39mTensor:\n\u001b[1;32m--> 302\u001b[0m     h \u001b[38;5;241m=\u001b[39m \u001b[38;5;28;43mself\u001b[39;49m\u001b[38;5;241;43m.\u001b[39;49m\u001b[43mforward_partial\u001b[49m\u001b[43m(\u001b[49m\u001b[43minput_ids\u001b[49m\u001b[43m,\u001b[49m\u001b[43m \u001b[49m\u001b[43mseqlens\u001b[49m\u001b[43m,\u001b[49m\u001b[43m \u001b[49m\u001b[43mcache\u001b[49m\u001b[38;5;241;43m=\u001b[39;49m\u001b[43mcache\u001b[49m\u001b[43m)\u001b[49m\n\u001b[0;32m    303\u001b[0m     \u001b[38;5;28;01mif\u001b[39;00m \u001b[38;5;28mself\u001b[39m\u001b[38;5;241m.\u001b[39mpipeline_rank \u001b[38;5;241m<\u001b[39m \u001b[38;5;28mself\u001b[39m\u001b[38;5;241m.\u001b[39mnum_pipeline_ranks \u001b[38;5;241m-\u001b[39m \u001b[38;5;241m1\u001b[39m:\n\u001b[0;32m    304\u001b[0m         \u001b[38;5;66;03m# ignore the intermediate activations as we'll get the final output from\u001b[39;00m\n\u001b[0;32m    305\u001b[0m         \u001b[38;5;66;03m# the last stage\u001b[39;00m\n\u001b[0;32m    306\u001b[0m         outs \u001b[38;5;241m=\u001b[39m torch\u001b[38;5;241m.\u001b[39mempty(\n\u001b[0;32m    307\u001b[0m             h\u001b[38;5;241m.\u001b[39mshape[\u001b[38;5;241m0\u001b[39m], \u001b[38;5;28mself\u001b[39m\u001b[38;5;241m.\u001b[39mvocab_size, device\u001b[38;5;241m=\u001b[39mh\u001b[38;5;241m.\u001b[39mdevice, dtype\u001b[38;5;241m=\u001b[39mh\u001b[38;5;241m.\u001b[39mdtype\n\u001b[0;32m    308\u001b[0m         )\n",
      "File \u001b[1;32md:\\my-llm\\mistral-src-commented\\mistral\\model.py:254\u001b[0m, in \u001b[0;36mTransformer.forward_partial\u001b[1;34m(self, input_ids, seqlens, cache)\u001b[0m\n\u001b[0;32m    250\u001b[0m \u001b[38;5;28;01massert\u001b[39;00m (\n\u001b[0;32m    251\u001b[0m     \u001b[38;5;28mlen\u001b[39m(seqlens) \u001b[38;5;241m<\u001b[39m\u001b[38;5;241m=\u001b[39m \u001b[38;5;28mself\u001b[39m\u001b[38;5;241m.\u001b[39margs\u001b[38;5;241m.\u001b[39mmax_batch_size\n\u001b[0;32m    252\u001b[0m ), \u001b[38;5;124mf\u001b[39m\u001b[38;5;124m\"\u001b[39m\u001b[38;5;124mMax batch size is \u001b[39m\u001b[38;5;132;01m{\u001b[39;00m\u001b[38;5;28mself\u001b[39m\u001b[38;5;241m.\u001b[39margs\u001b[38;5;241m.\u001b[39mmax_batch_size\u001b[38;5;132;01m}\u001b[39;00m\u001b[38;5;124m, got batch size of \u001b[39m\u001b[38;5;132;01m{\u001b[39;00m\u001b[38;5;28mlen\u001b[39m(seqlens)\u001b[38;5;132;01m}\u001b[39;00m\u001b[38;5;124m\"\u001b[39m\n\u001b[0;32m    253\u001b[0m (num_toks,) \u001b[38;5;241m=\u001b[39m input_ids\u001b[38;5;241m.\u001b[39mshape\n\u001b[1;32m--> 254\u001b[0m \u001b[38;5;28;01massert\u001b[39;00m \u001b[38;5;28msum\u001b[39m(seqlens) \u001b[38;5;241m==\u001b[39m num_toks, (\u001b[38;5;28msum\u001b[39m(seqlens), num_toks)\n\u001b[0;32m    255\u001b[0m \u001b[38;5;28;01mif\u001b[39;00m cache \u001b[38;5;129;01mis\u001b[39;00m \u001b[38;5;129;01mnot\u001b[39;00m \u001b[38;5;28;01mNone\u001b[39;00m:\n\u001b[0;32m    256\u001b[0m     \u001b[38;5;66;03m# Generate the attention mask based on the current stage: first pre-fill, subsequent pre-fill or token generation.\u001b[39;00m\n\u001b[0;32m    257\u001b[0m     input_metadata \u001b[38;5;241m=\u001b[39m cache\u001b[38;5;241m.\u001b[39mget_input_metadata(seqlens)\n",
      "\u001b[1;31mAssertionError\u001b[0m: (529, 240)"
     ]
    }
   ],
   "source": [
    "logits = model(input_ids=x, seqlens=seq_lengths)"
   ]
  },
  {
   "cell_type": "code",
   "execution_count": null,
   "metadata": {},
   "outputs": [],
   "source": []
  }
 ],
 "metadata": {
  "kernelspec": {
   "display_name": "Python 3",
   "language": "python",
   "name": "python3"
  },
  "language_info": {
   "codemirror_mode": {
    "name": "ipython",
    "version": 3
   },
   "file_extension": ".py",
   "mimetype": "text/x-python",
   "name": "python",
   "nbconvert_exporter": "python",
   "pygments_lexer": "ipython3",
   "version": "3.9.18"
  }
 },
 "nbformat": 4,
 "nbformat_minor": 2
}
